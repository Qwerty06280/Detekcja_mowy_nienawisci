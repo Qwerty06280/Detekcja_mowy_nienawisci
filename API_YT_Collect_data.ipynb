{
 "cells": [
  {
   "cell_type": "markdown",
   "id": "bcf95a19",
   "metadata": {},
   "source": [
    "## 0. Import libraries"
   ]
  },
  {
   "cell_type": "code",
   "execution_count": 1,
   "id": "e0cd3a30",
   "metadata": {},
   "outputs": [],
   "source": [
    "import pandas as pd\n",
    "import os\n",
    "from googleapiclient.discovery import build\n",
    "from typing import List\n",
    "#pip install google-api-python-client"
   ]
  },
  {
   "cell_type": "markdown",
   "id": "29fc4608",
   "metadata": {},
   "source": [
    "## 1. Get API key and connect to Youtube API"
   ]
  },
  {
   "cell_type": "code",
   "execution_count": 2,
   "id": "6668fdc0",
   "metadata": {},
   "outputs": [],
   "source": [
    "yt_api_key = os.environ.get('YT_API_KEY')\n",
    "#print(yt_api_key)\n",
    "yt_connection = build('youtube', 'v3', developerKey = yt_api_key)"
   ]
  },
  {
   "cell_type": "markdown",
   "id": "d25a0942",
   "metadata": {},
   "source": [
    "**a) Test**"
   ]
  },
  {
   "cell_type": "code",
   "execution_count": 4,
   "id": "8c8f3319",
   "metadata": {},
   "outputs": [],
   "source": [
    "request = yt_connection.channels().list(\n",
    "    part = 'statistics',\n",
    "    forUsername='schafer5' # Corey Schafter\n",
    "    )\n",
    "response = request.execute()"
   ]
  },
  {
   "cell_type": "code",
   "execution_count": 5,
   "id": "d6ab9eb7",
   "metadata": {},
   "outputs": [
    {
     "data": {
      "text/plain": [
       "{'kind': 'youtube#channelListResponse',\n",
       " 'etag': 'eTvhligLCojh9BDKXsDlHEQOoEI',\n",
       " 'pageInfo': {'totalResults': 1, 'resultsPerPage': 5},\n",
       " 'items': [{'kind': 'youtube#channel',\n",
       "   'etag': 'x_bxx3k2_8eK8b6rl2JGOVypYLU',\n",
       "   'id': 'UCCezIgC97PvUuR4_gbFUs5g',\n",
       "   'statistics': {'viewCount': '90022941',\n",
       "    'subscriberCount': '1220000',\n",
       "    'hiddenSubscriberCount': False,\n",
       "    'videoCount': '232'}}]}"
      ]
     },
     "execution_count": 5,
     "metadata": {},
     "output_type": "execute_result"
    }
   ],
   "source": [
    "response"
   ]
  },
  {
   "cell_type": "markdown",
   "id": "0b640cea",
   "metadata": {},
   "source": [
    "## 2. Create a function to extract comments for given youtube video"
   ]
  },
  {
   "cell_type": "markdown",
   "id": "510d3389",
   "metadata": {},
   "source": [
    "**How to insert youtube video id?**<br>\n",
    "https://www.youtube.com/watch?v= **dQw4w9WgXcQ**<br>\n",
    "The bolded text functions as a youtube video ID."
   ]
  },
  {
   "cell_type": "code",
   "execution_count": 8,
   "id": "8073a398",
   "metadata": {},
   "outputs": [],
   "source": [
    "def video_comments(video_id: str) -> List:\n",
    "    # empty list for storing replies\n",
    "    replies = []\n",
    "    all_replies = []\n",
    "    # creating youtube resource object\n",
    "    yt_connection = build('youtube', 'v3', developerKey = yt_api_key)\n",
    " \n",
    "    # retrieve youtube video results\n",
    "    video_response=yt_connection.commentThreads().list(\n",
    "        part='snippet,replies',\n",
    "        videoId=video_id,\n",
    "        maxResults = 100 # MAX 100\n",
    "        ).execute()\n",
    "    # iterate video response\n",
    "    while video_response:\n",
    "        # extracting required info\n",
    "        # from each result object\n",
    "        for item in video_response['items']:\n",
    "            # Extracting comments\n",
    "            comment = item['snippet']['topLevelComment']['snippet']['textDisplay']\n",
    "            all_replies.append(comment)\n",
    "            # counting number of reply of comment\n",
    "            replycount = item['snippet']['totalReplyCount']\n",
    " \n",
    "            # if reply is there\n",
    "            if replycount>0:\n",
    "               \n",
    "                # iterate through all reply\n",
    "                for reply in item['replies']['comments']:\n",
    "                   \n",
    "                    # Extract reply\n",
    "                    reply = reply['snippet']['textDisplay']\n",
    "                    \n",
    "                    # Store reply is list\n",
    "                    replies.append(reply)\n",
    "                    all_replies.append(reply)\n",
    " \n",
    "            # empty reply list\n",
    "            replies = []\n",
    "        if len(all_replies) > 5000:\n",
    "            break\n",
    "         #Again repeat\n",
    "        if 'nextPageToken' in video_response:\n",
    "            video_response = yt_connection.commentThreads().list(\n",
    "                    part = 'snippet,replies',\n",
    "                    videoId = video_id,\n",
    "                    maxResults = 100,\n",
    "                    pageToken=video_response['nextPageToken']\n",
    "                    ).execute()\n",
    "        else:\n",
    "            break\n",
    "    return all_replies"
   ]
  },
  {
   "cell_type": "markdown",
   "id": "84b9c55b",
   "metadata": {},
   "source": [
    "**Function to extract video_id from a youtube link**"
   ]
  },
  {
   "cell_type": "code",
   "execution_count": 9,
   "id": "9b6396a7",
   "metadata": {},
   "outputs": [],
   "source": [
    "from urllib.parse import urlparse, parse_qs\n",
    "\n",
    "# source:\n",
    "# https://stackoverflow.com/questions/45579306/get-youtube-video-url-or-youtube-video-id-from-a-string-using-regex\n",
    "def get_id(url):\n",
    "    u_pars = urlparse(url)\n",
    "    quer_v = parse_qs(u_pars.query).get('v')\n",
    "    if quer_v:\n",
    "        return quer_v[0].strip()\n",
    "    pth = u_pars.path.split('/')\n",
    "    if pth:\n",
    "        return pth[-1].strip()"
   ]
  },
  {
   "cell_type": "code",
   "execution_count": 10,
   "id": "f02fe914",
   "metadata": {},
   "outputs": [
    {
     "data": {
      "text/plain": [
       "'m_otDNRqK1M'"
      ]
     },
     "execution_count": 10,
     "metadata": {},
     "output_type": "execute_result"
    }
   ],
   "source": [
    "id_url = 'https://www.youtube.com/watch?v=m_otDNRqK1M&t=4s'\n",
    "video_id = get_id(id_url)\n",
    "video_id"
   ]
  },
  {
   "cell_type": "code",
   "execution_count": 11,
   "id": "af65b719",
   "metadata": {
    "scrolled": false
   },
   "outputs": [],
   "source": [
    "# Call function\n",
    "result = video_comments(video_id)"
   ]
  },
  {
   "cell_type": "code",
   "execution_count": 12,
   "id": "bc90d8b8",
   "metadata": {
    "scrolled": true
   },
   "outputs": [
    {
     "data": {
      "text/plain": [
       "2519"
      ]
     },
     "execution_count": 12,
     "metadata": {},
     "output_type": "execute_result"
    }
   ],
   "source": [
    "len(result)"
   ]
  },
  {
   "cell_type": "markdown",
   "id": "87ce3d63",
   "metadata": {},
   "source": [
    "The other value of interest for the commentThreads resource was the nextPageToken. Each time we submit a request, we get maxResults number of comments in the items list. The maximum number of results we can obtain is limited between 1 and 100. Thus, if a video has more than 100 comments, we’ll need to make an API call several times. The nextPageToken helps us start directly on the next page of comments instead of starting from the beginning again. We just need to modify our API call a bit:"
   ]
  },
  {
   "cell_type": "markdown",
   "id": "5b2f9cde",
   "metadata": {},
   "source": [
    "**Get the title**"
   ]
  },
  {
   "cell_type": "code",
   "execution_count": 13,
   "id": "be776a46",
   "metadata": {},
   "outputs": [
    {
     "data": {
      "text/plain": [
       "'Dlaczego Rosja to najgorszy kraj na świecie?'"
      ]
     },
     "execution_count": 13,
     "metadata": {},
     "output_type": "execute_result"
    }
   ],
   "source": [
    "# response to get the title of the video\n",
    "response_title = yt_connection.videos().list(\n",
    "     part = 'snippet',\n",
    "     id = video_id\n",
    ").execute()\n",
    "# get the video title\n",
    "video_title = response_title['items'][0]['snippet']['title']\n",
    "video_title"
   ]
  },
  {
   "cell_type": "code",
   "execution_count": 15,
   "id": "0e93ac65",
   "metadata": {},
   "outputs": [
    {
     "name": "stdout",
     "output_type": "stream",
     "text": [
      "Today's date: 10_29\n"
     ]
    }
   ],
   "source": [
    "from datetime import date\n",
    "\n",
    "today = str(date.today())[5:].replace('-','_')\n",
    "print(\"Today's date:\", today)"
   ]
  },
  {
   "cell_type": "code",
   "execution_count": 16,
   "id": "83dffa14",
   "metadata": {
    "scrolled": true
   },
   "outputs": [],
   "source": [
    "# dictionary of lists\n",
    "comms = {f'Comments- video title:{video_title}, link:{id_url}':result}\n",
    "     \n",
    "df = pd.DataFrame(comms)"
   ]
  },
  {
   "cell_type": "code",
   "execution_count": 17,
   "id": "fd0f54c0",
   "metadata": {},
   "outputs": [
    {
     "data": {
      "text/html": [
       "<div>\n",
       "<style scoped>\n",
       "    .dataframe tbody tr th:only-of-type {\n",
       "        vertical-align: middle;\n",
       "    }\n",
       "\n",
       "    .dataframe tbody tr th {\n",
       "        vertical-align: top;\n",
       "    }\n",
       "\n",
       "    .dataframe thead th {\n",
       "        text-align: right;\n",
       "    }\n",
       "</style>\n",
       "<table border=\"1\" class=\"dataframe\">\n",
       "  <thead>\n",
       "    <tr style=\"text-align: right;\">\n",
       "      <th></th>\n",
       "      <th>Comments- video title:Dlaczego Rosja to najgorszy kraj na świecie?, link:https://www.youtube.com/watch?v=m_otDNRqK1M&amp;t=4s</th>\n",
       "    </tr>\n",
       "  </thead>\n",
       "  <tbody>\n",
       "    <tr>\n",
       "      <th>0</th>\n",
       "      <td>Który argument najbardziej Cię zaskoczył? 🤔🤔🤔</td>\n",
       "    </tr>\n",
       "    <tr>\n",
       "      <th>1</th>\n",
       "      <td>To jest Rosja. Tam nic nie zaskakuje.</td>\n",
       "    </tr>\n",
       "    <tr>\n",
       "      <th>2</th>\n",
       "      <td>HIV</td>\n",
       "    </tr>\n",
       "    <tr>\n",
       "      <th>3</th>\n",
       "      <td>Jesteś ulepiony z kału aborygenów wierzących w...</td>\n",
       "    </tr>\n",
       "    <tr>\n",
       "      <th>4</th>\n",
       "      <td>Ciebie na gnojowniku znaleźli</td>\n",
       "    </tr>\n",
       "    <tr>\n",
       "      <th>...</th>\n",
       "      <td>...</td>\n",
       "    </tr>\n",
       "    <tr>\n",
       "      <th>2514</th>\n",
       "      <td>Pierwszy</td>\n",
       "    </tr>\n",
       "    <tr>\n",
       "      <th>2515</th>\n",
       "      <td>Godamn prawie bym zdążył</td>\n",
       "    </tr>\n",
       "    <tr>\n",
       "      <th>2516</th>\n",
       "      <td>Debil</td>\n",
       "    </tr>\n",
       "    <tr>\n",
       "      <th>2517</th>\n",
       "      <td>dumny z siebie jesteś?</td>\n",
       "    </tr>\n",
       "    <tr>\n",
       "      <th>2518</th>\n",
       "      <td>Kolejny patafian</td>\n",
       "    </tr>\n",
       "  </tbody>\n",
       "</table>\n",
       "<p>2519 rows × 1 columns</p>\n",
       "</div>"
      ],
      "text/plain": [
       "     Comments- video title:Dlaczego Rosja to najgorszy kraj na świecie?, link:https://www.youtube.com/watch?v=m_otDNRqK1M&t=4s\n",
       "0         Który argument najbardziej Cię zaskoczył? 🤔🤔🤔                                                                       \n",
       "1                 To jest Rosja. Tam nic nie zaskakuje.                                                                       \n",
       "2                                                   HIV                                                                       \n",
       "3     Jesteś ulepiony z kału aborygenów wierzących w...                                                                       \n",
       "4                         Ciebie na gnojowniku znaleźli                                                                       \n",
       "...                                                 ...                                                                       \n",
       "2514                                           Pierwszy                                                                       \n",
       "2515                           Godamn prawie bym zdążył                                                                       \n",
       "2516                                              Debil                                                                       \n",
       "2517                             dumny z siebie jesteś?                                                                       \n",
       "2518                                   Kolejny patafian                                                                       \n",
       "\n",
       "[2519 rows x 1 columns]"
      ]
     },
     "execution_count": 17,
     "metadata": {},
     "output_type": "execute_result"
    }
   ],
   "source": [
    "df"
   ]
  },
  {
   "cell_type": "markdown",
   "id": "6bdae428",
   "metadata": {},
   "source": [
    "### Save comments to file"
   ]
  },
  {
   "cell_type": "code",
   "execution_count": null,
   "id": "2910acba",
   "metadata": {},
   "outputs": [],
   "source": [
    "path = r'C:\\Users\\Chill\\Desktop\\INZYNIERKA\\dane\\extracted_comments\\comms{}.xlsx'.format(today)\n",
    "# saving the dataframe\n",
    "df.to_excel(path, index=False, header=True,encoding=\"utf-8\")"
   ]
  },
  {
   "cell_type": "code",
   "execution_count": null,
   "id": "8c2dd10a",
   "metadata": {},
   "outputs": [],
   "source": []
  },
  {
   "cell_type": "code",
   "execution_count": null,
   "id": "9bcff0be",
   "metadata": {},
   "outputs": [],
   "source": []
  },
  {
   "cell_type": "markdown",
   "id": "f014274f",
   "metadata": {},
   "source": [
    "## Import libraries"
   ]
  },
  {
   "cell_type": "code",
   "execution_count": 1,
   "id": "5b4879ab",
   "metadata": {},
   "outputs": [],
   "source": [
    "import os\n",
    "from googleapiclient.discovery import build\n",
    "from typing import List\n",
    "#pip install google-api-python-client"
   ]
  },
  {
   "cell_type": "markdown",
   "id": "04f4d0aa",
   "metadata": {},
   "source": [
    "## Insert youtube video ID <br>\n",
    "**How to insert youtube video id?**<br>\n",
    "https://www.youtube.com/watch?v= **dQw4w9WgXcQ**<br>\n",
    "The bolded text functions as a youtube video ID."
   ]
  },
  {
   "cell_type": "code",
   "execution_count": 2,
   "id": "d4fd9040",
   "metadata": {},
   "outputs": [],
   "source": [
    "# Enter video id\n",
    "video_id = \"hyRhzXRAF_I\""
   ]
  },
  {
   "cell_type": "markdown",
   "id": "d854b7ab",
   "metadata": {},
   "source": [
    "**Function to extract video_id from a youtube link**"
   ]
  },
  {
   "cell_type": "code",
   "execution_count": 3,
   "id": "88fc037e",
   "metadata": {},
   "outputs": [],
   "source": [
    "from urllib.parse import urlparse, parse_qs\n",
    "\n",
    "# source:\n",
    "# https://stackoverflow.com/questions/45579306/get-youtube-video-url-or-youtube-video-id-from-a-string-using-regex\n",
    "def get_id(url):\n",
    "    u_pars = urlparse(url)\n",
    "    quer_v = parse_qs(u_pars.query).get('v')\n",
    "    if quer_v:\n",
    "        return quer_v[0].strip()\n",
    "    pth = u_pars.path.split('/')\n",
    "    if pth:\n",
    "        return pth[-1].strip()"
   ]
  },
  {
   "cell_type": "code",
   "execution_count": 4,
   "id": "50d4a390",
   "metadata": {},
   "outputs": [
    {
     "data": {
      "text/plain": [
       "'dQw4w9WgXcQ'"
      ]
     },
     "execution_count": 4,
     "metadata": {},
     "output_type": "execute_result"
    }
   ],
   "source": [
    "video_id = get_id('https://www.youtube.com/watch?v= dQw4w9WgXcQ')\n",
    "video_id"
   ]
  },
  {
   "cell_type": "markdown",
   "id": "fff464e9",
   "metadata": {},
   "source": [
    "## Get API key and connect to Youtube API"
   ]
  },
  {
   "cell_type": "code",
   "execution_count": 5,
   "id": "26959350",
   "metadata": {},
   "outputs": [],
   "source": [
    "yt_api_key = os.environ.get('YT_API_KEY')\n",
    "#print(yt_api_key)\n",
    "yt_connection = build('youtube', 'v3', developerKey = yt_api_key)"
   ]
  },
  {
   "cell_type": "code",
   "execution_count": 6,
   "id": "431bc05e",
   "metadata": {},
   "outputs": [],
   "source": [
    "# Enter video id\n",
    "video_id = \"hyRhzXRAF_I\""
   ]
  },
  {
   "cell_type": "markdown",
   "id": "83375938",
   "metadata": {},
   "source": [
    "### - Get the title of a video -"
   ]
  },
  {
   "cell_type": "code",
   "execution_count": 7,
   "id": "b9138e00",
   "metadata": {},
   "outputs": [
    {
     "data": {
      "text/plain": [
       "'CLUB2020 NA OPEN’ERZE!'"
      ]
     },
     "execution_count": 7,
     "metadata": {},
     "output_type": "execute_result"
    }
   ],
   "source": [
    "# response to get the title of the video\n",
    "response_title = yt_connection.videos().list(\n",
    "     part = 'snippet',\n",
    "     id = video_id\n",
    ").execute()\n",
    "# get the video title\n",
    "video_title = response_title['items'][0]['snippet']['title']\n",
    "video_title"
   ]
  },
  {
   "cell_type": "code",
   "execution_count": null,
   "id": "c5805cf3",
   "metadata": {},
   "outputs": [],
   "source": []
  }
 ],
 "metadata": {
  "kernelspec": {
   "display_name": "Python 3",
   "language": "python",
   "name": "python3"
  },
  "language_info": {
   "codemirror_mode": {
    "name": "ipython",
    "version": 3
   },
   "file_extension": ".py",
   "mimetype": "text/x-python",
   "name": "python",
   "nbconvert_exporter": "python",
   "pygments_lexer": "ipython3",
   "version": "3.8.8"
  }
 },
 "nbformat": 4,
 "nbformat_minor": 5
}
