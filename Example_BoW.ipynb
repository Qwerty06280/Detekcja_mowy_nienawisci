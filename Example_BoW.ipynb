{
 "cells": [
  {
   "cell_type": "markdown",
   "id": "d3405a49",
   "metadata": {},
   "source": [
    "## Import libraries"
   ]
  },
  {
   "cell_type": "code",
   "execution_count": 1,
   "id": "ff5f67ce",
   "metadata": {},
   "outputs": [],
   "source": [
    "import numpy as np\n",
    "import pandas as pd\n",
    "import matplotlib.pyplot as plt\n",
    "from sklearn.feature_extraction.text import CountVectorizer\n",
    "from sklearn.model_selection import train_test_split\n",
    "from sklearn.linear_model import LogisticRegression\n",
    "from sklearn.metrics import classification_report, accuracy_score, confusion_matrix"
   ]
  },
  {
   "cell_type": "markdown",
   "id": "e89be1f4",
   "metadata": {},
   "source": [
    "## Read data"
   ]
  },
  {
   "cell_type": "code",
   "execution_count": 2,
   "id": "43948a1c",
   "metadata": {},
   "outputs": [],
   "source": [
    "file_path_conc = r'C:\\Users\\Chill\\Desktop\\INZYNIERKA\\dane\\found_internet\\CONCATENATED_DATA.xlsx'\n",
    "df_original = pd.read_excel(file_path_conc)"
   ]
  },
  {
   "cell_type": "code",
   "execution_count": 3,
   "id": "1ff5782a",
   "metadata": {},
   "outputs": [
    {
     "data": {
      "text/html": [
       "<div>\n",
       "<style scoped>\n",
       "    .dataframe tbody tr th:only-of-type {\n",
       "        vertical-align: middle;\n",
       "    }\n",
       "\n",
       "    .dataframe tbody tr th {\n",
       "        vertical-align: top;\n",
       "    }\n",
       "\n",
       "    .dataframe thead th {\n",
       "        text-align: right;\n",
       "    }\n",
       "</style>\n",
       "<table border=\"1\" class=\"dataframe\">\n",
       "  <thead>\n",
       "    <tr style=\"text-align: right;\">\n",
       "      <th></th>\n",
       "      <th>Comment</th>\n",
       "      <th>Is_toxic</th>\n",
       "      <th>source</th>\n",
       "    </tr>\n",
       "  </thead>\n",
       "  <tbody>\n",
       "    <tr>\n",
       "      <th>0</th>\n",
       "      <td>Dla mnie faworytem do tytułu będzie Cracovia. ...</td>\n",
       "      <td>0</td>\n",
       "      <td>dataset_poleval</td>\n",
       "    </tr>\n",
       "    <tr>\n",
       "      <th>1</th>\n",
       "      <td>Brawo ty Daria kibic ma być na dobre i złe</td>\n",
       "      <td>0</td>\n",
       "      <td>dataset_poleval</td>\n",
       "    </tr>\n",
       "    <tr>\n",
       "      <th>2</th>\n",
       "      <td>Super, polski premier składa kwiaty na grobach...</td>\n",
       "      <td>0</td>\n",
       "      <td>dataset_poleval</td>\n",
       "    </tr>\n",
       "    <tr>\n",
       "      <th>3</th>\n",
       "      <td>Musi. Innej drogi nie mamy.</td>\n",
       "      <td>0</td>\n",
       "      <td>dataset_poleval</td>\n",
       "    </tr>\n",
       "    <tr>\n",
       "      <th>4</th>\n",
       "      <td>Odrzut natychmiastowy, kwaśna mina, mam problem</td>\n",
       "      <td>0</td>\n",
       "      <td>dataset_poleval</td>\n",
       "    </tr>\n",
       "    <tr>\n",
       "      <th>...</th>\n",
       "      <td>...</td>\n",
       "      <td>...</td>\n",
       "      <td>...</td>\n",
       "    </tr>\n",
       "    <tr>\n",
       "      <th>37851</th>\n",
       "      <td>Polaczki jebane XD na wszystko narzekać byle n...</td>\n",
       "      <td>1</td>\n",
       "      <td>dataset_wykop</td>\n",
       "    </tr>\n",
       "    <tr>\n",
       "      <th>37852</th>\n",
       "      <td>jakaś muzyka normicka dudni ehhh w sumie i tak...</td>\n",
       "      <td>1</td>\n",
       "      <td>dataset_wykop</td>\n",
       "    </tr>\n",
       "    <tr>\n",
       "      <th>37853</th>\n",
       "      <td>\"\" czy raczej zjeb ze stawu to była jedna z na...</td>\n",
       "      <td>1</td>\n",
       "      <td>dataset_wykop</td>\n",
       "    </tr>\n",
       "    <tr>\n",
       "      <th>37854</th>\n",
       "      <td>kurwy Michał  kończył nocną wartę w serwerow...</td>\n",
       "      <td>1</td>\n",
       "      <td>dataset_wykop</td>\n",
       "    </tr>\n",
       "    <tr>\n",
       "      <th>37855</th>\n",
       "      <td>Przecież murzynów nie da się szanować ani tole...</td>\n",
       "      <td>1</td>\n",
       "      <td>dataset_wykop</td>\n",
       "    </tr>\n",
       "  </tbody>\n",
       "</table>\n",
       "<p>37856 rows × 3 columns</p>\n",
       "</div>"
      ],
      "text/plain": [
       "                                                 Comment  Is_toxic  \\\n",
       "0      Dla mnie faworytem do tytułu będzie Cracovia. ...         0   \n",
       "1             Brawo ty Daria kibic ma być na dobre i złe         0   \n",
       "2      Super, polski premier składa kwiaty na grobach...         0   \n",
       "3                            Musi. Innej drogi nie mamy.         0   \n",
       "4        Odrzut natychmiastowy, kwaśna mina, mam problem         0   \n",
       "...                                                  ...       ...   \n",
       "37851  Polaczki jebane XD na wszystko narzekać byle n...         1   \n",
       "37852  jakaś muzyka normicka dudni ehhh w sumie i tak...         1   \n",
       "37853  \"\" czy raczej zjeb ze stawu to była jedna z na...         1   \n",
       "37854    kurwy Michał  kończył nocną wartę w serwerow...         1   \n",
       "37855  Przecież murzynów nie da się szanować ani tole...         1   \n",
       "\n",
       "                source  \n",
       "0      dataset_poleval  \n",
       "1      dataset_poleval  \n",
       "2      dataset_poleval  \n",
       "3      dataset_poleval  \n",
       "4      dataset_poleval  \n",
       "...                ...  \n",
       "37851    dataset_wykop  \n",
       "37852    dataset_wykop  \n",
       "37853    dataset_wykop  \n",
       "37854    dataset_wykop  \n",
       "37855    dataset_wykop  \n",
       "\n",
       "[37856 rows x 3 columns]"
      ]
     },
     "execution_count": 3,
     "metadata": {},
     "output_type": "execute_result"
    }
   ],
   "source": [
    "df_original"
   ]
  },
  {
   "cell_type": "code",
   "execution_count": 11,
   "id": "fca35794",
   "metadata": {},
   "outputs": [],
   "source": [
    "df = df_original"
   ]
  },
  {
   "cell_type": "code",
   "execution_count": 16,
   "id": "c6ae3024",
   "metadata": {},
   "outputs": [
    {
     "data": {
      "text/html": [
       "<div>\n",
       "<style scoped>\n",
       "    .dataframe tbody tr th:only-of-type {\n",
       "        vertical-align: middle;\n",
       "    }\n",
       "\n",
       "    .dataframe tbody tr th {\n",
       "        vertical-align: top;\n",
       "    }\n",
       "\n",
       "    .dataframe thead th {\n",
       "        text-align: right;\n",
       "    }\n",
       "</style>\n",
       "<table border=\"1\" class=\"dataframe\">\n",
       "  <thead>\n",
       "    <tr style=\"text-align: right;\">\n",
       "      <th></th>\n",
       "      <th>index</th>\n",
       "      <th>Comment</th>\n",
       "      <th>Is_toxic</th>\n",
       "      <th>source</th>\n",
       "    </tr>\n",
       "  </thead>\n",
       "  <tbody>\n",
       "    <tr>\n",
       "      <th>0</th>\n",
       "      <td>10041</td>\n",
       "      <td>Nienawidzę gejów.</td>\n",
       "      <td>1</td>\n",
       "      <td>dataset_zwroty</td>\n",
       "    </tr>\n",
       "    <tr>\n",
       "      <th>1</th>\n",
       "      <td>10042</td>\n",
       "      <td>Nienawidzę azjatów.</td>\n",
       "      <td>1</td>\n",
       "      <td>dataset_zwroty</td>\n",
       "    </tr>\n",
       "    <tr>\n",
       "      <th>2</th>\n",
       "      <td>10043</td>\n",
       "      <td>Nienawidzę niepełnosprawnych.</td>\n",
       "      <td>1</td>\n",
       "      <td>dataset_zwroty</td>\n",
       "    </tr>\n",
       "  </tbody>\n",
       "</table>\n",
       "</div>"
      ],
      "text/plain": [
       "   index                        Comment  Is_toxic          source\n",
       "0  10041              Nienawidzę gejów.         1  dataset_zwroty\n",
       "1  10042            Nienawidzę azjatów.         1  dataset_zwroty\n",
       "2  10043  Nienawidzę niepełnosprawnych.         1  dataset_zwroty"
      ]
     },
     "execution_count": 16,
     "metadata": {},
     "output_type": "execute_result"
    }
   ],
   "source": [
    "df = df[df['source'] == 'dataset_zwroty'][:3].reset_index()\n",
    "df"
   ]
  },
  {
   "cell_type": "code",
   "execution_count": 17,
   "id": "c344b0f6",
   "metadata": {},
   "outputs": [],
   "source": [
    "vectorizer = CountVectorizer(lowercase=True, stop_words=None)\n",
    "count_matrix = vectorizer.fit_transform(df['Comment'])\n",
    "count_array = count_matrix.toarray()\n",
    "df_new = pd.DataFrame(data=count_array, columns=vectorizer.get_feature_names_out())"
   ]
  },
  {
   "cell_type": "code",
   "execution_count": 18,
   "id": "a6248b58",
   "metadata": {},
   "outputs": [],
   "source": [
    "df_final = pd.concat([df, df_new], axis=1)"
   ]
  },
  {
   "cell_type": "code",
   "execution_count": 19,
   "id": "94a873ec",
   "metadata": {},
   "outputs": [
    {
     "name": "stdout",
     "output_type": "stream",
     "text": [
      "(3, 8)\n",
      "(3, 4)\n"
     ]
    },
    {
     "data": {
      "text/html": [
       "<div>\n",
       "<style scoped>\n",
       "    .dataframe tbody tr th:only-of-type {\n",
       "        vertical-align: middle;\n",
       "    }\n",
       "\n",
       "    .dataframe tbody tr th {\n",
       "        vertical-align: top;\n",
       "    }\n",
       "\n",
       "    .dataframe thead th {\n",
       "        text-align: right;\n",
       "    }\n",
       "</style>\n",
       "<table border=\"1\" class=\"dataframe\">\n",
       "  <thead>\n",
       "    <tr style=\"text-align: right;\">\n",
       "      <th></th>\n",
       "      <th>index</th>\n",
       "      <th>Comment</th>\n",
       "      <th>Is_toxic</th>\n",
       "      <th>source</th>\n",
       "      <th>azjatów</th>\n",
       "      <th>gejów</th>\n",
       "      <th>nienawidzę</th>\n",
       "      <th>niepełnosprawnych</th>\n",
       "    </tr>\n",
       "  </thead>\n",
       "  <tbody>\n",
       "    <tr>\n",
       "      <th>0</th>\n",
       "      <td>10041</td>\n",
       "      <td>Nienawidzę gejów.</td>\n",
       "      <td>1</td>\n",
       "      <td>dataset_zwroty</td>\n",
       "      <td>0</td>\n",
       "      <td>1</td>\n",
       "      <td>1</td>\n",
       "      <td>0</td>\n",
       "    </tr>\n",
       "    <tr>\n",
       "      <th>1</th>\n",
       "      <td>10042</td>\n",
       "      <td>Nienawidzę azjatów.</td>\n",
       "      <td>1</td>\n",
       "      <td>dataset_zwroty</td>\n",
       "      <td>1</td>\n",
       "      <td>0</td>\n",
       "      <td>1</td>\n",
       "      <td>0</td>\n",
       "    </tr>\n",
       "    <tr>\n",
       "      <th>2</th>\n",
       "      <td>10043</td>\n",
       "      <td>Nienawidzę niepełnosprawnych.</td>\n",
       "      <td>1</td>\n",
       "      <td>dataset_zwroty</td>\n",
       "      <td>0</td>\n",
       "      <td>0</td>\n",
       "      <td>1</td>\n",
       "      <td>1</td>\n",
       "    </tr>\n",
       "  </tbody>\n",
       "</table>\n",
       "</div>"
      ],
      "text/plain": [
       "   index                        Comment  Is_toxic          source  azjatów  \\\n",
       "0  10041              Nienawidzę gejów.         1  dataset_zwroty        0   \n",
       "1  10042            Nienawidzę azjatów.         1  dataset_zwroty        1   \n",
       "2  10043  Nienawidzę niepełnosprawnych.         1  dataset_zwroty        0   \n",
       "\n",
       "   gejów  nienawidzę  niepełnosprawnych  \n",
       "0      1           1                  0  \n",
       "1      0           1                  0  \n",
       "2      0           1                  1  "
      ]
     },
     "execution_count": 19,
     "metadata": {},
     "output_type": "execute_result"
    }
   ],
   "source": [
    "print(df_final.shape)\n",
    "print(df.shape)\n",
    "df_final"
   ]
  },
  {
   "cell_type": "code",
   "execution_count": null,
   "id": "a8de6f94",
   "metadata": {},
   "outputs": [],
   "source": []
  }
 ],
 "metadata": {
  "kernelspec": {
   "display_name": "Python 3",
   "language": "python",
   "name": "python3"
  },
  "language_info": {
   "codemirror_mode": {
    "name": "ipython",
    "version": 3
   },
   "file_extension": ".py",
   "mimetype": "text/x-python",
   "name": "python",
   "nbconvert_exporter": "python",
   "pygments_lexer": "ipython3",
   "version": "3.8.8"
  }
 },
 "nbformat": 4,
 "nbformat_minor": 5
}
