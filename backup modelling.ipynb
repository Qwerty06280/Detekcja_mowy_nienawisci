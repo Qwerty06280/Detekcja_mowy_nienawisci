{
 "cells": [
  {
   "cell_type": "markdown",
   "id": "a6aba4bf",
   "metadata": {},
   "source": [
    "## Import libraries"
   ]
  },
  {
   "cell_type": "code",
   "execution_count": 25,
   "id": "65789dcd",
   "metadata": {},
   "outputs": [],
   "source": [
    "import numpy as np\n",
    "import pandas as pd\n",
    "import matplotlib.pyplot as plt\n",
    "from sklearn.model_selection import train_test_split\n",
    "from sklearn.metrics import classification_report, accuracy_score, confusion_matrix, ConfusionMatrixDisplay\n",
    "# Bag of Words\n",
    "from sklearn.feature_extraction.text import CountVectorizer\n",
    "# TF-IDF\n",
    "from sklearn.feature_extraction.text import TfidfVectorizer \n",
    "# Logistic Regression\n",
    "from sklearn.linear_model import LogisticRegression\n",
    "# Naive-Bayes\n",
    "from sklearn.naive_bayes import MultinomialNB\n",
    "# SVM\n",
    "from sklearn.svm import SVC"
   ]
  },
  {
   "cell_type": "markdown",
   "id": "43b0cc17",
   "metadata": {},
   "source": [
    "## Read data"
   ]
  },
  {
   "cell_type": "markdown",
   "id": "3c30be4d",
   "metadata": {},
   "source": [
    "#### Data for training and testing"
   ]
  },
  {
   "cell_type": "code",
   "execution_count": 26,
   "id": "63a2d6dc",
   "metadata": {},
   "outputs": [],
   "source": [
    "file_path_conc = r'C:\\Users\\Chill\\Desktop\\INZYNIERKA\\dane\\found_internet\\CONCATENATED_DATA.xlsx'\n",
    "df_original = pd.read_excel(file_path_conc)"
   ]
  },
  {
   "cell_type": "code",
   "execution_count": 27,
   "id": "46fd5a86",
   "metadata": {},
   "outputs": [
    {
     "data": {
      "text/html": [
       "<div>\n",
       "<style scoped>\n",
       "    .dataframe tbody tr th:only-of-type {\n",
       "        vertical-align: middle;\n",
       "    }\n",
       "\n",
       "    .dataframe tbody tr th {\n",
       "        vertical-align: top;\n",
       "    }\n",
       "\n",
       "    .dataframe thead th {\n",
       "        text-align: right;\n",
       "    }\n",
       "</style>\n",
       "<table border=\"1\" class=\"dataframe\">\n",
       "  <thead>\n",
       "    <tr style=\"text-align: right;\">\n",
       "      <th></th>\n",
       "      <th>Comment</th>\n",
       "      <th>Is_toxic</th>\n",
       "      <th>source</th>\n",
       "    </tr>\n",
       "  </thead>\n",
       "  <tbody>\n",
       "    <tr>\n",
       "      <th>0</th>\n",
       "      <td>Dla mnie faworytem do tytułu będzie Cracovia. ...</td>\n",
       "      <td>0</td>\n",
       "      <td>dataset_poleval</td>\n",
       "    </tr>\n",
       "    <tr>\n",
       "      <th>1</th>\n",
       "      <td>Brawo ty Daria kibic ma być na dobre i złe</td>\n",
       "      <td>0</td>\n",
       "      <td>dataset_poleval</td>\n",
       "    </tr>\n",
       "    <tr>\n",
       "      <th>2</th>\n",
       "      <td>Super, polski premier składa kwiaty na grobach...</td>\n",
       "      <td>0</td>\n",
       "      <td>dataset_poleval</td>\n",
       "    </tr>\n",
       "    <tr>\n",
       "      <th>3</th>\n",
       "      <td>Musi. Innej drogi nie mamy.</td>\n",
       "      <td>0</td>\n",
       "      <td>dataset_poleval</td>\n",
       "    </tr>\n",
       "    <tr>\n",
       "      <th>4</th>\n",
       "      <td>Odrzut natychmiastowy, kwaśna mina, mam problem</td>\n",
       "      <td>0</td>\n",
       "      <td>dataset_poleval</td>\n",
       "    </tr>\n",
       "  </tbody>\n",
       "</table>\n",
       "</div>"
      ],
      "text/plain": [
       "                                             Comment  Is_toxic  \\\n",
       "0  Dla mnie faworytem do tytułu będzie Cracovia. ...         0   \n",
       "1         Brawo ty Daria kibic ma być na dobre i złe         0   \n",
       "2  Super, polski premier składa kwiaty na grobach...         0   \n",
       "3                        Musi. Innej drogi nie mamy.         0   \n",
       "4    Odrzut natychmiastowy, kwaśna mina, mam problem         0   \n",
       "\n",
       "            source  \n",
       "0  dataset_poleval  \n",
       "1  dataset_poleval  \n",
       "2  dataset_poleval  \n",
       "3  dataset_poleval  \n",
       "4  dataset_poleval  "
      ]
     },
     "execution_count": 27,
     "metadata": {},
     "output_type": "execute_result"
    }
   ],
   "source": [
    "df_original.head()"
   ]
  },
  {
   "cell_type": "markdown",
   "id": "4c6de58e",
   "metadata": {},
   "source": [
    "#### Data to predict"
   ]
  },
  {
   "cell_type": "code",
   "execution_count": 28,
   "id": "9039f864",
   "metadata": {},
   "outputs": [],
   "source": [
    "# Load the CSV file with the correct encoding (UTF-8)\n",
    "file_path_yt = r'C:\\Users\\Chill\\Desktop\\INZYNIERKA\\dane\\extracted_comments\\comms_test.xlsx'\n",
    "# comments from 4 videos:\n",
    "# https://www.youtube.com/watch?v=t4O1LLk6qlY\n",
    "# https://www.youtube.com/watch?v=r3qhl12iHKc\n",
    "# https://www.youtube.com/watch?v=iLTLbe13hLg\n",
    "# https://www.youtube.com/watch?v=v7CQkivQNQI\n",
    "\n",
    "df_predict = pd.read_excel(file_path_yt)"
   ]
  },
  {
   "cell_type": "code",
   "execution_count": 29,
   "id": "e86338c8",
   "metadata": {},
   "outputs": [
    {
     "data": {
      "text/html": [
       "<div>\n",
       "<style scoped>\n",
       "    .dataframe tbody tr th:only-of-type {\n",
       "        vertical-align: middle;\n",
       "    }\n",
       "\n",
       "    .dataframe tbody tr th {\n",
       "        vertical-align: top;\n",
       "    }\n",
       "\n",
       "    .dataframe thead th {\n",
       "        text-align: right;\n",
       "    }\n",
       "</style>\n",
       "<table border=\"1\" class=\"dataframe\">\n",
       "  <thead>\n",
       "    <tr style=\"text-align: right;\">\n",
       "      <th></th>\n",
       "      <th>Comments</th>\n",
       "    </tr>\n",
       "  </thead>\n",
       "  <tbody>\n",
       "    <tr>\n",
       "      <th>0</th>\n",
       "      <td>JKM jest zwolennikiem otwartej migracji ludzi ...</td>\n",
       "    </tr>\n",
       "    <tr>\n",
       "      <th>1</th>\n",
       "      <td>Korwin jest najlepszy</td>\n",
       "    </tr>\n",
       "    <tr>\n",
       "      <th>2</th>\n",
       "      <td>ten występ się dobrze starzeje jak popatrzymy ...</td>\n",
       "    </tr>\n",
       "    <tr>\n",
       "      <th>3</th>\n",
       "      <td>Wracam po protestach we Francji.</td>\n",
       "    </tr>\n",
       "    <tr>\n",
       "      <th>4</th>\n",
       "      <td>Po 7 latach sie sprawdziło, gosc mysli lata do...</td>\n",
       "    </tr>\n",
       "  </tbody>\n",
       "</table>\n",
       "</div>"
      ],
      "text/plain": [
       "                                            Comments\n",
       "0  JKM jest zwolennikiem otwartej migracji ludzi ...\n",
       "1                              Korwin jest najlepszy\n",
       "2  ten występ się dobrze starzeje jak popatrzymy ...\n",
       "3                   Wracam po protestach we Francji.\n",
       "4  Po 7 latach sie sprawdziło, gosc mysli lata do..."
      ]
     },
     "execution_count": 29,
     "metadata": {},
     "output_type": "execute_result"
    }
   ],
   "source": [
    "df_predict.head()"
   ]
  },
  {
   "cell_type": "markdown",
   "id": "86bea29d",
   "metadata": {},
   "source": [
    "## Preprocessing"
   ]
  },
  {
   "cell_type": "code",
   "execution_count": 30,
   "id": "e0ffccfa",
   "metadata": {},
   "outputs": [],
   "source": [
    "df = df_original"
   ]
  },
  {
   "cell_type": "code",
   "execution_count": 31,
   "id": "d6abf7f1",
   "metadata": {
    "scrolled": false
   },
   "outputs": [
    {
     "data": {
      "text/html": [
       "<div>\n",
       "<style scoped>\n",
       "    .dataframe tbody tr th:only-of-type {\n",
       "        vertical-align: middle;\n",
       "    }\n",
       "\n",
       "    .dataframe tbody tr th {\n",
       "        vertical-align: top;\n",
       "    }\n",
       "\n",
       "    .dataframe thead th {\n",
       "        text-align: right;\n",
       "    }\n",
       "</style>\n",
       "<table border=\"1\" class=\"dataframe\">\n",
       "  <thead>\n",
       "    <tr style=\"text-align: right;\">\n",
       "      <th></th>\n",
       "      <th>Comment</th>\n",
       "      <th>Is_toxic</th>\n",
       "      <th>source</th>\n",
       "    </tr>\n",
       "  </thead>\n",
       "  <tbody>\n",
       "    <tr>\n",
       "      <th>10041</th>\n",
       "      <td>Nienawidzę gejów.</td>\n",
       "      <td>1</td>\n",
       "      <td>dataset_zwroty</td>\n",
       "    </tr>\n",
       "    <tr>\n",
       "      <th>10042</th>\n",
       "      <td>Nienawidzę azjatów.</td>\n",
       "      <td>1</td>\n",
       "      <td>dataset_zwroty</td>\n",
       "    </tr>\n",
       "    <tr>\n",
       "      <th>10043</th>\n",
       "      <td>Nienawidzę niepełnosprawnych.</td>\n",
       "      <td>1</td>\n",
       "      <td>dataset_zwroty</td>\n",
       "    </tr>\n",
       "    <tr>\n",
       "      <th>10044</th>\n",
       "      <td>Nienawidzę Żydów.</td>\n",
       "      <td>1</td>\n",
       "      <td>dataset_zwroty</td>\n",
       "    </tr>\n",
       "    <tr>\n",
       "      <th>10045</th>\n",
       "      <td>Nienawidzę imigrantów.</td>\n",
       "      <td>1</td>\n",
       "      <td>dataset_zwroty</td>\n",
       "    </tr>\n",
       "  </tbody>\n",
       "</table>\n",
       "</div>"
      ],
      "text/plain": [
       "                             Comment  Is_toxic          source\n",
       "10041              Nienawidzę gejów.         1  dataset_zwroty\n",
       "10042            Nienawidzę azjatów.         1  dataset_zwroty\n",
       "10043  Nienawidzę niepełnosprawnych.         1  dataset_zwroty\n",
       "10044              Nienawidzę Żydów.         1  dataset_zwroty\n",
       "10045         Nienawidzę imigrantów.         1  dataset_zwroty"
      ]
     },
     "execution_count": 31,
     "metadata": {},
     "output_type": "execute_result"
    }
   ],
   "source": [
    "# Wybieram na razie tylko jeden dataset, najmniej skomplikowany\n",
    "df = df[df['source'] == 'dataset_zwroty']\n",
    "df.head()"
   ]
  },
  {
   "cell_type": "code",
   "execution_count": 32,
   "id": "41408947",
   "metadata": {},
   "outputs": [],
   "source": [
    "# utworzenie polskiej listy stop words TODO\n",
    "polish_stop_words = ['i', 'oraz', 'ale', 'tak', 'to']"
   ]
  },
  {
   "cell_type": "markdown",
   "id": "d0442f0a",
   "metadata": {},
   "source": [
    "#### Bag of Words (BoW)"
   ]
  },
  {
   "cell_type": "code",
   "execution_count": 33,
   "id": "8c254ef6",
   "metadata": {},
   "outputs": [],
   "source": [
    "# vectorizer = CountVectorizer(lowercase=True, stop_words=polish_stop_words)\n",
    "# X = vectorizer.fit_transform(df['Comment'])"
   ]
  },
  {
   "cell_type": "markdown",
   "id": "0909d073",
   "metadata": {},
   "source": [
    "#### TF-IDF"
   ]
  },
  {
   "cell_type": "code",
   "execution_count": 34,
   "id": "4a0152b0",
   "metadata": {},
   "outputs": [],
   "source": [
    "# tfidf_vectorizer = TfidfVectorizer(lowercase=True, stop_words=None)\n",
    "# X = tfidf_vectorizer.fit_transform(df['Comment'])"
   ]
  },
  {
   "cell_type": "markdown",
   "id": "9c095724",
   "metadata": {},
   "source": [
    "### Function - Vectorizer"
   ]
  },
  {
   "cell_type": "code",
   "execution_count": 35,
   "id": "60d89c79",
   "metadata": {},
   "outputs": [],
   "source": [
    "def Vectorize(method = 'Bag of Words'):\n",
    "    if method == 'Bag of Words':\n",
    "        vectorizer = CountVectorizer(lowercase=True, stop_words=polish_stop_words) # TODO parametry\n",
    "    elif method =='TF-IDF':\n",
    "        vectorizer = TfidfVectorizer(lowercase=True, stop_words=polish_stop_words) # TODO parametry\n",
    "    else:\n",
    "        raise ValueError(\"Method not found\")\n",
    "    return vectorizer"
   ]
  },
  {
   "cell_type": "code",
   "execution_count": 36,
   "id": "db7cedc5",
   "metadata": {},
   "outputs": [],
   "source": [
    "#vectorizer = Vectorize('Bag of Words')\n",
    "vectorizer = Vectorize(method = 'TF-IDF')\n",
    "X = vectorizer.fit_transform(df['Comment'])"
   ]
  },
  {
   "cell_type": "code",
   "execution_count": 37,
   "id": "c8ef6919",
   "metadata": {},
   "outputs": [],
   "source": [
    "# Podział danych na zestaw treningowy i testowy\n",
    "X_train, X_test, y_train, y_test = train_test_split(X, df['Is_toxic'], test_size=0.2, random_state=42)"
   ]
  },
  {
   "cell_type": "markdown",
   "id": "be819d9f",
   "metadata": {},
   "source": [
    "# MODELS"
   ]
  },
  {
   "cell_type": "markdown",
   "id": "e9ed103e",
   "metadata": {},
   "source": [
    "### Function - model"
   ]
  },
  {
   "cell_type": "code",
   "execution_count": null,
   "id": "a4a19785",
   "metadata": {},
   "outputs": [],
   "source": [
    "def make_predictions(model = 'LogReg', )"
   ]
  },
  {
   "cell_type": "markdown",
   "id": "f15763db",
   "metadata": {},
   "source": [
    "#### Creating models"
   ]
  },
  {
   "cell_type": "code",
   "execution_count": 38,
   "id": "706bbf5d",
   "metadata": {},
   "outputs": [],
   "source": [
    "# Logistic regression\n",
    "logReg_model = LogisticRegression()\n",
    "# SVM\n",
    "svm_model = SVC()\n",
    "# Naive Bayes\n",
    "nb_model = MultinomialNB()"
   ]
  },
  {
   "cell_type": "markdown",
   "id": "1d24701e",
   "metadata": {},
   "source": [
    "#### Training models"
   ]
  },
  {
   "cell_type": "code",
   "execution_count": 39,
   "id": "3053bca4",
   "metadata": {},
   "outputs": [
    {
     "data": {
      "text/html": [
       "<style>#sk-container-id-2 {color: black;background-color: white;}#sk-container-id-2 pre{padding: 0;}#sk-container-id-2 div.sk-toggleable {background-color: white;}#sk-container-id-2 label.sk-toggleable__label {cursor: pointer;display: block;width: 100%;margin-bottom: 0;padding: 0.3em;box-sizing: border-box;text-align: center;}#sk-container-id-2 label.sk-toggleable__label-arrow:before {content: \"▸\";float: left;margin-right: 0.25em;color: #696969;}#sk-container-id-2 label.sk-toggleable__label-arrow:hover:before {color: black;}#sk-container-id-2 div.sk-estimator:hover label.sk-toggleable__label-arrow:before {color: black;}#sk-container-id-2 div.sk-toggleable__content {max-height: 0;max-width: 0;overflow: hidden;text-align: left;background-color: #f0f8ff;}#sk-container-id-2 div.sk-toggleable__content pre {margin: 0.2em;color: black;border-radius: 0.25em;background-color: #f0f8ff;}#sk-container-id-2 input.sk-toggleable__control:checked~div.sk-toggleable__content {max-height: 200px;max-width: 100%;overflow: auto;}#sk-container-id-2 input.sk-toggleable__control:checked~label.sk-toggleable__label-arrow:before {content: \"▾\";}#sk-container-id-2 div.sk-estimator input.sk-toggleable__control:checked~label.sk-toggleable__label {background-color: #d4ebff;}#sk-container-id-2 div.sk-label input.sk-toggleable__control:checked~label.sk-toggleable__label {background-color: #d4ebff;}#sk-container-id-2 input.sk-hidden--visually {border: 0;clip: rect(1px 1px 1px 1px);clip: rect(1px, 1px, 1px, 1px);height: 1px;margin: -1px;overflow: hidden;padding: 0;position: absolute;width: 1px;}#sk-container-id-2 div.sk-estimator {font-family: monospace;background-color: #f0f8ff;border: 1px dotted black;border-radius: 0.25em;box-sizing: border-box;margin-bottom: 0.5em;}#sk-container-id-2 div.sk-estimator:hover {background-color: #d4ebff;}#sk-container-id-2 div.sk-parallel-item::after {content: \"\";width: 100%;border-bottom: 1px solid gray;flex-grow: 1;}#sk-container-id-2 div.sk-label:hover label.sk-toggleable__label {background-color: #d4ebff;}#sk-container-id-2 div.sk-serial::before {content: \"\";position: absolute;border-left: 1px solid gray;box-sizing: border-box;top: 0;bottom: 0;left: 50%;z-index: 0;}#sk-container-id-2 div.sk-serial {display: flex;flex-direction: column;align-items: center;background-color: white;padding-right: 0.2em;padding-left: 0.2em;position: relative;}#sk-container-id-2 div.sk-item {position: relative;z-index: 1;}#sk-container-id-2 div.sk-parallel {display: flex;align-items: stretch;justify-content: center;background-color: white;position: relative;}#sk-container-id-2 div.sk-item::before, #sk-container-id-2 div.sk-parallel-item::before {content: \"\";position: absolute;border-left: 1px solid gray;box-sizing: border-box;top: 0;bottom: 0;left: 50%;z-index: -1;}#sk-container-id-2 div.sk-parallel-item {display: flex;flex-direction: column;z-index: 1;position: relative;background-color: white;}#sk-container-id-2 div.sk-parallel-item:first-child::after {align-self: flex-end;width: 50%;}#sk-container-id-2 div.sk-parallel-item:last-child::after {align-self: flex-start;width: 50%;}#sk-container-id-2 div.sk-parallel-item:only-child::after {width: 0;}#sk-container-id-2 div.sk-dashed-wrapped {border: 1px dashed gray;margin: 0 0.4em 0.5em 0.4em;box-sizing: border-box;padding-bottom: 0.4em;background-color: white;}#sk-container-id-2 div.sk-label label {font-family: monospace;font-weight: bold;display: inline-block;line-height: 1.2em;}#sk-container-id-2 div.sk-label-container {text-align: center;}#sk-container-id-2 div.sk-container {/* jupyter's `normalize.less` sets `[hidden] { display: none; }` but bootstrap.min.css set `[hidden] { display: none !important; }` so we also need the `!important` here to be able to override the default hidden behavior on the sphinx rendered scikit-learn.org. See: https://github.com/scikit-learn/scikit-learn/issues/21755 */display: inline-block !important;position: relative;}#sk-container-id-2 div.sk-text-repr-fallback {display: none;}</style><div id=\"sk-container-id-2\" class=\"sk-top-container\"><div class=\"sk-text-repr-fallback\"><pre>MultinomialNB()</pre><b>In a Jupyter environment, please rerun this cell to show the HTML representation or trust the notebook. <br />On GitHub, the HTML representation is unable to render, please try loading this page with nbviewer.org.</b></div><div class=\"sk-container\" hidden><div class=\"sk-item\"><div class=\"sk-estimator sk-toggleable\"><input class=\"sk-toggleable__control sk-hidden--visually\" id=\"sk-estimator-id-2\" type=\"checkbox\" checked><label for=\"sk-estimator-id-2\" class=\"sk-toggleable__label sk-toggleable__label-arrow\">MultinomialNB</label><div class=\"sk-toggleable__content\"><pre>MultinomialNB()</pre></div></div></div></div></div>"
      ],
      "text/plain": [
       "MultinomialNB()"
      ]
     },
     "execution_count": 39,
     "metadata": {},
     "output_type": "execute_result"
    }
   ],
   "source": [
    "# Logistic Regression\n",
    "logReg_model.fit(X_train, y_train)\n",
    "# SVM\n",
    "svm_model.fit(X_train, y_train)\n",
    "# Naive Bayes\n",
    "nb_model.fit(X_train, y_train)"
   ]
  },
  {
   "cell_type": "markdown",
   "id": "9831c7a0",
   "metadata": {},
   "source": [
    "#### Predictions"
   ]
  },
  {
   "cell_type": "code",
   "execution_count": null,
   "id": "e75d8e46",
   "metadata": {},
   "outputs": [],
   "source": [
    "logReg_pred = logReg_model.predict(X_test)\n",
    "svm_pred = svm_model.predict(X_test)\n",
    "nb_pred = nb_model.predict(X_test)"
   ]
  },
  {
   "cell_type": "code",
   "execution_count": null,
   "id": "cb530206",
   "metadata": {},
   "outputs": [],
   "source": []
  },
  {
   "cell_type": "markdown",
   "id": "c3d2556b",
   "metadata": {},
   "source": [
    "#### Confusion Matrices"
   ]
  },
  {
   "cell_type": "code",
   "execution_count": null,
   "id": "9f5f56bf",
   "metadata": {},
   "outputs": [],
   "source": [
    "# Logistic Regression\n",
    "cm_logReg = confusion_matrix(y_test, logReg_pred)\n",
    "cm_logReg_display = ConfusionMatrixDisplay(confusion_matrix = cm_logReg)\n",
    "# SVM\n",
    "cm_SVM = confusion_matrix(y_test, svm_pred)\n",
    "cm_SVM_display = ConfusionMatrixDisplay(confusion_matrix = cm_SVM)\n",
    "# Naive Bayes\n",
    "cm_nb = confusion_matrix(y_test, nb_pred)\n",
    "cm_nb_display = ConfusionMatrixDisplay(confusion_matrix = cm_nb)"
   ]
  },
  {
   "cell_type": "markdown",
   "id": "36d2d7cf",
   "metadata": {},
   "source": [
    "### Visualizing the results"
   ]
  },
  {
   "cell_type": "code",
   "execution_count": 51,
   "id": "0fedf7c6",
   "metadata": {},
   "outputs": [
    {
     "name": "stdout",
     "output_type": "stream",
     "text": [
      "\n",
      "--------------------------------------------------------\n",
      "\n",
      "MODEL - REGRESJA LOGISTYCZNA\n",
      "Dokładność: 0.9187418086500655\n",
      "Raport klasyfikacji:\n",
      "               precision    recall  f1-score   support\n",
      "\n",
      "           0       1.00      0.73      0.84       229\n",
      "           1       0.90      1.00      0.95       534\n",
      "\n",
      "    accuracy                           0.92       763\n",
      "   macro avg       0.95      0.86      0.89       763\n",
      "weighted avg       0.93      0.92      0.91       763\n",
      "\n",
      "\n",
      "--------------------------------------------------------\n",
      "\n"
     ]
    },
    {
     "data": {
      "image/png": "[encoded data removed]",
      "text/plain": [
       "<Figure size 432x288 with 2 Axes>"
      ]
     },
     "metadata": {
      "needs_background": "light"
     },
     "output_type": "display_data"
    },
    {
     "name": "stdout",
     "output_type": "stream",
     "text": [
      "MODEL - SVM\n",
      "Dokładność SVM: 0.9646133682830931\n",
      "Raport klasyfikacji SVM:\n",
      "               precision    recall  f1-score   support\n",
      "\n",
      "           0       1.00      0.88      0.94       229\n",
      "           1       0.95      1.00      0.98       534\n",
      "\n",
      "    accuracy                           0.96       763\n",
      "   macro avg       0.98      0.94      0.96       763\n",
      "weighted avg       0.97      0.96      0.96       763\n",
      "\n",
      "\n",
      "--------------------------------------------------------\n",
      "\n"
     ]
    },
    {
     "data": {
      "image/png": "[encoded data removed]",
      "text/plain": [
       "<Figure size 432x288 with 2 Axes>"
      ]
     },
     "metadata": {
      "needs_background": "light"
     },
     "output_type": "display_data"
    },
    {
     "name": "stdout",
     "output_type": "stream",
     "text": [
      "MODEL - NAIVE BAYES\n",
      "Dokładność Naive Bayes: 0.9108781127129751\n",
      "Raport klasyfikacji Naive Bayes:\n",
      "               precision    recall  f1-score   support\n",
      "\n",
      "           0       0.99      0.71      0.83       229\n",
      "           1       0.89      1.00      0.94       534\n",
      "\n",
      "    accuracy                           0.91       763\n",
      "   macro avg       0.94      0.85      0.88       763\n",
      "weighted avg       0.92      0.91      0.91       763\n",
      "\n",
      "\n",
      "--------------------------------------------------------\n",
      "\n"
     ]
    }
   ],
   "source": [
    "# Logistic Regression\n",
    "print(\"\\n--------------------------------------------------------\\n\")\n",
    "print(\"MODEL - REGRESJA LOGISTYCZNA\")\n",
    "print(\"Dokładność:\", accuracy_score(y_test, logReg_pred))\n",
    "print(\"Raport klasyfikacji:\\n\", classification_report(y_test, logReg_pred))\n",
    "cm_logReg_display.plot(cmap=plt.cm.Greens)\n",
    "plt.show()\n",
    "print(\"\\n--------------------------------------------------------\\n\")\n",
    "\n",
    "# SVM\n",
    "print(\"MODEL - SVM\")\n",
    "print(\"Dokładność SVM:\", accuracy_score(y_test, svm_pred))\n",
    "print(\"Raport klasyfikacji SVM:\\n\", classification_report(y_test, svm_pred))\n",
    "print(\"\\n--------------------------------------------------------\\n\")\n",
    "\n",
    "# Naive Bayes\n",
    "print(\"MODEL - NAIVE BAYES\")\n",
    "print(\"Dokładność Naive Bayes:\", accuracy_score(y_test, nb_pred))\n",
    "print(\"Raport klasyfikacji Naive Bayes:\\n\", classification_report(y_test, nb_pred))\n",
    "print(\"\\n--------------------------------------------------------\\n\")"
   ]
  },
  {
   "cell_type": "code",
   "execution_count": 50,
   "id": "532857ca",
   "metadata": {},
   "outputs": [
    {
     "data": {
      "image/png": "[encoded data removed]",
      "text/plain": [
       "<Figure size 432x288 with 2 Axes>"
      ]
     },
     "metadata": {
      "needs_background": "light"
     },
     "output_type": "display_data"
    }
   ],
   "source": [
    "cm = confusion_matrix(y_test, logReg_pred)\n",
    "cm_display = ConfusionMatrixDisplay(confusion_matrix = cm)\n",
    "cm_display.plot(cmap=plt.cm.Greens)\n",
    "plt.show()"
   ]
  },
  {
   "cell_type": "code",
   "execution_count": null,
   "id": "306ab07e",
   "metadata": {},
   "outputs": [],
   "source": []
  },
  {
   "cell_type": "code",
   "execution_count": null,
   "id": "e3c349bd",
   "metadata": {},
   "outputs": [],
   "source": []
  },
  {
   "cell_type": "code",
   "execution_count": null,
   "id": "4bb1ba33",
   "metadata": {},
   "outputs": [],
   "source": []
  },
  {
   "cell_type": "code",
   "execution_count": null,
   "id": "2dea2bb5",
   "metadata": {},
   "outputs": [],
   "source": []
  },
  {
   "cell_type": "code",
   "execution_count": null,
   "id": "2b6af326",
   "metadata": {},
   "outputs": [],
   "source": []
  },
  {
   "cell_type": "code",
   "execution_count": null,
   "id": "13acaa3a",
   "metadata": {},
   "outputs": [],
   "source": []
  },
  {
   "cell_type": "code",
   "execution_count": null,
   "id": "bda11d8e",
   "metadata": {},
   "outputs": [],
   "source": []
  },
  {
   "cell_type": "code",
   "execution_count": null,
   "id": "113fbd6b",
   "metadata": {},
   "outputs": [],
   "source": []
  }
 ],
 "metadata": {
  "kernelspec": {
   "display_name": "Python 3",
   "language": "python",
   "name": "python3"
  },
  "language_info": {
   "codemirror_mode": {
    "name": "ipython",
    "version": 3
   },
   "file_extension": ".py",
   "mimetype": "text/x-python",
   "name": "python",
   "nbconvert_exporter": "python",
   "pygments_lexer": "ipython3",
   "version": "3.8.8"
  }
 },
 "nbformat": 4,
 "nbformat_minor": 5
}
