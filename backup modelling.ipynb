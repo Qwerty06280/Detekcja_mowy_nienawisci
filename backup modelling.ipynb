{
 "cells": [
  {
   "cell_type": "markdown",
   "id": "0c4b352a",
   "metadata": {},
   "source": [
    "## Import libraries"
   ]
  },
  {
   "cell_type": "code",
   "execution_count": 1,
   "id": "85146066",
   "metadata": {},
   "outputs": [],
   "source": [
    "import numpy as np\n",
    "import pandas as pd\n",
    "import matplotlib.pyplot as plt\n",
    "from sklearn.model_selection import train_test_split\n",
    "from sklearn.metrics import classification_report, accuracy_score, confusion_matrix, ConfusionMatrixDisplay\n",
    "# Bag of Words\n",
    "from sklearn.feature_extraction.text import CountVectorizer\n",
    "# TF-IDF\n",
    "from sklearn.feature_extraction.text import TfidfVectorizer \n",
    "# Logistic Regression\n",
    "from sklearn.linear_model import LogisticRegression\n",
    "# Naive-Bayes\n",
    "from sklearn.naive_bayes import MultinomialNB\n",
    "# SVM\n",
    "from sklearn.svm import SVC"
   ]
  },
  {
   "cell_type": "markdown",
   "id": "79639c61",
   "metadata": {},
   "source": [
    "## Read data"
   ]
  },
  {
   "cell_type": "markdown",
   "id": "383fd54a",
   "metadata": {},
   "source": [
    "#### Data for training and testing"
   ]
  },
  {
   "cell_type": "code",
   "execution_count": 2,
   "id": "e2302c9d",
   "metadata": {},
   "outputs": [],
   "source": [
    "file_path_conc = r'C:\\Users\\Chill\\Desktop\\INZYNIERKA\\dane\\found_internet\\CONCATENATED_DATA.xlsx'\n",
    "df_original = pd.read_excel(file_path_conc)"
   ]
  },
  {
   "cell_type": "code",
   "execution_count": 3,
   "id": "d0a2d038",
   "metadata": {},
   "outputs": [
    {
     "data": {
      "text/html": [
       "<div>\n",
       "<style scoped>\n",
       "    .dataframe tbody tr th:only-of-type {\n",
       "        vertical-align: middle;\n",
       "    }\n",
       "\n",
       "    .dataframe tbody tr th {\n",
       "        vertical-align: top;\n",
       "    }\n",
       "\n",
       "    .dataframe thead th {\n",
       "        text-align: right;\n",
       "    }\n",
       "</style>\n",
       "<table border=\"1\" class=\"dataframe\">\n",
       "  <thead>\n",
       "    <tr style=\"text-align: right;\">\n",
       "      <th></th>\n",
       "      <th>Comment</th>\n",
       "      <th>Is_toxic</th>\n",
       "      <th>source</th>\n",
       "    </tr>\n",
       "  </thead>\n",
       "  <tbody>\n",
       "    <tr>\n",
       "      <th>0</th>\n",
       "      <td>Dla mnie faworytem do tytułu będzie Cracovia. ...</td>\n",
       "      <td>0</td>\n",
       "      <td>dataset_poleval</td>\n",
       "    </tr>\n",
       "    <tr>\n",
       "      <th>1</th>\n",
       "      <td>Brawo ty Daria kibic ma być na dobre i złe</td>\n",
       "      <td>0</td>\n",
       "      <td>dataset_poleval</td>\n",
       "    </tr>\n",
       "    <tr>\n",
       "      <th>2</th>\n",
       "      <td>Super, polski premier składa kwiaty na grobach...</td>\n",
       "      <td>0</td>\n",
       "      <td>dataset_poleval</td>\n",
       "    </tr>\n",
       "    <tr>\n",
       "      <th>3</th>\n",
       "      <td>Musi. Innej drogi nie mamy.</td>\n",
       "      <td>0</td>\n",
       "      <td>dataset_poleval</td>\n",
       "    </tr>\n",
       "    <tr>\n",
       "      <th>4</th>\n",
       "      <td>Odrzut natychmiastowy, kwaśna mina, mam problem</td>\n",
       "      <td>0</td>\n",
       "      <td>dataset_poleval</td>\n",
       "    </tr>\n",
       "  </tbody>\n",
       "</table>\n",
       "</div>"
      ],
      "text/plain": [
       "                                             Comment  Is_toxic  \\\n",
       "0  Dla mnie faworytem do tytułu będzie Cracovia. ...         0   \n",
       "1         Brawo ty Daria kibic ma być na dobre i złe         0   \n",
       "2  Super, polski premier składa kwiaty na grobach...         0   \n",
       "3                        Musi. Innej drogi nie mamy.         0   \n",
       "4    Odrzut natychmiastowy, kwaśna mina, mam problem         0   \n",
       "\n",
       "            source  \n",
       "0  dataset_poleval  \n",
       "1  dataset_poleval  \n",
       "2  dataset_poleval  \n",
       "3  dataset_poleval  \n",
       "4  dataset_poleval  "
      ]
     },
     "execution_count": 3,
     "metadata": {},
     "output_type": "execute_result"
    }
   ],
   "source": [
    "df_original.head()"
   ]
  },
  {
   "cell_type": "markdown",
   "id": "4c6de58e",
   "metadata": {},
   "source": [
    "#### Data to predict"
   ]
  },
  {
   "cell_type": "code",
   "execution_count": 4,
   "id": "9039f864",
   "metadata": {},
   "outputs": [],
   "source": [
    "# Load the CSV file with the correct encoding (UTF-8)\n",
    "file_path_yt = r'C:\\Users\\Chill\\Desktop\\INZYNIERKA\\dane\\extracted_comments\\comms_test.xlsx'\n",
    "# comments from 4 videos:\n",
    "# https://www.youtube.com/watch?v=t4O1LLk6qlY\n",
    "# https://www.youtube.com/watch?v=r3qhl12iHKc\n",
    "# https://www.youtube.com/watch?v=iLTLbe13hLg\n",
    "# https://www.youtube.com/watch?v=v7CQkivQNQI\n",
    "\n",
    "df_predict = pd.read_excel(file_path_yt)"
   ]
  },
  {
   "cell_type": "code",
   "execution_count": 5,
   "id": "e86338c8",
   "metadata": {},
   "outputs": [
    {
     "data": {
      "text/html": [
       "<div>\n",
       "<style scoped>\n",
       "    .dataframe tbody tr th:only-of-type {\n",
       "        vertical-align: middle;\n",
       "    }\n",
       "\n",
       "    .dataframe tbody tr th {\n",
       "        vertical-align: top;\n",
       "    }\n",
       "\n",
       "    .dataframe thead th {\n",
       "        text-align: right;\n",
       "    }\n",
       "</style>\n",
       "<table border=\"1\" class=\"dataframe\">\n",
       "  <thead>\n",
       "    <tr style=\"text-align: right;\">\n",
       "      <th></th>\n",
       "      <th>Comments</th>\n",
       "    </tr>\n",
       "  </thead>\n",
       "  <tbody>\n",
       "    <tr>\n",
       "      <th>0</th>\n",
       "      <td>JKM jest zwolennikiem otwartej migracji ludzi ...</td>\n",
       "    </tr>\n",
       "    <tr>\n",
       "      <th>1</th>\n",
       "      <td>Korwin jest najlepszy</td>\n",
       "    </tr>\n",
       "    <tr>\n",
       "      <th>2</th>\n",
       "      <td>ten występ się dobrze starzeje jak popatrzymy ...</td>\n",
       "    </tr>\n",
       "    <tr>\n",
       "      <th>3</th>\n",
       "      <td>Wracam po protestach we Francji.</td>\n",
       "    </tr>\n",
       "    <tr>\n",
       "      <th>4</th>\n",
       "      <td>Po 7 latach sie sprawdziło, gosc mysli lata do...</td>\n",
       "    </tr>\n",
       "  </tbody>\n",
       "</table>\n",
       "</div>"
      ],
      "text/plain": [
       "                                            Comments\n",
       "0  JKM jest zwolennikiem otwartej migracji ludzi ...\n",
       "1                              Korwin jest najlepszy\n",
       "2  ten występ się dobrze starzeje jak popatrzymy ...\n",
       "3                   Wracam po protestach we Francji.\n",
       "4  Po 7 latach sie sprawdziło, gosc mysli lata do..."
      ]
     },
     "execution_count": 5,
     "metadata": {},
     "output_type": "execute_result"
    }
   ],
   "source": [
    "df_predict.head()"
   ]
  },
  {
   "cell_type": "markdown",
   "id": "db2db1b7",
   "metadata": {},
   "source": [
    "## Preprocessing"
   ]
  },
  {
   "cell_type": "code",
   "execution_count": 31,
   "id": "60fe93d8",
   "metadata": {},
   "outputs": [],
   "source": [
    "df = df_original"
   ]
  },
  {
   "cell_type": "code",
   "execution_count": 32,
   "id": "edc23f92",
   "metadata": {},
   "outputs": [
    {
     "data": {
      "text/plain": [
       "array(['dataset_poleval', 'dataset_zwroty', 'dataset_wykop'], dtype=object)"
      ]
     },
     "execution_count": 32,
     "metadata": {},
     "output_type": "execute_result"
    }
   ],
   "source": [
    "df_original['source'].unique()"
   ]
  },
  {
   "cell_type": "code",
   "execution_count": 33,
   "id": "68bd38c1",
   "metadata": {
    "scrolled": false
   },
   "outputs": [
    {
     "data": {
      "text/html": [
       "<div>\n",
       "<style scoped>\n",
       "    .dataframe tbody tr th:only-of-type {\n",
       "        vertical-align: middle;\n",
       "    }\n",
       "\n",
       "    .dataframe tbody tr th {\n",
       "        vertical-align: top;\n",
       "    }\n",
       "\n",
       "    .dataframe thead th {\n",
       "        text-align: right;\n",
       "    }\n",
       "</style>\n",
       "<table border=\"1\" class=\"dataframe\">\n",
       "  <thead>\n",
       "    <tr style=\"text-align: right;\">\n",
       "      <th></th>\n",
       "      <th>Comment</th>\n",
       "      <th>Is_toxic</th>\n",
       "      <th>source</th>\n",
       "    </tr>\n",
       "  </thead>\n",
       "  <tbody>\n",
       "    <tr>\n",
       "      <th>13856</th>\n",
       "      <td>\\n\\n\\nPolska wtedy oficjalnie powinna przyznać...</td>\n",
       "      <td>0</td>\n",
       "      <td>dataset_wykop</td>\n",
       "    </tr>\n",
       "    <tr>\n",
       "      <th>13857</th>\n",
       "      <td>\\n  Gigantyczna różnica\\n\\nbiorac pod uwage ko...</td>\n",
       "      <td>0</td>\n",
       "      <td>dataset_wykop</td>\n",
       "    </tr>\n",
       "    <tr>\n",
       "      <th>13858</th>\n",
       "      <td>\\n\\nMoj kumpel budowlaniec w UK  nigdy nie bie...</td>\n",
       "      <td>0</td>\n",
       "      <td>dataset_wykop</td>\n",
       "    </tr>\n",
       "    <tr>\n",
       "      <th>13859</th>\n",
       "      <td>kura, rzodkiewka za 3pln to nie jest tanio</td>\n",
       "      <td>0</td>\n",
       "      <td>dataset_wykop</td>\n",
       "    </tr>\n",
       "    <tr>\n",
       "      <th>13860</th>\n",
       "      <td>większość nie idzie w marszu za PO ale przeciw...</td>\n",
       "      <td>0</td>\n",
       "      <td>dataset_wykop</td>\n",
       "    </tr>\n",
       "  </tbody>\n",
       "</table>\n",
       "</div>"
      ],
      "text/plain": [
       "                                                 Comment  Is_toxic  \\\n",
       "13856  \\n\\n\\nPolska wtedy oficjalnie powinna przyznać...         0   \n",
       "13857  \\n  Gigantyczna różnica\\n\\nbiorac pod uwage ko...         0   \n",
       "13858  \\n\\nMoj kumpel budowlaniec w UK  nigdy nie bie...         0   \n",
       "13859         kura, rzodkiewka za 3pln to nie jest tanio         0   \n",
       "13860  większość nie idzie w marszu za PO ale przeciw...         0   \n",
       "\n",
       "              source  \n",
       "13856  dataset_wykop  \n",
       "13857  dataset_wykop  \n",
       "13858  dataset_wykop  \n",
       "13859  dataset_wykop  \n",
       "13860  dataset_wykop  "
      ]
     },
     "execution_count": 33,
     "metadata": {},
     "output_type": "execute_result"
    }
   ],
   "source": [
    "# Wybieram na razie tylko jeden dataset, najmniej skomplikowany\n",
    "df = df[df['source'] == 'dataset_wykop']\n",
    "df.head()"
   ]
  },
  {
   "cell_type": "code",
   "execution_count": 34,
   "id": "f3830d38",
   "metadata": {},
   "outputs": [],
   "source": [
    "# utworzenie polskiej listy stop words TODO\n",
    "polish_stop_words = ['i', 'oraz', 'ale', 'tak', 'to', '\\n']"
   ]
  },
  {
   "cell_type": "markdown",
   "id": "bf516576",
   "metadata": {},
   "source": [
    "#### Bag of Words (BoW)"
   ]
  },
  {
   "cell_type": "code",
   "execution_count": 35,
   "id": "ad138388",
   "metadata": {},
   "outputs": [],
   "source": [
    "# vectorizer = CountVectorizer(lowercase=True, stop_words=polish_stop_words)\n",
    "# X = vectorizer.fit_transform(df['Comment'])"
   ]
  },
  {
   "cell_type": "markdown",
   "id": "78764afe",
   "metadata": {},
   "source": [
    "#### TF-IDF"
   ]
  },
  {
   "cell_type": "code",
   "execution_count": 36,
   "id": "ebf773ec",
   "metadata": {},
   "outputs": [],
   "source": [
    "# tfidf_vectorizer = TfidfVectorizer(lowercase=True, stop_words=None)\n",
    "# X = tfidf_vectorizer.fit_transform(df['Comment'])"
   ]
  },
  {
   "cell_type": "markdown",
   "id": "85708402",
   "metadata": {},
   "source": [
    "### Function - Vectorizer"
   ]
  },
  {
   "cell_type": "code",
   "execution_count": 37,
   "id": "4ab7a1a1",
   "metadata": {},
   "outputs": [],
   "source": [
    "def Vectorize(method = 'Bag of Words'):\n",
    "    if method == 'Bag of Words':\n",
    "        vectorizer = CountVectorizer(lowercase=True, stop_words=polish_stop_words) # TODO parametry\n",
    "    elif method =='TF-IDF':\n",
    "        vectorizer = TfidfVectorizer(lowercase=True, stop_words=polish_stop_words) # TODO parametry\n",
    "    else:\n",
    "        raise ValueError(\"Method not found\")\n",
    "    return vectorizer"
   ]
  },
  {
   "cell_type": "code",
   "execution_count": 38,
   "id": "8c8a8c2a",
   "metadata": {},
   "outputs": [],
   "source": [
    "#vectorizer = Vectorize('Bag of Words')\n",
    "vectorizer = Vectorize(method = 'TF-IDF')\n",
    "X = vectorizer.fit_transform(df['Comment'])"
   ]
  },
  {
   "cell_type": "code",
   "execution_count": 39,
   "id": "5ba46bcb",
   "metadata": {},
   "outputs": [],
   "source": [
    "# Podział danych na zestaw treningowy i testowy\n",
    "X_train, X_test, y_train, y_test = train_test_split(X, df['Is_toxic'], test_size=0.2, random_state=42)"
   ]
  },
  {
   "cell_type": "markdown",
   "id": "4fc326b9",
   "metadata": {},
   "source": [
    "# MODELS"
   ]
  },
  {
   "cell_type": "markdown",
   "id": "8950f7cb",
   "metadata": {},
   "source": [
    "#### Creating models"
   ]
  },
  {
   "cell_type": "code",
   "execution_count": 40,
   "id": "7ddcc6c9",
   "metadata": {},
   "outputs": [],
   "source": [
    "# Logistic regression\n",
    "logReg_model = LogisticRegression()\n",
    "# SVM\n",
    "svm_model = SVC()\n",
    "# Naive Bayes\n",
    "nb_model = MultinomialNB()"
   ]
  },
  {
   "cell_type": "markdown",
   "id": "54b04b6c",
   "metadata": {},
   "source": [
    "#### Training models"
   ]
  },
  {
   "cell_type": "code",
   "execution_count": 41,
   "id": "75d27bb3",
   "metadata": {},
   "outputs": [
    {
     "ename": "KeyboardInterrupt",
     "evalue": "",
     "output_type": "error",
     "traceback": [
      "\u001b[1;31m---------------------------------------------------------------------------\u001b[0m",
      "\u001b[1;31mKeyboardInterrupt\u001b[0m                         Traceback (most recent call last)",
      "\u001b[1;32m<ipython-input-41-2ff04f81ff1e>\u001b[0m in \u001b[0;36m<module>\u001b[1;34m\u001b[0m\n\u001b[0;32m      2\u001b[0m \u001b[0mlogReg_model\u001b[0m\u001b[1;33m.\u001b[0m\u001b[0mfit\u001b[0m\u001b[1;33m(\u001b[0m\u001b[0mX_train\u001b[0m\u001b[1;33m,\u001b[0m \u001b[0my_train\u001b[0m\u001b[1;33m)\u001b[0m\u001b[1;33m\u001b[0m\u001b[1;33m\u001b[0m\u001b[0m\n\u001b[0;32m      3\u001b[0m \u001b[1;31m# SVM\u001b[0m\u001b[1;33m\u001b[0m\u001b[1;33m\u001b[0m\u001b[1;33m\u001b[0m\u001b[0m\n\u001b[1;32m----> 4\u001b[1;33m \u001b[0msvm_model\u001b[0m\u001b[1;33m.\u001b[0m\u001b[0mfit\u001b[0m\u001b[1;33m(\u001b[0m\u001b[0mX_train\u001b[0m\u001b[1;33m,\u001b[0m \u001b[0my_train\u001b[0m\u001b[1;33m)\u001b[0m\u001b[1;33m\u001b[0m\u001b[1;33m\u001b[0m\u001b[0m\n\u001b[0m\u001b[0;32m      5\u001b[0m \u001b[1;31m# Naive Bayes\u001b[0m\u001b[1;33m\u001b[0m\u001b[1;33m\u001b[0m\u001b[1;33m\u001b[0m\u001b[0m\n\u001b[0;32m      6\u001b[0m \u001b[0mnb_model\u001b[0m\u001b[1;33m.\u001b[0m\u001b[0mfit\u001b[0m\u001b[1;33m(\u001b[0m\u001b[0mX_train\u001b[0m\u001b[1;33m,\u001b[0m \u001b[0my_train\u001b[0m\u001b[1;33m)\u001b[0m\u001b[1;33m\u001b[0m\u001b[1;33m\u001b[0m\u001b[0m\n",
      "\u001b[1;32mC:\\ProgramData\\Anaconda3\\lib\\site-packages\\sklearn\\svm\\_base.py\u001b[0m in \u001b[0;36mfit\u001b[1;34m(self, X, y, sample_weight)\u001b[0m\n\u001b[0;32m    249\u001b[0m \u001b[1;33m\u001b[0m\u001b[0m\n\u001b[0;32m    250\u001b[0m         \u001b[0mseed\u001b[0m \u001b[1;33m=\u001b[0m \u001b[0mrnd\u001b[0m\u001b[1;33m.\u001b[0m\u001b[0mrandint\u001b[0m\u001b[1;33m(\u001b[0m\u001b[0mnp\u001b[0m\u001b[1;33m.\u001b[0m\u001b[0miinfo\u001b[0m\u001b[1;33m(\u001b[0m\u001b[1;34m\"i\"\u001b[0m\u001b[1;33m)\u001b[0m\u001b[1;33m.\u001b[0m\u001b[0mmax\u001b[0m\u001b[1;33m)\u001b[0m\u001b[1;33m\u001b[0m\u001b[1;33m\u001b[0m\u001b[0m\n\u001b[1;32m--> 251\u001b[1;33m         \u001b[0mfit\u001b[0m\u001b[1;33m(\u001b[0m\u001b[0mX\u001b[0m\u001b[1;33m,\u001b[0m \u001b[0my\u001b[0m\u001b[1;33m,\u001b[0m \u001b[0msample_weight\u001b[0m\u001b[1;33m,\u001b[0m \u001b[0msolver_type\u001b[0m\u001b[1;33m,\u001b[0m \u001b[0mkernel\u001b[0m\u001b[1;33m,\u001b[0m \u001b[0mrandom_seed\u001b[0m\u001b[1;33m=\u001b[0m\u001b[0mseed\u001b[0m\u001b[1;33m)\u001b[0m\u001b[1;33m\u001b[0m\u001b[1;33m\u001b[0m\u001b[0m\n\u001b[0m\u001b[0;32m    252\u001b[0m         \u001b[1;31m# see comment on the other call to np.iinfo in this file\u001b[0m\u001b[1;33m\u001b[0m\u001b[1;33m\u001b[0m\u001b[1;33m\u001b[0m\u001b[0m\n\u001b[0;32m    253\u001b[0m \u001b[1;33m\u001b[0m\u001b[0m\n",
      "\u001b[1;32mC:\\ProgramData\\Anaconda3\\lib\\site-packages\\sklearn\\svm\\_base.py\u001b[0m in \u001b[0;36m_sparse_fit\u001b[1;34m(self, X, y, sample_weight, solver_type, kernel, random_seed)\u001b[0m\n\u001b[0;32m    372\u001b[0m             \u001b[0mself\u001b[0m\u001b[1;33m.\u001b[0m\u001b[0mfit_status_\u001b[0m\u001b[1;33m,\u001b[0m\u001b[1;33m\u001b[0m\u001b[1;33m\u001b[0m\u001b[0m\n\u001b[0;32m    373\u001b[0m             \u001b[0mself\u001b[0m\u001b[1;33m.\u001b[0m\u001b[0m_num_iter\u001b[0m\u001b[1;33m,\u001b[0m\u001b[1;33m\u001b[0m\u001b[1;33m\u001b[0m\u001b[0m\n\u001b[1;32m--> 374\u001b[1;33m         \u001b[1;33m)\u001b[0m \u001b[1;33m=\u001b[0m \u001b[0mlibsvm_sparse\u001b[0m\u001b[1;33m.\u001b[0m\u001b[0mlibsvm_sparse_train\u001b[0m\u001b[1;33m(\u001b[0m\u001b[1;33m\u001b[0m\u001b[1;33m\u001b[0m\u001b[0m\n\u001b[0m\u001b[0;32m    375\u001b[0m             \u001b[0mX\u001b[0m\u001b[1;33m.\u001b[0m\u001b[0mshape\u001b[0m\u001b[1;33m[\u001b[0m\u001b[1;36m1\u001b[0m\u001b[1;33m]\u001b[0m\u001b[1;33m,\u001b[0m\u001b[1;33m\u001b[0m\u001b[1;33m\u001b[0m\u001b[0m\n\u001b[0;32m    376\u001b[0m             \u001b[0mX\u001b[0m\u001b[1;33m.\u001b[0m\u001b[0mdata\u001b[0m\u001b[1;33m,\u001b[0m\u001b[1;33m\u001b[0m\u001b[1;33m\u001b[0m\u001b[0m\n",
      "\u001b[1;32msklearn\\svm\\_libsvm_sparse.pyx\u001b[0m in \u001b[0;36msklearn.svm._libsvm_sparse.libsvm_sparse_train\u001b[1;34m()\u001b[0m\n",
      "\u001b[1;32mC:\\ProgramData\\Anaconda3\\lib\\site-packages\\scipy\\sparse\\compressed.py\u001b[0m in \u001b[0;36m__init__\u001b[1;34m(self, arg1, shape, dtype, copy)\u001b[0m\n\u001b[0;32m     25\u001b[0m     \u001b[1;34m\"\"\"base matrix class for compressed row- and column-oriented matrices\"\"\"\u001b[0m\u001b[1;33m\u001b[0m\u001b[1;33m\u001b[0m\u001b[0m\n\u001b[0;32m     26\u001b[0m \u001b[1;33m\u001b[0m\u001b[0m\n\u001b[1;32m---> 27\u001b[1;33m     \u001b[1;32mdef\u001b[0m \u001b[0m__init__\u001b[0m\u001b[1;33m(\u001b[0m\u001b[0mself\u001b[0m\u001b[1;33m,\u001b[0m \u001b[0marg1\u001b[0m\u001b[1;33m,\u001b[0m \u001b[0mshape\u001b[0m\u001b[1;33m=\u001b[0m\u001b[1;32mNone\u001b[0m\u001b[1;33m,\u001b[0m \u001b[0mdtype\u001b[0m\u001b[1;33m=\u001b[0m\u001b[1;32mNone\u001b[0m\u001b[1;33m,\u001b[0m \u001b[0mcopy\u001b[0m\u001b[1;33m=\u001b[0m\u001b[1;32mFalse\u001b[0m\u001b[1;33m)\u001b[0m\u001b[1;33m:\u001b[0m\u001b[1;33m\u001b[0m\u001b[1;33m\u001b[0m\u001b[0m\n\u001b[0m\u001b[0;32m     28\u001b[0m         \u001b[0m_data_matrix\u001b[0m\u001b[1;33m.\u001b[0m\u001b[0m__init__\u001b[0m\u001b[1;33m(\u001b[0m\u001b[0mself\u001b[0m\u001b[1;33m)\u001b[0m\u001b[1;33m\u001b[0m\u001b[1;33m\u001b[0m\u001b[0m\n\u001b[0;32m     29\u001b[0m \u001b[1;33m\u001b[0m\u001b[0m\n",
      "\u001b[1;31mKeyboardInterrupt\u001b[0m: "
     ]
    }
   ],
   "source": [
    "# Logistic Regression\n",
    "logReg_model.fit(X_train, y_train)\n",
    "# SVM\n",
    "svm_model.fit(X_train, y_train)\n",
    "# Naive Bayes\n",
    "nb_model.fit(X_train, y_train)"
   ]
  },
  {
   "cell_type": "markdown",
   "id": "06295a8b",
   "metadata": {},
   "source": [
    "#### Predictions"
   ]
  },
  {
   "cell_type": "code",
   "execution_count": null,
   "id": "788678bd",
   "metadata": {},
   "outputs": [],
   "source": [
    "logReg_pred = logReg_model.predict(X_test)\n",
    "svm_pred = svm_model.predict(X_test)\n",
    "nb_pred = nb_model.predict(X_test)"
   ]
  },
  {
   "cell_type": "code",
   "execution_count": null,
   "id": "1c88eb0b",
   "metadata": {},
   "outputs": [],
   "source": []
  },
  {
   "cell_type": "markdown",
   "id": "8ebc2878",
   "metadata": {},
   "source": [
    "#### Confusion Matrices"
   ]
  },
  {
   "cell_type": "code",
   "execution_count": 20,
   "id": "1086f4f9",
   "metadata": {},
   "outputs": [],
   "source": [
    "# Logistic Regression\n",
    "cm_logReg = confusion_matrix(y_test, logReg_pred)\n",
    "cm_logReg_display = ConfusionMatrixDisplay(confusion_matrix = cm_logReg)\n",
    "# SVM\n",
    "cm_SVM = confusion_matrix(y_test, svm_pred)\n",
    "cm_SVM_display = ConfusionMatrixDisplay(confusion_matrix = cm_SVM)\n",
    "# Naive Bayes\n",
    "cm_nb = confusion_matrix(y_test, nb_pred)\n",
    "cm_nb_display = ConfusionMatrixDisplay(confusion_matrix = cm_nb)"
   ]
  },
  {
   "cell_type": "markdown",
   "id": "a8f77223",
   "metadata": {},
   "source": [
    "### Visualizing the results"
   ]
  },
  {
   "cell_type": "code",
   "execution_count": 21,
   "id": "a5ef3b9e",
   "metadata": {},
   "outputs": [
    {
     "name": "stdout",
     "output_type": "stream",
     "text": [
      "\n",
      "--------------------------------------------------------\n",
      "\n",
      "MODEL - REGRESJA LOGISTYCZNA\n",
      "Dokładność: 0.9187418086500655\n",
      "Raport klasyfikacji:\n",
      "               precision    recall  f1-score   support\n",
      "\n",
      "           0       1.00      0.73      0.84       229\n",
      "           1       0.90      1.00      0.95       534\n",
      "\n",
      "    accuracy                           0.92       763\n",
      "   macro avg       0.95      0.86      0.89       763\n",
      "weighted avg       0.93      0.92      0.91       763\n",
      "\n"
     ]
    },
    {
     "data": {
      "image/png": "[encoded data removed]",
      "text/plain": [
       "<Figure size 432x288 with 2 Axes>"
      ]
     },
     "metadata": {
      "needs_background": "light"
     },
     "output_type": "display_data"
    },
    {
     "name": "stdout",
     "output_type": "stream",
     "text": [
      "\n",
      "--------------------------------------------------------\n",
      "\n",
      "MODEL - SVM\n",
      "Dokładność SVM: 0.9646133682830931\n",
      "Raport klasyfikacji SVM:\n",
      "               precision    recall  f1-score   support\n",
      "\n",
      "           0       1.00      0.88      0.94       229\n",
      "           1       0.95      1.00      0.98       534\n",
      "\n",
      "    accuracy                           0.96       763\n",
      "   macro avg       0.98      0.94      0.96       763\n",
      "weighted avg       0.97      0.96      0.96       763\n",
      "\n",
      "\n",
      "--------------------------------------------------------\n",
      "\n",
      "MODEL - NAIVE BAYES\n",
      "Dokładność Naive Bayes: 0.9108781127129751\n",
      "Raport klasyfikacji Naive Bayes:\n",
      "               precision    recall  f1-score   support\n",
      "\n",
      "           0       0.99      0.71      0.83       229\n",
      "           1       0.89      1.00      0.94       534\n",
      "\n",
      "    accuracy                           0.91       763\n",
      "   macro avg       0.94      0.85      0.88       763\n",
      "weighted avg       0.92      0.91      0.91       763\n",
      "\n",
      "\n",
      "--------------------------------------------------------\n",
      "\n"
     ]
    }
   ],
   "source": [
    "# Logistic Regression\n",
    "print(\"\\n--------------------------------------------------------\\n\")\n",
    "print(\"MODEL - REGRESJA LOGISTYCZNA\")\n",
    "print(\"Dokładność:\", accuracy_score(y_test, logReg_pred))\n",
    "print(\"Raport klasyfikacji:\\n\", classification_report(y_test, logReg_pred))\n",
    "cm_logReg_display.plot(cmap=plt.cm.Greens)\n",
    "plt.show()\n",
    "print(\"\\n--------------------------------------------------------\\n\")\n",
    "\n",
    "# SVM\n",
    "print(\"MODEL - SVM\")\n",
    "print(\"Dokładność SVM:\", accuracy_score(y_test, svm_pred))\n",
    "print(\"Raport klasyfikacji SVM:\\n\", classification_report(y_test, svm_pred))\n",
    "print(\"\\n--------------------------------------------------------\\n\")\n",
    "\n",
    "# Naive Bayes\n",
    "print(\"MODEL - NAIVE BAYES\")\n",
    "print(\"Dokładność Naive Bayes:\", accuracy_score(y_test, nb_pred))\n",
    "print(\"Raport klasyfikacji Naive Bayes:\\n\", classification_report(y_test, nb_pred))\n",
    "print(\"\\n--------------------------------------------------------\\n\")"
   ]
  },
  {
   "cell_type": "code",
   "execution_count": 22,
   "id": "acfe72e0",
   "metadata": {},
   "outputs": [
    {
     "data": {
      "image/png": "[encoded data removed]",
      "text/plain": [
       "<Figure size 432x288 with 2 Axes>"
      ]
     },
     "metadata": {
      "needs_background": "light"
     },
     "output_type": "display_data"
    }
   ],
   "source": [
    "cm = confusion_matrix(y_test, logReg_pred)\n",
    "cm_display = ConfusionMatrixDisplay(confusion_matrix = cm)\n",
    "cm_display.plot(cmap=plt.cm.Greens)\n",
    "plt.show()"
   ]
  },
  {
   "cell_type": "code",
   "execution_count": null,
   "id": "37fe9883",
   "metadata": {},
   "outputs": [],
   "source": []
  },
  {
   "cell_type": "code",
   "execution_count": null,
   "id": "d243cf39",
   "metadata": {},
   "outputs": [],
   "source": []
  },
  {
   "cell_type": "code",
   "execution_count": null,
   "id": "60436bf2",
   "metadata": {},
   "outputs": [],
   "source": []
  },
  {
   "cell_type": "code",
   "execution_count": null,
   "id": "788e93b2",
   "metadata": {},
   "outputs": [],
   "source": []
  },
  {
   "cell_type": "code",
   "execution_count": null,
   "id": "27956c9b",
   "metadata": {},
   "outputs": [],
   "source": []
  },
  {
   "cell_type": "code",
   "execution_count": null,
   "id": "9edd32b6",
   "metadata": {},
   "outputs": [],
   "source": []
  },
  {
   "cell_type": "code",
   "execution_count": null,
   "id": "e09f0466",
   "metadata": {},
   "outputs": [],
   "source": []
  },
  {
   "cell_type": "code",
   "execution_count": null,
   "id": "d83c6583",
   "metadata": {},
   "outputs": [],
   "source": []
  }
 ],
 "metadata": {
  "kernelspec": {
   "display_name": "Python 3",
   "language": "python",
   "name": "python3"
  },
  "language_info": {
   "codemirror_mode": {
    "name": "ipython",
    "version": 3
   },
   "file_extension": ".py",
   "mimetype": "text/x-python",
   "name": "python",
   "nbconvert_exporter": "python",
   "pygments_lexer": "ipython3",
   "version": "3.8.8"
  }
 },
 "nbformat": 4,
 "nbformat_minor": 5
}
