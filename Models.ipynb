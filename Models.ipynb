{
 "cells": [
  {
   "cell_type": "markdown",
   "id": "8d562a5a",
   "metadata": {},
   "source": [
    "## Import libraries"
   ]
  },
  {
   "cell_type": "code",
   "execution_count": 25,
   "id": "36971142",
   "metadata": {},
   "outputs": [],
   "source": [
    "import numpy as np\n",
    "import pandas as pd\n",
    "import matplotlib.pyplot as plt\n",
    "from sklearn.model_selection import train_test_split\n",
    "from sklearn.metrics import classification_report, accuracy_score, confusion_matrix, ConfusionMatrixDisplay\n",
    "# Bag of Words\n",
    "from sklearn.feature_extraction.text import CountVectorizer\n",
    "# TF-IDF\n",
    "from sklearn.feature_extraction.text import TfidfVectorizer \n",
    "# Logistic Regression\n",
    "from sklearn.linear_model import LogisticRegression\n",
    "# Naive-Bayes\n",
    "from sklearn.naive_bayes import MultinomialNB\n",
    "# SVM\n",
    "from sklearn.svm import SVC"
   ]
  },
  {
   "cell_type": "markdown",
   "id": "9a1510f1",
   "metadata": {},
   "source": [
    "## Read data"
   ]
  },
  {
   "cell_type": "markdown",
   "id": "f5d0ee13",
   "metadata": {},
   "source": [
    "#### Data for training and testing"
   ]
  },
  {
   "cell_type": "code",
   "execution_count": 26,
   "id": "ebfa330f",
   "metadata": {},
   "outputs": [],
   "source": [
    "file_path_conc = r'C:\\Users\\Chill\\Desktop\\INZYNIERKA\\dane\\found_internet\\CONCATENATED_DATA.xlsx'\n",
    "df_original = pd.read_excel(file_path_conc)"
   ]
  },
  {
   "cell_type": "code",
   "execution_count": 27,
   "id": "f94f6907",
   "metadata": {},
   "outputs": [
    {
     "data": {
      "text/html": [
       "<div>\n",
       "<style scoped>\n",
       "    .dataframe tbody tr th:only-of-type {\n",
       "        vertical-align: middle;\n",
       "    }\n",
       "\n",
       "    .dataframe tbody tr th {\n",
       "        vertical-align: top;\n",
       "    }\n",
       "\n",
       "    .dataframe thead th {\n",
       "        text-align: right;\n",
       "    }\n",
       "</style>\n",
       "<table border=\"1\" class=\"dataframe\">\n",
       "  <thead>\n",
       "    <tr style=\"text-align: right;\">\n",
       "      <th></th>\n",
       "      <th>Comment</th>\n",
       "      <th>Is_toxic</th>\n",
       "      <th>source</th>\n",
       "    </tr>\n",
       "  </thead>\n",
       "  <tbody>\n",
       "    <tr>\n",
       "      <th>0</th>\n",
       "      <td>Dla mnie faworytem do tytułu będzie Cracovia. ...</td>\n",
       "      <td>0</td>\n",
       "      <td>dataset_poleval</td>\n",
       "    </tr>\n",
       "    <tr>\n",
       "      <th>1</th>\n",
       "      <td>Brawo ty Daria kibic ma być na dobre i złe</td>\n",
       "      <td>0</td>\n",
       "      <td>dataset_poleval</td>\n",
       "    </tr>\n",
       "    <tr>\n",
       "      <th>2</th>\n",
       "      <td>Super, polski premier składa kwiaty na grobach...</td>\n",
       "      <td>0</td>\n",
       "      <td>dataset_poleval</td>\n",
       "    </tr>\n",
       "    <tr>\n",
       "      <th>3</th>\n",
       "      <td>Musi. Innej drogi nie mamy.</td>\n",
       "      <td>0</td>\n",
       "      <td>dataset_poleval</td>\n",
       "    </tr>\n",
       "    <tr>\n",
       "      <th>4</th>\n",
       "      <td>Odrzut natychmiastowy, kwaśna mina, mam problem</td>\n",
       "      <td>0</td>\n",
       "      <td>dataset_poleval</td>\n",
       "    </tr>\n",
       "  </tbody>\n",
       "</table>\n",
       "</div>"
      ],
      "text/plain": [
       "                                             Comment  Is_toxic  \\\n",
       "0  Dla mnie faworytem do tytułu będzie Cracovia. ...         0   \n",
       "1         Brawo ty Daria kibic ma być na dobre i złe         0   \n",
       "2  Super, polski premier składa kwiaty na grobach...         0   \n",
       "3                        Musi. Innej drogi nie mamy.         0   \n",
       "4    Odrzut natychmiastowy, kwaśna mina, mam problem         0   \n",
       "\n",
       "            source  \n",
       "0  dataset_poleval  \n",
       "1  dataset_poleval  \n",
       "2  dataset_poleval  \n",
       "3  dataset_poleval  \n",
       "4  dataset_poleval  "
      ]
     },
     "execution_count": 27,
     "metadata": {},
     "output_type": "execute_result"
    }
   ],
   "source": [
    "df_original.head()"
   ]
  },
  {
   "cell_type": "markdown",
   "id": "4c6de58e",
   "metadata": {},
   "source": [
    "#### Data to predict"
   ]
  },
  {
   "cell_type": "code",
   "execution_count": 28,
   "id": "9039f864",
   "metadata": {},
   "outputs": [],
   "source": [
    "# Load the CSV file with the correct encoding (UTF-8)\n",
    "file_path_yt = r'C:\\Users\\Chill\\Desktop\\INZYNIERKA\\dane\\extracted_comments\\comms_test.xlsx'\n",
    "# comments from 4 videos:\n",
    "# https://www.youtube.com/watch?v=t4O1LLk6qlY\n",
    "# https://www.youtube.com/watch?v=r3qhl12iHKc\n",
    "# https://www.youtube.com/watch?v=iLTLbe13hLg\n",
    "# https://www.youtube.com/watch?v=v7CQkivQNQI\n",
    "\n",
    "df_predict = pd.read_excel(file_path_yt)"
   ]
  },
  {
   "cell_type": "code",
   "execution_count": 29,
   "id": "e86338c8",
   "metadata": {},
   "outputs": [
    {
     "data": {
      "text/html": [
       "<div>\n",
       "<style scoped>\n",
       "    .dataframe tbody tr th:only-of-type {\n",
       "        vertical-align: middle;\n",
       "    }\n",
       "\n",
       "    .dataframe tbody tr th {\n",
       "        vertical-align: top;\n",
       "    }\n",
       "\n",
       "    .dataframe thead th {\n",
       "        text-align: right;\n",
       "    }\n",
       "</style>\n",
       "<table border=\"1\" class=\"dataframe\">\n",
       "  <thead>\n",
       "    <tr style=\"text-align: right;\">\n",
       "      <th></th>\n",
       "      <th>Comments</th>\n",
       "    </tr>\n",
       "  </thead>\n",
       "  <tbody>\n",
       "    <tr>\n",
       "      <th>0</th>\n",
       "      <td>JKM jest zwolennikiem otwartej migracji ludzi ...</td>\n",
       "    </tr>\n",
       "    <tr>\n",
       "      <th>1</th>\n",
       "      <td>Korwin jest najlepszy</td>\n",
       "    </tr>\n",
       "    <tr>\n",
       "      <th>2</th>\n",
       "      <td>ten występ się dobrze starzeje jak popatrzymy ...</td>\n",
       "    </tr>\n",
       "    <tr>\n",
       "      <th>3</th>\n",
       "      <td>Wracam po protestach we Francji.</td>\n",
       "    </tr>\n",
       "    <tr>\n",
       "      <th>4</th>\n",
       "      <td>Po 7 latach sie sprawdziło, gosc mysli lata do...</td>\n",
       "    </tr>\n",
       "  </tbody>\n",
       "</table>\n",
       "</div>"
      ],
      "text/plain": [
       "                                            Comments\n",
       "0  JKM jest zwolennikiem otwartej migracji ludzi ...\n",
       "1                              Korwin jest najlepszy\n",
       "2  ten występ się dobrze starzeje jak popatrzymy ...\n",
       "3                   Wracam po protestach we Francji.\n",
       "4  Po 7 latach sie sprawdziło, gosc mysli lata do..."
      ]
     },
     "execution_count": 29,
     "metadata": {},
     "output_type": "execute_result"
    }
   ],
   "source": [
    "df_predict.head()"
   ]
  },
  {
   "cell_type": "markdown",
   "id": "46cf0a8b",
   "metadata": {},
   "source": [
    "## Preprocessing"
   ]
  },
  {
   "cell_type": "code",
   "execution_count": 30,
   "id": "fc72123b",
   "metadata": {},
   "outputs": [],
   "source": [
    "df = df_original"
   ]
  },
  {
   "cell_type": "code",
   "execution_count": 31,
   "id": "49bdb97b",
   "metadata": {
    "scrolled": false
   },
   "outputs": [
    {
     "data": {
      "text/html": [
       "<div>\n",
       "<style scoped>\n",
       "    .dataframe tbody tr th:only-of-type {\n",
       "        vertical-align: middle;\n",
       "    }\n",
       "\n",
       "    .dataframe tbody tr th {\n",
       "        vertical-align: top;\n",
       "    }\n",
       "\n",
       "    .dataframe thead th {\n",
       "        text-align: right;\n",
       "    }\n",
       "</style>\n",
       "<table border=\"1\" class=\"dataframe\">\n",
       "  <thead>\n",
       "    <tr style=\"text-align: right;\">\n",
       "      <th></th>\n",
       "      <th>Comment</th>\n",
       "      <th>Is_toxic</th>\n",
       "      <th>source</th>\n",
       "    </tr>\n",
       "  </thead>\n",
       "  <tbody>\n",
       "    <tr>\n",
       "      <th>10041</th>\n",
       "      <td>Nienawidzę gejów.</td>\n",
       "      <td>1</td>\n",
       "      <td>dataset_zwroty</td>\n",
       "    </tr>\n",
       "    <tr>\n",
       "      <th>10042</th>\n",
       "      <td>Nienawidzę azjatów.</td>\n",
       "      <td>1</td>\n",
       "      <td>dataset_zwroty</td>\n",
       "    </tr>\n",
       "    <tr>\n",
       "      <th>10043</th>\n",
       "      <td>Nienawidzę niepełnosprawnych.</td>\n",
       "      <td>1</td>\n",
       "      <td>dataset_zwroty</td>\n",
       "    </tr>\n",
       "    <tr>\n",
       "      <th>10044</th>\n",
       "      <td>Nienawidzę Żydów.</td>\n",
       "      <td>1</td>\n",
       "      <td>dataset_zwroty</td>\n",
       "    </tr>\n",
       "    <tr>\n",
       "      <th>10045</th>\n",
       "      <td>Nienawidzę imigrantów.</td>\n",
       "      <td>1</td>\n",
       "      <td>dataset_zwroty</td>\n",
       "    </tr>\n",
       "  </tbody>\n",
       "</table>\n",
       "</div>"
      ],
      "text/plain": [
       "                             Comment  Is_toxic          source\n",
       "10041              Nienawidzę gejów.         1  dataset_zwroty\n",
       "10042            Nienawidzę azjatów.         1  dataset_zwroty\n",
       "10043  Nienawidzę niepełnosprawnych.         1  dataset_zwroty\n",
       "10044              Nienawidzę Żydów.         1  dataset_zwroty\n",
       "10045         Nienawidzę imigrantów.         1  dataset_zwroty"
      ]
     },
     "execution_count": 31,
     "metadata": {},
     "output_type": "execute_result"
    }
   ],
   "source": [
    "# Wybieram na razie tylko jeden dataset, najmniej skomplikowany\n",
    "df = df[df['source'] == 'dataset_zwroty']\n",
    "df.head()"
   ]
  },
  {
   "cell_type": "code",
   "execution_count": 32,
   "id": "ac7a0357",
   "metadata": {},
   "outputs": [],
   "source": [
    "# utworzenie polskiej listy stop words TODO\n",
    "polish_stop_words = ['i', 'oraz', 'ale', 'tak', 'to']"
   ]
  },
  {
   "cell_type": "markdown",
   "id": "00f8a335",
   "metadata": {},
   "source": [
    "# Functions"
   ]
  },
  {
   "cell_type": "markdown",
   "id": "c0776ec0",
   "metadata": {},
   "source": [
    "### Function - Vectorizer"
   ]
  },
  {
   "cell_type": "code",
   "execution_count": 58,
   "id": "986da767",
   "metadata": {},
   "outputs": [],
   "source": [
    "def Vectorize(method = 'Bag of Words', stop_words = None):\n",
    "    if method == 'Bag of Words':\n",
    "        vectorizer = CountVectorizer(lowercase=True, stop_words=polish_stop_words) # TODO parametry\n",
    "    elif method =='TF-IDF':\n",
    "        vectorizer = TfidfVectorizer(lowercase=True, stop_words=polish_stop_words) # TODO parametry\n",
    "    else:\n",
    "        raise ValueError(\"Method not found\")\n",
    "    return vectorizer"
   ]
  },
  {
   "cell_type": "markdown",
   "id": "15b90430",
   "metadata": {},
   "source": [
    "### Function - make_predictions"
   ]
  },
  {
   "cell_type": "code",
   "execution_count": 78,
   "id": "f9ded46e",
   "metadata": {},
   "outputs": [],
   "source": [
    "def make_predictions(data, comments_col = 'Comment', target_col = 'Is_toxic', vectoraizer_name = 'Bag of Words', \n",
    "                     model_name = 'Logistic Regression', stop_words = None, test_size = 0.2):\n",
    "    \n",
    "    vectorizer = Vectorize(method = vectoraizer_name, stop_words = stop_words)\n",
    "    X = vectorizer.fit_transform(data[comments_col])\n",
    "    # Split data to training and testing set\n",
    "    X_train, X_test, y_train, y_test = train_test_split(X, data[target_col], test_size=test_size, random_state=42)\n",
    "    \n",
    "    # MODEL\n",
    "    # Logistic regression\n",
    "    if model_name == 'Logistic Regression':\n",
    "        model = LogisticRegression()\n",
    "    # SVM\n",
    "    elif model_name == 'SVM':\n",
    "        model = SVC()\n",
    "    # Naive Bayes\n",
    "    elif model_name == 'Naive-Bayes':\n",
    "        model = MultinomialNB()\n",
    "    else:\n",
    "        raise ValueError('Wrong model_name')\n",
    "    \n",
    "    # TRAIN MODEL\n",
    "    model.fit(X_train, y_train)\n",
    "    # PREDICT\n",
    "    predictions = model.predict(X_test)\n",
    "    \n",
    "    return y_test, predictions"
   ]
  },
  {
   "cell_type": "markdown",
   "id": "f46fc654",
   "metadata": {},
   "source": [
    "### Function - Visualize results"
   ]
  },
  {
   "cell_type": "code",
   "execution_count": 79,
   "id": "2410a68c",
   "metadata": {},
   "outputs": [],
   "source": [
    "def visualize_results(y_test,predictions, model_name: str, vectorizer_name: str):\n",
    "    cm = confusion_matrix(y_test, predictions)\n",
    "    cm_display = ConfusionMatrixDisplay(confusion_matrix = cm)\n",
    "    print(f\"MODEL - {model_name.upper()}\")\n",
    "    print(f\"VECTORIZER - {vectorizer_name.upper()}\")\n",
    "    print(\"Dokładność:\", accuracy_score(y_test, predictions))\n",
    "    print(\"Raport klasyfikacji:\\n\", classification_report(y_test, predictions))\n",
    "    cm_display.plot(cmap=plt.cm.Greens)\n",
    "    plt.show()\n",
    "    print(\"\\n--------------------------------------------------------\\n\")"
   ]
  },
  {
   "cell_type": "code",
   "execution_count": 80,
   "id": "435e38ef",
   "metadata": {},
   "outputs": [],
   "source": [
    "logReg_pred = make_predictions(data = df,\n",
    "                            comments_col = 'Comment',\n",
    "                            target_col  = 'Is_toxic',\n",
    "                            vectoraizer_name = 'Bag of Words',\n",
    "                            model_name = 'Logistic Regression',\n",
    "                            stop_words = polish_stop_words,\n",
    "                            test_size = 0.2)\n",
    "\n",
    "svm_pred = make_predictions(data = df,\n",
    "                            comments_col = 'Comment',\n",
    "                            target_col  = 'Is_toxic',\n",
    "                            vectoraizer_name = 'Bag of Words',\n",
    "                            model_name = 'SVM',\n",
    "                            stop_words = polish_stop_words,\n",
    "                            test_size = 0.2)\n",
    "\n",
    "nb_pred = make_predictions(data = df,\n",
    "                            comments_col = 'Comment',\n",
    "                            target_col  = 'Is_toxic',\n",
    "                            vectoraizer_name = 'Bag of Words',\n",
    "                            model_name = 'Naive-Bayes',\n",
    "                            stop_words = polish_stop_words,\n",
    "                            test_size = 0.2)"
   ]
  },
  {
   "cell_type": "code",
   "execution_count": 81,
   "id": "556908b3",
   "metadata": {
    "scrolled": false
   },
   "outputs": [
    {
     "name": "stdout",
     "output_type": "stream",
     "text": [
      "MODEL - LOGISITIC REGRESSION\n",
      "VECTORIZER - BAG OF WORDS\n",
      "Dokładność: 0.9436435124508519\n",
      "Raport klasyfikacji:\n",
      "               precision    recall  f1-score   support\n",
      "\n",
      "           0       1.00      0.81      0.90       229\n",
      "           1       0.93      1.00      0.96       534\n",
      "\n",
      "    accuracy                           0.94       763\n",
      "   macro avg       0.96      0.91      0.93       763\n",
      "weighted avg       0.95      0.94      0.94       763\n",
      "\n"
     ]
    },
    {
     "data": {
      "image/png": "[encoded data removed]",
      "text/plain": [
       "<Figure size 432x288 with 2 Axes>"
      ]
     },
     "metadata": {
      "needs_background": "light"
     },
     "output_type": "display_data"
    },
    {
     "name": "stdout",
     "output_type": "stream",
     "text": [
      "\n",
      "--------------------------------------------------------\n",
      "\n",
      "MODEL - SVM\n",
      "VECTORIZER - BAG OF WORDS\n",
      "Dokładność: 0.9475753604193972\n",
      "Raport klasyfikacji:\n",
      "               precision    recall  f1-score   support\n",
      "\n",
      "           0       1.00      0.83      0.90       229\n",
      "           1       0.93      1.00      0.96       534\n",
      "\n",
      "    accuracy                           0.95       763\n",
      "   macro avg       0.97      0.91      0.93       763\n",
      "weighted avg       0.95      0.95      0.95       763\n",
      "\n"
     ]
    },
    {
     "data": {
      "image/png": "[encoded data removed]",
      "text/plain": [
       "<Figure size 432x288 with 2 Axes>"
      ]
     },
     "metadata": {
      "needs_background": "light"
     },
     "output_type": "display_data"
    },
    {
     "name": "stdout",
     "output_type": "stream",
     "text": [
      "\n",
      "--------------------------------------------------------\n",
      "\n",
      "MODEL - NAIVE-BAYES\n",
      "VECTORIZER - BAG OF WORDS\n",
      "Dokładność: 0.927916120576671\n",
      "Raport klasyfikacji:\n",
      "               precision    recall  f1-score   support\n",
      "\n",
      "           0       0.96      0.79      0.87       229\n",
      "           1       0.92      0.99      0.95       534\n",
      "\n",
      "    accuracy                           0.93       763\n",
      "   macro avg       0.94      0.89      0.91       763\n",
      "weighted avg       0.93      0.93      0.93       763\n",
      "\n"
     ]
    },
    {
     "data": {
      "image/png": "[encoded data removed]",
      "text/plain": [
       "<Figure size 432x288 with 2 Axes>"
      ]
     },
     "metadata": {
      "needs_background": "light"
     },
     "output_type": "display_data"
    },
    {
     "name": "stdout",
     "output_type": "stream",
     "text": [
      "\n",
      "--------------------------------------------------------\n",
      "\n"
     ]
    }
   ],
   "source": [
    "visualize_results(y_test = logReg_pred[0],\n",
    "                 predictions = logReg_pred[1],\n",
    "                 model_name = 'Logisitic Regression',\n",
    "                 vectorizer_name = 'Bag of Words')\n",
    "\n",
    "visualize_results(y_test = svm_pred[0],\n",
    "                 predictions = svm_pred[1],\n",
    "                 model_name = 'SVM',\n",
    "                 vectorizer_name = 'Bag of Words')\n",
    "\n",
    "visualize_results(y_test = nb_pred[0],\n",
    "                 predictions = nb_pred[1],\n",
    "                 model_name = 'Naive-Bayes',\n",
    "                 vectorizer_name = 'Bag of Words')"
   ]
  },
  {
   "cell_type": "markdown",
   "id": "5f0fa072",
   "metadata": {},
   "source": [
    "#### Confusion Matrices"
   ]
  },
  {
   "cell_type": "code",
   "execution_count": null,
   "id": "7251e651",
   "metadata": {},
   "outputs": [],
   "source": [
    "# Logistic Regression\n",
    "cm_logReg = confusion_matrix(y_test, logReg_pred)\n",
    "cm_logReg_display = ConfusionMatrixDisplay(confusion_matrix = cm_logReg)\n",
    "# SVM\n",
    "cm_SVM = confusion_matrix(y_test, svm_pred)\n",
    "cm_SVM_display = ConfusionMatrixDisplay(confusion_matrix = cm_SVM)\n",
    "# Naive Bayes\n",
    "cm_nb = confusion_matrix(y_test, nb_pred)\n",
    "cm_nb_display = ConfusionMatrixDisplay(confusion_matrix = cm_nb)"
   ]
  },
  {
   "cell_type": "markdown",
   "id": "57f3cfc0",
   "metadata": {},
   "source": [
    "### Visualizing the results"
   ]
  },
  {
   "cell_type": "code",
   "execution_count": 51,
   "id": "95cb1f96",
   "metadata": {},
   "outputs": [
    {
     "name": "stdout",
     "output_type": "stream",
     "text": [
      "\n",
      "--------------------------------------------------------\n",
      "\n",
      "MODEL - REGRESJA LOGISTYCZNA\n",
      "Dokładność: 0.9187418086500655\n",
      "Raport klasyfikacji:\n",
      "               precision    recall  f1-score   support\n",
      "\n",
      "           0       1.00      0.73      0.84       229\n",
      "           1       0.90      1.00      0.95       534\n",
      "\n",
      "    accuracy                           0.92       763\n",
      "   macro avg       0.95      0.86      0.89       763\n",
      "weighted avg       0.93      0.92      0.91       763\n",
      "\n",
      "\n",
      "--------------------------------------------------------\n",
      "\n"
     ]
    },
    {
     "data": {
      "image/png": "[encoded data removed]",
      "text/plain": [
       "<Figure size 432x288 with 2 Axes>"
      ]
     },
     "metadata": {
      "needs_background": "light"
     },
     "output_type": "display_data"
    },
    {
     "name": "stdout",
     "output_type": "stream",
     "text": [
      "MODEL - SVM\n",
      "Dokładność SVM: 0.9646133682830931\n",
      "Raport klasyfikacji SVM:\n",
      "               precision    recall  f1-score   support\n",
      "\n",
      "           0       1.00      0.88      0.94       229\n",
      "           1       0.95      1.00      0.98       534\n",
      "\n",
      "    accuracy                           0.96       763\n",
      "   macro avg       0.98      0.94      0.96       763\n",
      "weighted avg       0.97      0.96      0.96       763\n",
      "\n",
      "\n",
      "--------------------------------------------------------\n",
      "\n"
     ]
    },
    {
     "data": {
      "image/png": "[encoded data removed]",
      "text/plain": [
       "<Figure size 432x288 with 2 Axes>"
      ]
     },
     "metadata": {
      "needs_background": "light"
     },
     "output_type": "display_data"
    },
    {
     "name": "stdout",
     "output_type": "stream",
     "text": [
      "MODEL - NAIVE BAYES\n",
      "Dokładność Naive Bayes: 0.9108781127129751\n",
      "Raport klasyfikacji Naive Bayes:\n",
      "               precision    recall  f1-score   support\n",
      "\n",
      "           0       0.99      0.71      0.83       229\n",
      "           1       0.89      1.00      0.94       534\n",
      "\n",
      "    accuracy                           0.91       763\n",
      "   macro avg       0.94      0.85      0.88       763\n",
      "weighted avg       0.92      0.91      0.91       763\n",
      "\n",
      "\n",
      "--------------------------------------------------------\n",
      "\n"
     ]
    }
   ],
   "source": [
    "# Logistic Regression\n",
    "print(\"\\n--------------------------------------------------------\\n\")\n",
    "print(\"MODEL - REGRESJA LOGISTYCZNA\")\n",
    "print(\"Dokładność:\", accuracy_score(y_test, logReg_pred))\n",
    "print(\"Raport klasyfikacji:\\n\", classification_report(y_test, logReg_pred))\n",
    "cm_logReg_display.plot(cmap=plt.cm.Greens)\n",
    "plt.show()\n",
    "print(\"\\n--------------------------------------------------------\\n\")\n",
    "\n",
    "# SVM\n",
    "print(\"MODEL - SVM\")\n",
    "print(\"Dokładność SVM:\", accuracy_score(y_test, svm_pred))\n",
    "print(\"Raport klasyfikacji SVM:\\n\", classification_report(y_test, svm_pred))\n",
    "print(\"\\n--------------------------------------------------------\\n\")\n",
    "\n",
    "# Naive Bayes\n",
    "print(\"MODEL - NAIVE BAYES\")\n",
    "print(\"Dokładność Naive Bayes:\", accuracy_score(y_test, nb_pred))\n",
    "print(\"Raport klasyfikacji Naive Bayes:\\n\", classification_report(y_test, nb_pred))\n",
    "print(\"\\n--------------------------------------------------------\\n\")"
   ]
  },
  {
   "cell_type": "code",
   "execution_count": 50,
   "id": "7fa15199",
   "metadata": {},
   "outputs": [
    {
     "data": {
      "image/png": "[encoded data removed]",
      "text/plain": [
       "<Figure size 432x288 with 2 Axes>"
      ]
     },
     "metadata": {
      "needs_background": "light"
     },
     "output_type": "display_data"
    }
   ],
   "source": [
    "cm = confusion_matrix(y_test, logReg_pred)\n",
    "cm_display = ConfusionMatrixDisplay(confusion_matrix = cm)\n",
    "cm_display.plot(cmap=plt.cm.Greens)\n",
    "plt.show()"
   ]
  },
  {
   "cell_type": "code",
   "execution_count": null,
   "id": "f198db7d",
   "metadata": {},
   "outputs": [],
   "source": []
  },
  {
   "cell_type": "code",
   "execution_count": null,
   "id": "ea895ec0",
   "metadata": {},
   "outputs": [],
   "source": []
  },
  {
   "cell_type": "code",
   "execution_count": null,
   "id": "c9fb1a28",
   "metadata": {},
   "outputs": [],
   "source": []
  },
  {
   "cell_type": "code",
   "execution_count": null,
   "id": "2dc8f0e2",
   "metadata": {},
   "outputs": [],
   "source": []
  },
  {
   "cell_type": "code",
   "execution_count": null,
   "id": "ecb4815b",
   "metadata": {},
   "outputs": [],
   "source": []
  },
  {
   "cell_type": "code",
   "execution_count": null,
   "id": "d57f23d0",
   "metadata": {},
   "outputs": [],
   "source": []
  },
  {
   "cell_type": "code",
   "execution_count": null,
   "id": "07fc6546",
   "metadata": {},
   "outputs": [],
   "source": []
  }
 ],
 "metadata": {
  "kernelspec": {
   "display_name": "Python 3",
   "language": "python",
   "name": "python3"
  },
  "language_info": {
   "codemirror_mode": {
    "name": "ipython",
    "version": 3
   },
   "file_extension": ".py",
   "mimetype": "text/x-python",
   "name": "python",
   "nbconvert_exporter": "python",
   "pygments_lexer": "ipython3",
   "version": "3.8.8"
  }
 },
 "nbformat": 4,
 "nbformat_minor": 5
}
