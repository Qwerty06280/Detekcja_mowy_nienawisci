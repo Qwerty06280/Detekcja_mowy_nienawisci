{
 "cells": [
  {
   "cell_type": "markdown",
   "id": "a218139a",
   "metadata": {},
   "source": [
    "## Import libraries"
   ]
  },
  {
   "cell_type": "code",
   "execution_count": 238,
   "id": "46306702",
   "metadata": {},
   "outputs": [],
   "source": [
    "import numpy as np\n",
    "import pandas as pd\n",
    "import matplotlib.pyplot as plt\n",
    "from sklearn.model_selection import train_test_split\n",
    "from sklearn.metrics import classification_report, accuracy_score, confusion_matrix, ConfusionMatrixDisplay\n",
    "# Bag of Words\n",
    "from sklearn.feature_extraction.text import CountVectorizer\n",
    "# TF-IDF\n",
    "from sklearn.feature_extraction.text import TfidfVectorizer \n",
    "# Logistic Regression\n",
    "from sklearn.linear_model import LogisticRegression\n",
    "# SVM\n",
    "from sklearn.svm import SVC"
   ]
  },
  {
   "cell_type": "markdown",
   "id": "32e06177",
   "metadata": {},
   "source": [
    "# Read data"
   ]
  },
  {
   "cell_type": "markdown",
   "id": "5087c8a6",
   "metadata": {},
   "source": [
    "#### Data for training and testing"
   ]
  },
  {
   "cell_type": "code",
   "execution_count": 239,
   "id": "4f668152",
   "metadata": {},
   "outputs": [],
   "source": [
    "file_path_conc = r'C:\\Users\\Chill\\Desktop\\INZYNIERKA\\dane\\found_internet\\CONCATENATED_DATA.xlsx'\n",
    "df_original = pd.read_excel(file_path_conc)"
   ]
  },
  {
   "cell_type": "code",
   "execution_count": 240,
   "id": "be4a2827",
   "metadata": {},
   "outputs": [
    {
     "data": {
      "text/html": [
       "<div>\n",
       "<style scoped>\n",
       "    .dataframe tbody tr th:only-of-type {\n",
       "        vertical-align: middle;\n",
       "    }\n",
       "\n",
       "    .dataframe tbody tr th {\n",
       "        vertical-align: top;\n",
       "    }\n",
       "\n",
       "    .dataframe thead th {\n",
       "        text-align: right;\n",
       "    }\n",
       "</style>\n",
       "<table border=\"1\" class=\"dataframe\">\n",
       "  <thead>\n",
       "    <tr style=\"text-align: right;\">\n",
       "      <th></th>\n",
       "      <th>Comment</th>\n",
       "      <th>Is_toxic</th>\n",
       "      <th>source</th>\n",
       "    </tr>\n",
       "  </thead>\n",
       "  <tbody>\n",
       "    <tr>\n",
       "      <th>0</th>\n",
       "      <td>Dla mnie faworytem do tytułu będzie Cracovia. ...</td>\n",
       "      <td>0</td>\n",
       "      <td>dataset_poleval</td>\n",
       "    </tr>\n",
       "    <tr>\n",
       "      <th>1</th>\n",
       "      <td>Brawo ty Daria kibic ma być na dobre i złe</td>\n",
       "      <td>0</td>\n",
       "      <td>dataset_poleval</td>\n",
       "    </tr>\n",
       "    <tr>\n",
       "      <th>2</th>\n",
       "      <td>Super, polski premier składa kwiaty na grobach...</td>\n",
       "      <td>0</td>\n",
       "      <td>dataset_poleval</td>\n",
       "    </tr>\n",
       "    <tr>\n",
       "      <th>3</th>\n",
       "      <td>Musi. Innej drogi nie mamy.</td>\n",
       "      <td>0</td>\n",
       "      <td>dataset_poleval</td>\n",
       "    </tr>\n",
       "    <tr>\n",
       "      <th>4</th>\n",
       "      <td>Odrzut natychmiastowy, kwaśna mina, mam problem</td>\n",
       "      <td>0</td>\n",
       "      <td>dataset_poleval</td>\n",
       "    </tr>\n",
       "  </tbody>\n",
       "</table>\n",
       "</div>"
      ],
      "text/plain": [
       "                                             Comment  Is_toxic  \\\n",
       "0  Dla mnie faworytem do tytułu będzie Cracovia. ...         0   \n",
       "1         Brawo ty Daria kibic ma być na dobre i złe         0   \n",
       "2  Super, polski premier składa kwiaty na grobach...         0   \n",
       "3                        Musi. Innej drogi nie mamy.         0   \n",
       "4    Odrzut natychmiastowy, kwaśna mina, mam problem         0   \n",
       "\n",
       "            source  \n",
       "0  dataset_poleval  \n",
       "1  dataset_poleval  \n",
       "2  dataset_poleval  \n",
       "3  dataset_poleval  \n",
       "4  dataset_poleval  "
      ]
     },
     "execution_count": 240,
     "metadata": {},
     "output_type": "execute_result"
    }
   ],
   "source": [
    "df_original.head()"
   ]
  },
  {
   "cell_type": "markdown",
   "id": "4c6de58e",
   "metadata": {},
   "source": [
    "#### Data to predict"
   ]
  },
  {
   "cell_type": "code",
   "execution_count": 241,
   "id": "9039f864",
   "metadata": {},
   "outputs": [],
   "source": [
    "# Load the CSV file with the correct encoding (UTF-8)\n",
    "file_path_yt = r'C:\\Users\\Chill\\Desktop\\INZYNIERKA\\dane\\extracted_comments\\comms_test.xlsx'\n",
    "# comments from 4 videos:\n",
    "# https://www.youtube.com/watch?v=t4O1LLk6qlY\n",
    "# https://www.youtube.com/watch?v=r3qhl12iHKc\n",
    "# https://www.youtube.com/watch?v=iLTLbe13hLg\n",
    "# https://www.youtube.com/watch?v=v7CQkivQNQI\n",
    "\n",
    "df_predict = pd.read_excel(file_path_yt)"
   ]
  },
  {
   "cell_type": "code",
   "execution_count": 242,
   "id": "e86338c8",
   "metadata": {},
   "outputs": [
    {
     "data": {
      "text/html": [
       "<div>\n",
       "<style scoped>\n",
       "    .dataframe tbody tr th:only-of-type {\n",
       "        vertical-align: middle;\n",
       "    }\n",
       "\n",
       "    .dataframe tbody tr th {\n",
       "        vertical-align: top;\n",
       "    }\n",
       "\n",
       "    .dataframe thead th {\n",
       "        text-align: right;\n",
       "    }\n",
       "</style>\n",
       "<table border=\"1\" class=\"dataframe\">\n",
       "  <thead>\n",
       "    <tr style=\"text-align: right;\">\n",
       "      <th></th>\n",
       "      <th>Comments</th>\n",
       "    </tr>\n",
       "  </thead>\n",
       "  <tbody>\n",
       "    <tr>\n",
       "      <th>0</th>\n",
       "      <td>JKM jest zwolennikiem otwartej migracji ludzi ...</td>\n",
       "    </tr>\n",
       "    <tr>\n",
       "      <th>1</th>\n",
       "      <td>Korwin jest najlepszy</td>\n",
       "    </tr>\n",
       "    <tr>\n",
       "      <th>2</th>\n",
       "      <td>ten występ się dobrze starzeje jak popatrzymy ...</td>\n",
       "    </tr>\n",
       "    <tr>\n",
       "      <th>3</th>\n",
       "      <td>Wracam po protestach we Francji.</td>\n",
       "    </tr>\n",
       "    <tr>\n",
       "      <th>4</th>\n",
       "      <td>Po 7 latach sie sprawdziło, gosc mysli lata do...</td>\n",
       "    </tr>\n",
       "  </tbody>\n",
       "</table>\n",
       "</div>"
      ],
      "text/plain": [
       "                                            Comments\n",
       "0  JKM jest zwolennikiem otwartej migracji ludzi ...\n",
       "1                              Korwin jest najlepszy\n",
       "2  ten występ się dobrze starzeje jak popatrzymy ...\n",
       "3                   Wracam po protestach we Francji.\n",
       "4  Po 7 latach sie sprawdziło, gosc mysli lata do..."
      ]
     },
     "execution_count": 242,
     "metadata": {},
     "output_type": "execute_result"
    }
   ],
   "source": [
    "df_predict.head()"
   ]
  },
  {
   "cell_type": "markdown",
   "id": "9c45eef4",
   "metadata": {},
   "source": [
    "## Preprocessing"
   ]
  },
  {
   "cell_type": "code",
   "execution_count": 243,
   "id": "72e1dc88",
   "metadata": {},
   "outputs": [],
   "source": [
    "df = df_original"
   ]
  },
  {
   "cell_type": "code",
   "execution_count": 244,
   "id": "09f57dd2",
   "metadata": {},
   "outputs": [
    {
     "data": {
      "text/plain": [
       "array(['dataset_poleval', 'dataset_zwroty', 'dataset_wykop'], dtype=object)"
      ]
     },
     "execution_count": 244,
     "metadata": {},
     "output_type": "execute_result"
    }
   ],
   "source": [
    "df_original['source'].unique()"
   ]
  },
  {
   "cell_type": "code",
   "execution_count": 245,
   "id": "9974f0d9",
   "metadata": {
    "scrolled": false
   },
   "outputs": [
    {
     "data": {
      "text/html": [
       "<div>\n",
       "<style scoped>\n",
       "    .dataframe tbody tr th:only-of-type {\n",
       "        vertical-align: middle;\n",
       "    }\n",
       "\n",
       "    .dataframe tbody tr th {\n",
       "        vertical-align: top;\n",
       "    }\n",
       "\n",
       "    .dataframe thead th {\n",
       "        text-align: right;\n",
       "    }\n",
       "</style>\n",
       "<table border=\"1\" class=\"dataframe\">\n",
       "  <thead>\n",
       "    <tr style=\"text-align: right;\">\n",
       "      <th></th>\n",
       "      <th>Comment</th>\n",
       "      <th>Is_toxic</th>\n",
       "      <th>source</th>\n",
       "    </tr>\n",
       "  </thead>\n",
       "  <tbody>\n",
       "    <tr>\n",
       "      <th>10041</th>\n",
       "      <td>Nienawidzę gejów.</td>\n",
       "      <td>1</td>\n",
       "      <td>dataset_zwroty</td>\n",
       "    </tr>\n",
       "    <tr>\n",
       "      <th>10042</th>\n",
       "      <td>Nienawidzę azjatów.</td>\n",
       "      <td>1</td>\n",
       "      <td>dataset_zwroty</td>\n",
       "    </tr>\n",
       "    <tr>\n",
       "      <th>10043</th>\n",
       "      <td>Nienawidzę niepełnosprawnych.</td>\n",
       "      <td>1</td>\n",
       "      <td>dataset_zwroty</td>\n",
       "    </tr>\n",
       "    <tr>\n",
       "      <th>10044</th>\n",
       "      <td>Nienawidzę Żydów.</td>\n",
       "      <td>1</td>\n",
       "      <td>dataset_zwroty</td>\n",
       "    </tr>\n",
       "    <tr>\n",
       "      <th>10045</th>\n",
       "      <td>Nienawidzę imigrantów.</td>\n",
       "      <td>1</td>\n",
       "      <td>dataset_zwroty</td>\n",
       "    </tr>\n",
       "  </tbody>\n",
       "</table>\n",
       "</div>"
      ],
      "text/plain": [
       "                             Comment  Is_toxic          source\n",
       "10041              Nienawidzę gejów.         1  dataset_zwroty\n",
       "10042            Nienawidzę azjatów.         1  dataset_zwroty\n",
       "10043  Nienawidzę niepełnosprawnych.         1  dataset_zwroty\n",
       "10044              Nienawidzę Żydów.         1  dataset_zwroty\n",
       "10045         Nienawidzę imigrantów.         1  dataset_zwroty"
      ]
     },
     "execution_count": 245,
     "metadata": {},
     "output_type": "execute_result"
    }
   ],
   "source": [
    "# Wybieram na razie tylko jeden dataset, najmniej skomplikowany\n",
    "df = df[df['source'] == 'dataset_zwroty']\n",
    "df.head()"
   ]
  },
  {
   "cell_type": "code",
   "execution_count": 246,
   "id": "95ce86eb",
   "metadata": {},
   "outputs": [],
   "source": [
    "# utworzenie polskiej listy stop words TODO\n",
    "polish_stop_words = ['i', 'oraz', 'ale', 'tak', 'to']"
   ]
  },
  {
   "cell_type": "markdown",
   "id": "66964ecd",
   "metadata": {},
   "source": [
    "# Functions"
   ]
  },
  {
   "cell_type": "markdown",
   "id": "b14ac4b8",
   "metadata": {},
   "source": [
    "### Function - Vectorizer"
   ]
  },
  {
   "cell_type": "code",
   "execution_count": 247,
   "id": "2c781757",
   "metadata": {},
   "outputs": [],
   "source": [
    "def Vectorize(method = 'Bag of Words', stop_words = None):\n",
    "    if method == 'Bag of Words':\n",
    "        vectorizer = CountVectorizer(lowercase=True, stop_words=polish_stop_words) # TODO parametry\n",
    "    elif method =='TF-IDF':\n",
    "        vectorizer = TfidfVectorizer(lowercase=True, stop_words=polish_stop_words) # TODO parametry\n",
    "    else:\n",
    "        raise ValueError(\"Method not found\")\n",
    "    return vectorizer"
   ]
  },
  {
   "cell_type": "markdown",
   "id": "7c55f1f2",
   "metadata": {},
   "source": [
    "### Function - make_predictions"
   ]
  },
  {
   "cell_type": "code",
   "execution_count": 248,
   "id": "3ea5baf9",
   "metadata": {},
   "outputs": [],
   "source": [
    "def make_predictions(data, comments_col = 'Comment', target_col = 'Is_toxic', vectoraizer_name = 'Bag of Words', \n",
    "                     model_name = 'Logistic Regression', stop_words = None, test_size = 0.2):\n",
    "    \n",
    "    vectorizer = Vectorize(method = vectoraizer_name, stop_words = stop_words)\n",
    "    X = vectorizer.fit_transform(data[comments_col])\n",
    "    # Split data to training and testing set\n",
    "    X_train, X_test, y_train, y_test = train_test_split(X, data[target_col], test_size=test_size, random_state=42)\n",
    "    \n",
    "    # MODEL\n",
    "    # Logistic regression\n",
    "    if model_name == 'Logistic Regression':\n",
    "        model = LogisticRegression()\n",
    "    # SVM\n",
    "    elif model_name == 'SVM':\n",
    "        model = SVC()\n",
    "    else:\n",
    "        raise ValueError('Wrong model_name')\n",
    "    \n",
    "    # TRAIN MODEL\n",
    "    model.fit(X_train, y_train)\n",
    "    # PREDICT\n",
    "    predictions = model.predict(X_test)\n",
    "    \n",
    "    return y_test, predictions"
   ]
  },
  {
   "cell_type": "markdown",
   "id": "0f29b452",
   "metadata": {},
   "source": [
    "### Function - Visualize results"
   ]
  },
  {
   "cell_type": "code",
   "execution_count": 249,
   "id": "259bf511",
   "metadata": {},
   "outputs": [],
   "source": [
    "def visualize_results(y_test,predictions, model_name: str, vectorizer_name: str):\n",
    "    cm = confusion_matrix(y_test, predictions)\n",
    "    cm_display = ConfusionMatrixDisplay(confusion_matrix = cm)\n",
    "    print(f\"MODEL - {model_name.upper()}\")\n",
    "    print(f\"VECTORIZER - {vectorizer_name.upper()}\")\n",
    "    print(\"Dokładność: {}%\".format(np.round(accuracy_score(y_test, predictions)*100,2)))\n",
    "    print(\"Raport klasyfikacji:\\n\", classification_report(y_test, predictions))\n",
    "    cm_display.plot(cmap=plt.cm.Greens)\n",
    "    plt.show()\n",
    "    print(\"\\n--------------------------------------------------------\\n\")"
   ]
  },
  {
   "cell_type": "code",
   "execution_count": 250,
   "id": "44292564",
   "metadata": {},
   "outputs": [],
   "source": [
    "# BoW\n",
    "logReg_pred = make_predictions(data = df,\n",
    "                            comments_col = 'Comment',\n",
    "                            target_col  = 'Is_toxic',\n",
    "                            vectoraizer_name = 'Bag of Words',\n",
    "                            model_name = 'Logistic Regression',\n",
    "                            stop_words = polish_stop_words,\n",
    "                            test_size = 0.2)\n",
    "\n",
    "svm_pred = make_predictions(data = df,\n",
    "                            comments_col = 'Comment',\n",
    "                            target_col  = 'Is_toxic',\n",
    "                            vectoraizer_name = 'Bag of Words',\n",
    "                            model_name = 'SVM',\n",
    "                            stop_words = polish_stop_words,\n",
    "                            test_size = 0.2)\n",
    "\n",
    "# TF-IDF\n",
    "logReg_pred_idf = make_predictions(data = df,\n",
    "                            comments_col = 'Comment',\n",
    "                            target_col  = 'Is_toxic',\n",
    "                            vectoraizer_name = 'TF-IDF',\n",
    "                            model_name = 'Logistic Regression',\n",
    "                            stop_words = polish_stop_words,\n",
    "                            test_size = 0.2)\n",
    "\n",
    "svm_pred_idf = make_predictions(data = df,\n",
    "                            comments_col = 'Comment',\n",
    "                            target_col  = 'Is_toxic',\n",
    "                            vectoraizer_name = 'TF-IDF',\n",
    "                            model_name = 'SVM',\n",
    "                            stop_words = polish_stop_words,\n",
    "                            test_size = 0.2)\n"
   ]
  },
  {
   "cell_type": "code",
   "execution_count": 251,
   "id": "445fd474",
   "metadata": {
    "scrolled": false
   },
   "outputs": [
    {
     "name": "stdout",
     "output_type": "stream",
     "text": [
      "MODEL - LOGISITIC REGRESSION\n",
      "VECTORIZER - BAG OF WORDS\n",
      "Dokładność: 95.54%\n",
      "Raport klasyfikacji:\n",
      "               precision    recall  f1-score   support\n",
      "\n",
      "           0       0.99      0.84      0.91       210\n",
      "           1       0.94      1.00      0.97       553\n",
      "\n",
      "    accuracy                           0.96       763\n",
      "   macro avg       0.97      0.92      0.94       763\n",
      "weighted avg       0.96      0.96      0.95       763\n",
      "\n"
     ]
    },
    {
     "data": {
      "image/png": "[encoded data removed]",
      "text/plain": [
       "<Figure size 432x288 with 2 Axes>"
      ]
     },
     "metadata": {
      "needs_background": "light"
     },
     "output_type": "display_data"
    },
    {
     "name": "stdout",
     "output_type": "stream",
     "text": [
      "\n",
      "--------------------------------------------------------\n",
      "\n",
      "MODEL - SVM\n",
      "VECTORIZER - BAG OF WORDS\n",
      "Dokładność: 95.02%\n",
      "Raport klasyfikacji:\n",
      "               precision    recall  f1-score   support\n",
      "\n",
      "           0       0.99      0.82      0.90       210\n",
      "           1       0.94      1.00      0.97       553\n",
      "\n",
      "    accuracy                           0.95       763\n",
      "   macro avg       0.97      0.91      0.93       763\n",
      "weighted avg       0.95      0.95      0.95       763\n",
      "\n"
     ]
    },
    {
     "data": {
      "image/png": "[encoded data removed]",
      "text/plain": [
       "<Figure size 432x288 with 2 Axes>"
      ]
     },
     "metadata": {
      "needs_background": "light"
     },
     "output_type": "display_data"
    },
    {
     "name": "stdout",
     "output_type": "stream",
     "text": [
      "\n",
      "--------------------------------------------------------\n",
      "\n",
      "MODEL - LOGISITIC REGRESSION\n",
      "VECTORIZER - TF-IDF\n",
      "Dokładność: 92.01%\n",
      "Raport klasyfikacji:\n",
      "               precision    recall  f1-score   support\n",
      "\n",
      "           0       1.00      0.71      0.83       210\n",
      "           1       0.90      1.00      0.95       553\n",
      "\n",
      "    accuracy                           0.92       763\n",
      "   macro avg       0.95      0.85      0.89       763\n",
      "weighted avg       0.93      0.92      0.92       763\n",
      "\n"
     ]
    },
    {
     "data": {
      "image/png": "[encoded data removed]",
      "text/plain": [
       "<Figure size 432x288 with 2 Axes>"
      ]
     },
     "metadata": {
      "needs_background": "light"
     },
     "output_type": "display_data"
    },
    {
     "name": "stdout",
     "output_type": "stream",
     "text": [
      "\n",
      "--------------------------------------------------------\n",
      "\n",
      "MODEL - SVM\n",
      "VECTORIZER - TF-IDF\n",
      "Dokładność: 96.07%\n",
      "Raport klasyfikacji:\n",
      "               precision    recall  f1-score   support\n",
      "\n",
      "           0       0.99      0.86      0.92       210\n",
      "           1       0.95      1.00      0.97       553\n",
      "\n",
      "    accuracy                           0.96       763\n",
      "   macro avg       0.97      0.93      0.95       763\n",
      "weighted avg       0.96      0.96      0.96       763\n",
      "\n"
     ]
    },
    {
     "data": {
      "image/png": "[encoded data removed]",
      "text/plain": [
       "<Figure size 432x288 with 2 Axes>"
      ]
     },
     "metadata": {
      "needs_background": "light"
     },
     "output_type": "display_data"
    },
    {
     "name": "stdout",
     "output_type": "stream",
     "text": [
      "\n",
      "--------------------------------------------------------\n",
      "\n"
     ]
    }
   ],
   "source": [
    "visualize_results(y_test = logReg_pred[0],\n",
    "                 predictions = logReg_pred[1],\n",
    "                 model_name = 'Logisitic Regression',\n",
    "                 vectorizer_name = 'Bag of Words')\n",
    "\n",
    "visualize_results(y_test = svm_pred[0],\n",
    "                 predictions = svm_pred[1],\n",
    "                 model_name = 'SVM',\n",
    "                 vectorizer_name = 'Bag of Words')\n",
    "\n",
    "visualize_results(y_test = logReg_pred_idf[0],\n",
    "                 predictions = logReg_pred_idf[1],\n",
    "                 model_name = 'Logisitic Regression',\n",
    "                 vectorizer_name = 'TF-IDF')\n",
    "\n",
    "visualize_results(y_test = svm_pred_idf[0],\n",
    "                 predictions = svm_pred_idf[1],\n",
    "                 model_name = 'SVM',\n",
    "                 vectorizer_name = 'TF-IDF')"
   ]
  },
  {
   "cell_type": "code",
   "execution_count": 252,
   "id": "9cf62f3f",
   "metadata": {},
   "outputs": [],
   "source": [
    "df_added_pred = df.loc[list(logReg_pred[0].index)]"
   ]
  },
  {
   "cell_type": "code",
   "execution_count": 253,
   "id": "311288ed",
   "metadata": {},
   "outputs": [],
   "source": [
    "df_added_pred['prediction']=logReg_pred[1]"
   ]
  },
  {
   "cell_type": "code",
   "execution_count": 254,
   "id": "1bd7041e",
   "metadata": {},
   "outputs": [
    {
     "data": {
      "text/html": [
       "<div>\n",
       "<style scoped>\n",
       "    .dataframe tbody tr th:only-of-type {\n",
       "        vertical-align: middle;\n",
       "    }\n",
       "\n",
       "    .dataframe tbody tr th {\n",
       "        vertical-align: top;\n",
       "    }\n",
       "\n",
       "    .dataframe thead th {\n",
       "        text-align: right;\n",
       "    }\n",
       "</style>\n",
       "<table border=\"1\" class=\"dataframe\">\n",
       "  <thead>\n",
       "    <tr style=\"text-align: right;\">\n",
       "      <th></th>\n",
       "      <th>Comment</th>\n",
       "      <th>Is_toxic</th>\n",
       "      <th>source</th>\n",
       "      <th>prediction</th>\n",
       "    </tr>\n",
       "  </thead>\n",
       "  <tbody>\n",
       "    <tr>\n",
       "      <th>12913</th>\n",
       "      <td>Wszystkie pociągi w tym kraju tak bardzo mnie ...</td>\n",
       "      <td>0</td>\n",
       "      <td>dataset_zwroty</td>\n",
       "      <td>1</td>\n",
       "    </tr>\n",
       "    <tr>\n",
       "      <th>12480</th>\n",
       "      <td>Takie kobiety powinny być celebrowane.</td>\n",
       "      <td>0</td>\n",
       "      <td>dataset_zwroty</td>\n",
       "      <td>1</td>\n",
       "    </tr>\n",
       "    <tr>\n",
       "      <th>12870</th>\n",
       "      <td>Ten zestaw ćwiczeń jest po prostu obrzydliwy.</td>\n",
       "      <td>0</td>\n",
       "      <td>dataset_zwroty</td>\n",
       "      <td>1</td>\n",
       "    </tr>\n",
       "    <tr>\n",
       "      <th>11215</th>\n",
       "      <td>Jaja sobie ze mnie robisz?</td>\n",
       "      <td>0</td>\n",
       "      <td>dataset_zwroty</td>\n",
       "      <td>1</td>\n",
       "    </tr>\n",
       "    <tr>\n",
       "      <th>12330</th>\n",
       "      <td>Niepełnosprawni są piękni.</td>\n",
       "      <td>0</td>\n",
       "      <td>dataset_zwroty</td>\n",
       "      <td>1</td>\n",
       "    </tr>\n",
       "    <tr>\n",
       "      <th>11275</th>\n",
       "      <td>Nic dziwnego, że była wkurzona.</td>\n",
       "      <td>0</td>\n",
       "      <td>dataset_zwroty</td>\n",
       "      <td>1</td>\n",
       "    </tr>\n",
       "    <tr>\n",
       "      <th>12357</th>\n",
       "      <td>Tylko azjaci są tak mili i współczujący.</td>\n",
       "      <td>0</td>\n",
       "      <td>dataset_zwroty</td>\n",
       "      <td>1</td>\n",
       "    </tr>\n",
       "    <tr>\n",
       "      <th>12361</th>\n",
       "      <td>Kobiety są świetne.</td>\n",
       "      <td>0</td>\n",
       "      <td>dataset_zwroty</td>\n",
       "      <td>1</td>\n",
       "    </tr>\n",
       "    <tr>\n",
       "      <th>12360</th>\n",
       "      <td>Tylko imigranci są tak mili i współczujący.</td>\n",
       "      <td>0</td>\n",
       "      <td>dataset_zwroty</td>\n",
       "      <td>1</td>\n",
       "    </tr>\n",
       "    <tr>\n",
       "      <th>12483</th>\n",
       "      <td>Tacy azjaci powinni być celebrowani.</td>\n",
       "      <td>0</td>\n",
       "      <td>dataset_zwroty</td>\n",
       "      <td>1</td>\n",
       "    </tr>\n",
       "    <tr>\n",
       "      <th>12362</th>\n",
       "      <td>Osoby transpłciowe są świetne.</td>\n",
       "      <td>0</td>\n",
       "      <td>dataset_zwroty</td>\n",
       "      <td>1</td>\n",
       "    </tr>\n",
       "    <tr>\n",
       "      <th>11269</th>\n",
       "      <td>Kto tak naprawdę wierzy w te wszystkie bzdury,...</td>\n",
       "      <td>0</td>\n",
       "      <td>dataset_zwroty</td>\n",
       "      <td>1</td>\n",
       "    </tr>\n",
       "    <tr>\n",
       "      <th>11245</th>\n",
       "      <td>Miałem wyjebane.</td>\n",
       "      <td>0</td>\n",
       "      <td>dataset_zwroty</td>\n",
       "      <td>1</td>\n",
       "    </tr>\n",
       "    <tr>\n",
       "      <th>12903</th>\n",
       "      <td>Gdyby tylko ktoś zdusił te inicjatywy.</td>\n",
       "      <td>0</td>\n",
       "      <td>dataset_zwroty</td>\n",
       "      <td>1</td>\n",
       "    </tr>\n",
       "    <tr>\n",
       "      <th>12895</th>\n",
       "      <td>Zamierzamy położyć kres wszelkim zanieczyszcze...</td>\n",
       "      <td>0</td>\n",
       "      <td>dataset_zwroty</td>\n",
       "      <td>1</td>\n",
       "    </tr>\n",
       "    <tr>\n",
       "      <th>12326</th>\n",
       "      <td>Kobiety są piękne.</td>\n",
       "      <td>0</td>\n",
       "      <td>dataset_zwroty</td>\n",
       "      <td>1</td>\n",
       "    </tr>\n",
       "    <tr>\n",
       "      <th>12893</th>\n",
       "      <td>Wolałbym umrzeć, niż posiadać taki samochód.</td>\n",
       "      <td>0</td>\n",
       "      <td>dataset_zwroty</td>\n",
       "      <td>1</td>\n",
       "    </tr>\n",
       "    <tr>\n",
       "      <th>12359</th>\n",
       "      <td>Tylko Żydzi są tak mili i współczujący.</td>\n",
       "      <td>0</td>\n",
       "      <td>dataset_zwroty</td>\n",
       "      <td>1</td>\n",
       "    </tr>\n",
       "    <tr>\n",
       "      <th>12871</th>\n",
       "      <td>Większość ławek w parkach jest absolutnie odra...</td>\n",
       "      <td>0</td>\n",
       "      <td>dataset_zwroty</td>\n",
       "      <td>1</td>\n",
       "    </tr>\n",
       "    <tr>\n",
       "      <th>12397</th>\n",
       "      <td>Ty i wszystkie inne osoby transpłciowe jesteśc...</td>\n",
       "      <td>0</td>\n",
       "      <td>dataset_zwroty</td>\n",
       "      <td>1</td>\n",
       "    </tr>\n",
       "    <tr>\n",
       "      <th>12329</th>\n",
       "      <td>Azjaci są piękni.</td>\n",
       "      <td>0</td>\n",
       "      <td>dataset_zwroty</td>\n",
       "      <td>1</td>\n",
       "    </tr>\n",
       "    <tr>\n",
       "      <th>12396</th>\n",
       "      <td>Ty i wszystkie inne kobiety jesteście błogosła...</td>\n",
       "      <td>0</td>\n",
       "      <td>dataset_zwroty</td>\n",
       "      <td>1</td>\n",
       "    </tr>\n",
       "    <tr>\n",
       "      <th>11219</th>\n",
       "      <td>Dlaczego, do cholery, nie mogę po prostu pomin...</td>\n",
       "      <td>0</td>\n",
       "      <td>dataset_zwroty</td>\n",
       "      <td>1</td>\n",
       "    </tr>\n",
       "    <tr>\n",
       "      <th>12340</th>\n",
       "      <td>Wszystkie kobiety takie jak one są niesamowite.</td>\n",
       "      <td>0</td>\n",
       "      <td>dataset_zwroty</td>\n",
       "      <td>1</td>\n",
       "    </tr>\n",
       "    <tr>\n",
       "      <th>12900</th>\n",
       "      <td>Byłoby nam lepiej, gdyby ten wirus został zlik...</td>\n",
       "      <td>0</td>\n",
       "      <td>dataset_zwroty</td>\n",
       "      <td>1</td>\n",
       "    </tr>\n",
       "    <tr>\n",
       "      <th>12902</th>\n",
       "      <td>Tego rodzaju plany powinny być realizowane.</td>\n",
       "      <td>0</td>\n",
       "      <td>dataset_zwroty</td>\n",
       "      <td>1</td>\n",
       "    </tr>\n",
       "    <tr>\n",
       "      <th>12354</th>\n",
       "      <td>Tylko kobiety są tak miłe i współczujące.</td>\n",
       "      <td>0</td>\n",
       "      <td>dataset_zwroty</td>\n",
       "      <td>1</td>\n",
       "    </tr>\n",
       "    <tr>\n",
       "      <th>11272</th>\n",
       "      <td>Moja mama była na mnie naprawdę wkurzona, kied...</td>\n",
       "      <td>0</td>\n",
       "      <td>dataset_zwroty</td>\n",
       "      <td>1</td>\n",
       "    </tr>\n",
       "    <tr>\n",
       "      <th>12336</th>\n",
       "      <td>Azjaci jak ty są wspaniali.</td>\n",
       "      <td>0</td>\n",
       "      <td>dataset_zwroty</td>\n",
       "      <td>1</td>\n",
       "    </tr>\n",
       "    <tr>\n",
       "      <th>11251</th>\n",
       "      <td>O cholera, zapomniałam zabrać parasolkę.</td>\n",
       "      <td>0</td>\n",
       "      <td>dataset_zwroty</td>\n",
       "      <td>1</td>\n",
       "    </tr>\n",
       "    <tr>\n",
       "      <th>12933</th>\n",
       "      <td>Ona jest ohydna.</td>\n",
       "      <td>1</td>\n",
       "      <td>dataset_zwroty</td>\n",
       "      <td>0</td>\n",
       "    </tr>\n",
       "    <tr>\n",
       "      <th>12862</th>\n",
       "      <td>Poniedziałki są absolutnie najgorsze.</td>\n",
       "      <td>0</td>\n",
       "      <td>dataset_zwroty</td>\n",
       "      <td>1</td>\n",
       "    </tr>\n",
       "    <tr>\n",
       "      <th>11292</th>\n",
       "      <td>Chciałbym móc powstrzymać się od bycia takim o...</td>\n",
       "      <td>0</td>\n",
       "      <td>dataset_zwroty</td>\n",
       "      <td>1</td>\n",
       "    </tr>\n",
       "    <tr>\n",
       "      <th>12328</th>\n",
       "      <td>Geje są piękni.</td>\n",
       "      <td>0</td>\n",
       "      <td>dataset_zwroty</td>\n",
       "      <td>1</td>\n",
       "    </tr>\n",
       "  </tbody>\n",
       "</table>\n",
       "</div>"
      ],
      "text/plain": [
       "                                                 Comment  Is_toxic  \\\n",
       "12913  Wszystkie pociągi w tym kraju tak bardzo mnie ...         0   \n",
       "12480             Takie kobiety powinny być celebrowane.         0   \n",
       "12870      Ten zestaw ćwiczeń jest po prostu obrzydliwy.         0   \n",
       "11215                         Jaja sobie ze mnie robisz?         0   \n",
       "12330                         Niepełnosprawni są piękni.         0   \n",
       "11275                    Nic dziwnego, że była wkurzona.         0   \n",
       "12357           Tylko azjaci są tak mili i współczujący.         0   \n",
       "12361                                Kobiety są świetne.         0   \n",
       "12360        Tylko imigranci są tak mili i współczujący.         0   \n",
       "12483               Tacy azjaci powinni być celebrowani.         0   \n",
       "12362                     Osoby transpłciowe są świetne.         0   \n",
       "11269  Kto tak naprawdę wierzy w te wszystkie bzdury,...         0   \n",
       "11245                                   Miałem wyjebane.         0   \n",
       "12903             Gdyby tylko ktoś zdusił te inicjatywy.         0   \n",
       "12895  Zamierzamy położyć kres wszelkim zanieczyszcze...         0   \n",
       "12326                                 Kobiety są piękne.         0   \n",
       "12893       Wolałbym umrzeć, niż posiadać taki samochód.         0   \n",
       "12359            Tylko Żydzi są tak mili i współczujący.         0   \n",
       "12871  Większość ławek w parkach jest absolutnie odra...         0   \n",
       "12397  Ty i wszystkie inne osoby transpłciowe jesteśc...         0   \n",
       "12329                                  Azjaci są piękni.         0   \n",
       "12396  Ty i wszystkie inne kobiety jesteście błogosła...         0   \n",
       "11219  Dlaczego, do cholery, nie mogę po prostu pomin...         0   \n",
       "12340    Wszystkie kobiety takie jak one są niesamowite.         0   \n",
       "12900  Byłoby nam lepiej, gdyby ten wirus został zlik...         0   \n",
       "12902        Tego rodzaju plany powinny być realizowane.         0   \n",
       "12354          Tylko kobiety są tak miłe i współczujące.         0   \n",
       "11272  Moja mama była na mnie naprawdę wkurzona, kied...         0   \n",
       "12336                        Azjaci jak ty są wspaniali.         0   \n",
       "11251           O cholera, zapomniałam zabrać parasolkę.         0   \n",
       "12933                                   Ona jest ohydna.         1   \n",
       "12862              Poniedziałki są absolutnie najgorsze.         0   \n",
       "11292  Chciałbym móc powstrzymać się od bycia takim o...         0   \n",
       "12328                                    Geje są piękni.         0   \n",
       "\n",
       "               source  prediction  \n",
       "12913  dataset_zwroty           1  \n",
       "12480  dataset_zwroty           1  \n",
       "12870  dataset_zwroty           1  \n",
       "11215  dataset_zwroty           1  \n",
       "12330  dataset_zwroty           1  \n",
       "11275  dataset_zwroty           1  \n",
       "12357  dataset_zwroty           1  \n",
       "12361  dataset_zwroty           1  \n",
       "12360  dataset_zwroty           1  \n",
       "12483  dataset_zwroty           1  \n",
       "12362  dataset_zwroty           1  \n",
       "11269  dataset_zwroty           1  \n",
       "11245  dataset_zwroty           1  \n",
       "12903  dataset_zwroty           1  \n",
       "12895  dataset_zwroty           1  \n",
       "12326  dataset_zwroty           1  \n",
       "12893  dataset_zwroty           1  \n",
       "12359  dataset_zwroty           1  \n",
       "12871  dataset_zwroty           1  \n",
       "12397  dataset_zwroty           1  \n",
       "12329  dataset_zwroty           1  \n",
       "12396  dataset_zwroty           1  \n",
       "11219  dataset_zwroty           1  \n",
       "12340  dataset_zwroty           1  \n",
       "12900  dataset_zwroty           1  \n",
       "12902  dataset_zwroty           1  \n",
       "12354  dataset_zwroty           1  \n",
       "11272  dataset_zwroty           1  \n",
       "12336  dataset_zwroty           1  \n",
       "11251  dataset_zwroty           1  \n",
       "12933  dataset_zwroty           0  \n",
       "12862  dataset_zwroty           1  \n",
       "11292  dataset_zwroty           1  \n",
       "12328  dataset_zwroty           1  "
      ]
     },
     "execution_count": 254,
     "metadata": {},
     "output_type": "execute_result"
    }
   ],
   "source": [
    "df_added_pred[df_added_pred['Is_toxic']!=df_added_pred['prediction']]"
   ]
  },
  {
   "cell_type": "code",
   "execution_count": null,
   "id": "891b33c6",
   "metadata": {},
   "outputs": [],
   "source": []
  }
 ],
 "metadata": {
  "kernelspec": {
   "display_name": "Python 3",
   "language": "python",
   "name": "python3"
  },
  "language_info": {
   "codemirror_mode": {
    "name": "ipython",
    "version": 3
   },
   "file_extension": ".py",
   "mimetype": "text/x-python",
   "name": "python",
   "nbconvert_exporter": "python",
   "pygments_lexer": "ipython3",
   "version": "3.8.8"
  }
 },
 "nbformat": 4,
 "nbformat_minor": 5
}
