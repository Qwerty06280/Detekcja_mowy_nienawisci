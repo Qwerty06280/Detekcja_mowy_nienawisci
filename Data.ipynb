{
 "cells": [
  {
   "cell_type": "code",
   "execution_count": 2,
   "id": "f2ec3ccf",
   "metadata": {},
   "outputs": [],
   "source": [
    "import numpy as np\n",
    "import pandas as pd"
   ]
  },
  {
   "cell_type": "code",
   "execution_count": 3,
   "id": "88f3ad0d",
   "metadata": {},
   "outputs": [],
   "source": [
    "# # Load the CSV file with the correct encoding (UTF-8)\n",
    "# file_path = r'C:\\Users\\Chill\\Desktop\\INZYNIERKA\\dane\\found_internet\\hugging_face_zwroty.csv'\n",
    "# df = pd.read_csv(file_path, encoding='utf-8')\n",
    "# # Make any necessary data manipulations here\n",
    "\n",
    "# # Save the DataFrame back to a CSV file with UTF-8 encoding\n",
    "# output_file = r'C:\\Users\\Chill\\Desktop\\INZYNIERKA\\dane\\found_internet\\hugging_face_zwroty.xlsx'\n",
    "# df.head()\n",
    "\n",
    "# # saving the dataframe\n",
    "# df.to_excel(output_file, index=False, header=True,encoding=\"utf-8\")"
   ]
  },
  {
   "cell_type": "markdown",
   "id": "2670f424",
   "metadata": {},
   "source": [
    "## Data for Bag of Words"
   ]
  },
  {
   "cell_type": "markdown",
   "id": "113777ef",
   "metadata": {},
   "source": []
  },
  {
   "cell_type": "code",
   "execution_count": 11,
   "id": "f2505edf",
   "metadata": {},
   "outputs": [],
   "source": [
    "# Load the CSV file with the correct encoding (UTF-8)\n",
    "file_path_kaggle = r'C:\\Users\\Chill\\Desktop\\INZYNIERKA\\dane\\found_internet\\kaggle_zbior.xlsx'\n",
    "df_bag = pd.read_excel(file_path_kaggle)"
   ]
  },
  {
   "cell_type": "code",
   "execution_count": 14,
   "id": "e1ab965b",
   "metadata": {},
   "outputs": [
    {
     "data": {
      "text/html": [
       "<div>\n",
       "<style scoped>\n",
       "    .dataframe tbody tr th:only-of-type {\n",
       "        vertical-align: middle;\n",
       "    }\n",
       "\n",
       "    .dataframe tbody tr th {\n",
       "        vertical-align: top;\n",
       "    }\n",
       "\n",
       "    .dataframe thead th {\n",
       "        text-align: right;\n",
       "    }\n",
       "</style>\n",
       "<table border=\"1\" class=\"dataframe\">\n",
       "  <thead>\n",
       "    <tr style=\"text-align: right;\">\n",
       "      <th></th>\n",
       "      <th>id</th>\n",
       "      <th>deph</th>\n",
       "      <th>type</th>\n",
       "      <th>type_id</th>\n",
       "      <th>word</th>\n",
       "    </tr>\n",
       "  </thead>\n",
       "  <tbody>\n",
       "    <tr>\n",
       "      <th>9314</th>\n",
       "      <td>65</td>\n",
       "      <td>2</td>\n",
       "      <td>S</td>\n",
       "      <td>21</td>\n",
       "      <td>wonowi</td>\n",
       "    </tr>\n",
       "    <tr>\n",
       "      <th>9315</th>\n",
       "      <td>65</td>\n",
       "      <td>2</td>\n",
       "      <td>S</td>\n",
       "      <td>21</td>\n",
       "      <td>wonów</td>\n",
       "    </tr>\n",
       "    <tr>\n",
       "      <th>9316</th>\n",
       "      <td>65</td>\n",
       "      <td>2</td>\n",
       "      <td>S</td>\n",
       "      <td>21</td>\n",
       "      <td>wony</td>\n",
       "    </tr>\n",
       "    <tr>\n",
       "      <th>9317</th>\n",
       "      <td>65</td>\n",
       "      <td>2</td>\n",
       "      <td>S</td>\n",
       "      <td>22</td>\n",
       "      <td>precz</td>\n",
       "    </tr>\n",
       "    <tr>\n",
       "      <th>9318</th>\n",
       "      <td>66</td>\n",
       "      <td>0</td>\n",
       "      <td>B</td>\n",
       "      <td>0</td>\n",
       "      <td>wypiździewo</td>\n",
       "    </tr>\n",
       "  </tbody>\n",
       "</table>\n",
       "</div>"
      ],
      "text/plain": [
       "      id  deph type  type_id         word\n",
       "9314  65     2    S       21       wonowi\n",
       "9315  65     2    S       21        wonów\n",
       "9316  65     2    S       21         wony\n",
       "9317  65     2    S       22        precz\n",
       "9318  66     0    B        0  wypiździewo"
      ]
     },
     "execution_count": 14,
     "metadata": {},
     "output_type": "execute_result"
    }
   ],
   "source": [
    "df_bag.tail()"
   ]
  },
  {
   "cell_type": "markdown",
   "id": "afdc3dc0",
   "metadata": {},
   "source": [
    "## Data for the other models"
   ]
  },
  {
   "cell_type": "markdown",
   "id": "b7cab9b6",
   "metadata": {},
   "source": [
    "### Load data & remove unnecessary columns etc:\n",
    "#### a) PolEval"
   ]
  },
  {
   "cell_type": "code",
   "execution_count": 30,
   "id": "b5a49798",
   "metadata": {},
   "outputs": [],
   "source": [
    "# Load the CSV file with the correct encoding (UTF-8)\n",
    "file_path_poleval = r'C:\\Users\\Chill\\Desktop\\INZYNIERKA\\dane\\found_internet\\poleval.xlsx'\n",
    "df_poleval = pd.read_excel(file_path_poleval)\n",
    "df_poleval = df_poleval[['comment','Is_toxic']]"
   ]
  },
  {
   "cell_type": "code",
   "execution_count": 31,
   "id": "34079f19",
   "metadata": {},
   "outputs": [
    {
     "data": {
      "text/html": [
       "<div>\n",
       "<style scoped>\n",
       "    .dataframe tbody tr th:only-of-type {\n",
       "        vertical-align: middle;\n",
       "    }\n",
       "\n",
       "    .dataframe tbody tr th {\n",
       "        vertical-align: top;\n",
       "    }\n",
       "\n",
       "    .dataframe thead th {\n",
       "        text-align: right;\n",
       "    }\n",
       "</style>\n",
       "<table border=\"1\" class=\"dataframe\">\n",
       "  <thead>\n",
       "    <tr style=\"text-align: right;\">\n",
       "      <th></th>\n",
       "      <th>comment</th>\n",
       "      <th>Is_toxic</th>\n",
       "    </tr>\n",
       "  </thead>\n",
       "  <tbody>\n",
       "    <tr>\n",
       "      <th>10036</th>\n",
       "      <td>Ty zagrasz? Nie wiedziałem 😉</td>\n",
       "      <td>0</td>\n",
       "    </tr>\n",
       "    <tr>\n",
       "      <th>10037</th>\n",
       "      <td>A VAR nie miał poprawić jakości sędziowania, t...</td>\n",
       "      <td>0</td>\n",
       "    </tr>\n",
       "    <tr>\n",
       "      <th>10038</th>\n",
       "      <td>Szanowany, bo kolega ładnie go pożegnał ?</td>\n",
       "      <td>0</td>\n",
       "    </tr>\n",
       "    <tr>\n",
       "      <th>10039</th>\n",
       "      <td>A kto inny ma się bić? Każdy zwyciezca ligi wo...</td>\n",
       "      <td>0</td>\n",
       "    </tr>\n",
       "    <tr>\n",
       "      <th>10040</th>\n",
       "      <td>A wróżbita Maciej mówi że zrozumiemy</td>\n",
       "      <td>0</td>\n",
       "    </tr>\n",
       "  </tbody>\n",
       "</table>\n",
       "</div>"
      ],
      "text/plain": [
       "                                                 comment  Is_toxic\n",
       "10036                       Ty zagrasz? Nie wiedziałem 😉         0\n",
       "10037  A VAR nie miał poprawić jakości sędziowania, t...         0\n",
       "10038          Szanowany, bo kolega ładnie go pożegnał ?         0\n",
       "10039  A kto inny ma się bić? Każdy zwyciezca ligi wo...         0\n",
       "10040               A wróżbita Maciej mówi że zrozumiemy         0"
      ]
     },
     "execution_count": 31,
     "metadata": {},
     "output_type": "execute_result"
    }
   ],
   "source": [
    "df_poleval.tail()"
   ]
  },
  {
   "cell_type": "markdown",
   "id": "78e98e60",
   "metadata": {},
   "source": [
    "#### b) hugging_face"
   ]
  },
  {
   "cell_type": "code",
   "execution_count": 32,
   "id": "7df58451",
   "metadata": {},
   "outputs": [],
   "source": [
    "# Load the CSV file with the correct encoding (UTF-8)\n",
    "file_path_hugface = r'C:\\Users\\Chill\\Desktop\\INZYNIERKA\\dane\\found_internet\\hugging_face_zwroty.xlsx'\n",
    "df_hugface = pd.read_excel(file_path_hugface)\n",
    "df_hugface = df_hugface[['test_case','is_toxic']]"
   ]
  },
  {
   "cell_type": "code",
   "execution_count": 33,
   "id": "f770adee",
   "metadata": {},
   "outputs": [
    {
     "data": {
      "text/html": [
       "<div>\n",
       "<style scoped>\n",
       "    .dataframe tbody tr th:only-of-type {\n",
       "        vertical-align: middle;\n",
       "    }\n",
       "\n",
       "    .dataframe tbody tr th {\n",
       "        vertical-align: top;\n",
       "    }\n",
       "\n",
       "    .dataframe thead th {\n",
       "        text-align: right;\n",
       "    }\n",
       "</style>\n",
       "<table border=\"1\" class=\"dataframe\">\n",
       "  <thead>\n",
       "    <tr style=\"text-align: right;\">\n",
       "      <th></th>\n",
       "      <th>test_case</th>\n",
       "      <th>is_toxic</th>\n",
       "    </tr>\n",
       "  </thead>\n",
       "  <tbody>\n",
       "    <tr>\n",
       "      <th>3810</th>\n",
       "      <td>Geje są wszyscy kompletnymi dupk4mi.</td>\n",
       "      <td>1</td>\n",
       "    </tr>\n",
       "    <tr>\n",
       "      <th>3811</th>\n",
       "      <td>Azjaci są wszyscy kompletnymi dupk4mi.</td>\n",
       "      <td>1</td>\n",
       "    </tr>\n",
       "    <tr>\n",
       "      <th>3812</th>\n",
       "      <td>Niepełnosprawni są wszyscy kompletnymi dupk4mi.</td>\n",
       "      <td>1</td>\n",
       "    </tr>\n",
       "    <tr>\n",
       "      <th>3813</th>\n",
       "      <td>Żydzi są wszyscy kompletnymi dupk4mi.</td>\n",
       "      <td>1</td>\n",
       "    </tr>\n",
       "    <tr>\n",
       "      <th>3814</th>\n",
       "      <td>Imigranci są wszyscy kompletnymi dupk4mi.</td>\n",
       "      <td>1</td>\n",
       "    </tr>\n",
       "  </tbody>\n",
       "</table>\n",
       "</div>"
      ],
      "text/plain": [
       "                                            test_case  is_toxic\n",
       "3810             Geje są wszyscy kompletnymi dupk4mi.         1\n",
       "3811           Azjaci są wszyscy kompletnymi dupk4mi.         1\n",
       "3812  Niepełnosprawni są wszyscy kompletnymi dupk4mi.         1\n",
       "3813            Żydzi są wszyscy kompletnymi dupk4mi.         1\n",
       "3814        Imigranci są wszyscy kompletnymi dupk4mi.         1"
      ]
     },
     "execution_count": 33,
     "metadata": {},
     "output_type": "execute_result"
    }
   ],
   "source": [
    "df_hugface.tail()"
   ]
  },
  {
   "cell_type": "markdown",
   "id": "649a5913",
   "metadata": {},
   "source": [
    "#### c) github (wykop.pl)"
   ]
  },
  {
   "cell_type": "code",
   "execution_count": 34,
   "id": "f057c8f4",
   "metadata": {},
   "outputs": [],
   "source": [
    "# Load the CSV file with the correct encoding (UTF-8)\n",
    "file_path_github = r'C:\\Users\\Chill\\Desktop\\INZYNIERKA\\dane\\found_internet\\github_utf8.xlsx'\n",
    "df_git = pd.read_excel(file_path_github)\n",
    "df_git = df_git[['Text','IsToxic']]"
   ]
  },
  {
   "cell_type": "code",
   "execution_count": 35,
   "id": "502be1fe",
   "metadata": {},
   "outputs": [
    {
     "data": {
      "text/html": [
       "<div>\n",
       "<style scoped>\n",
       "    .dataframe tbody tr th:only-of-type {\n",
       "        vertical-align: middle;\n",
       "    }\n",
       "\n",
       "    .dataframe tbody tr th {\n",
       "        vertical-align: top;\n",
       "    }\n",
       "\n",
       "    .dataframe thead th {\n",
       "        text-align: right;\n",
       "    }\n",
       "</style>\n",
       "<table border=\"1\" class=\"dataframe\">\n",
       "  <thead>\n",
       "    <tr style=\"text-align: right;\">\n",
       "      <th></th>\n",
       "      <th>Text</th>\n",
       "      <th>IsToxic</th>\n",
       "    </tr>\n",
       "  </thead>\n",
       "  <tbody>\n",
       "    <tr>\n",
       "      <th>23995</th>\n",
       "      <td>Polaczki jebane XD na wszystko narzekać byle n...</td>\n",
       "      <td>1</td>\n",
       "    </tr>\n",
       "    <tr>\n",
       "      <th>23996</th>\n",
       "      <td>jakaś muzyka normicka dudni ehhh w sumie i tak...</td>\n",
       "      <td>1</td>\n",
       "    </tr>\n",
       "    <tr>\n",
       "      <th>23997</th>\n",
       "      <td>\"\" czy raczej zjeb ze stawu to była jedna z na...</td>\n",
       "      <td>1</td>\n",
       "    </tr>\n",
       "    <tr>\n",
       "      <th>23998</th>\n",
       "      <td>kurwy Michał  kończył nocną wartę w serwerow...</td>\n",
       "      <td>1</td>\n",
       "    </tr>\n",
       "    <tr>\n",
       "      <th>23999</th>\n",
       "      <td>Przecież murzynów nie da się szanować ani tole...</td>\n",
       "      <td>1</td>\n",
       "    </tr>\n",
       "  </tbody>\n",
       "</table>\n",
       "</div>"
      ],
      "text/plain": [
       "                                                    Text  IsToxic\n",
       "23995  Polaczki jebane XD na wszystko narzekać byle n...        1\n",
       "23996  jakaś muzyka normicka dudni ehhh w sumie i tak...        1\n",
       "23997  \"\" czy raczej zjeb ze stawu to była jedna z na...        1\n",
       "23998    kurwy Michał  kończył nocną wartę w serwerow...        1\n",
       "23999  Przecież murzynów nie da się szanować ani tole...        1"
      ]
     },
     "execution_count": 35,
     "metadata": {},
     "output_type": "execute_result"
    }
   ],
   "source": [
    "df_git.tail()"
   ]
  },
  {
   "cell_type": "markdown",
   "id": "7a546ab8",
   "metadata": {},
   "source": [
    "### Unify the data - columns names, types etc"
   ]
  },
  {
   "cell_type": "code",
   "execution_count": 44,
   "id": "4f4c055d",
   "metadata": {},
   "outputs": [],
   "source": [
    "df_poleval = df_poleval.rename(columns={'comment':'Comment'})\n",
    "df_hugface = df_hugface.rename(columns={'test_case':'Comment','is_toxic':'Is_toxic'})\n",
    "df_git = df_git.rename(columns={'Text':'Comment','IsToxic':'Is_toxic'})"
   ]
  },
  {
   "cell_type": "markdown",
   "id": "5ff85983",
   "metadata": {},
   "source": [
    " "
   ]
  },
  {
   "cell_type": "markdown",
   "id": "5d82df48",
   "metadata": {},
   "source": [
    "### Concatenate 3 datasets"
   ]
  },
  {
   "cell_type": "code",
   "execution_count": 45,
   "id": "51e4b4f6",
   "metadata": {},
   "outputs": [
    {
     "data": {
      "text/html": [
       "<div>\n",
       "<style scoped>\n",
       "    .dataframe tbody tr th:only-of-type {\n",
       "        vertical-align: middle;\n",
       "    }\n",
       "\n",
       "    .dataframe tbody tr th {\n",
       "        vertical-align: top;\n",
       "    }\n",
       "\n",
       "    .dataframe thead th {\n",
       "        text-align: right;\n",
       "    }\n",
       "</style>\n",
       "<table border=\"1\" class=\"dataframe\">\n",
       "  <thead>\n",
       "    <tr style=\"text-align: right;\">\n",
       "      <th></th>\n",
       "      <th>Comment</th>\n",
       "      <th>Is_toxic</th>\n",
       "    </tr>\n",
       "  </thead>\n",
       "  <tbody>\n",
       "    <tr>\n",
       "      <th>0</th>\n",
       "      <td>Dla mnie faworytem do tytułu będzie Cracovia. ...</td>\n",
       "      <td>0</td>\n",
       "    </tr>\n",
       "    <tr>\n",
       "      <th>1</th>\n",
       "      <td>Brawo ty Daria kibic ma być na dobre i złe</td>\n",
       "      <td>0</td>\n",
       "    </tr>\n",
       "    <tr>\n",
       "      <th>2</th>\n",
       "      <td>Super, polski premier składa kwiaty na grobach...</td>\n",
       "      <td>0</td>\n",
       "    </tr>\n",
       "    <tr>\n",
       "      <th>3</th>\n",
       "      <td>Musi. Innej drogi nie mamy.</td>\n",
       "      <td>0</td>\n",
       "    </tr>\n",
       "    <tr>\n",
       "      <th>4</th>\n",
       "      <td>Odrzut natychmiastowy, kwaśna mina, mam problem</td>\n",
       "      <td>0</td>\n",
       "    </tr>\n",
       "    <tr>\n",
       "      <th>...</th>\n",
       "      <td>...</td>\n",
       "      <td>...</td>\n",
       "    </tr>\n",
       "    <tr>\n",
       "      <th>37851</th>\n",
       "      <td>Polaczki jebane XD na wszystko narzekać byle n...</td>\n",
       "      <td>1</td>\n",
       "    </tr>\n",
       "    <tr>\n",
       "      <th>37852</th>\n",
       "      <td>jakaś muzyka normicka dudni ehhh w sumie i tak...</td>\n",
       "      <td>1</td>\n",
       "    </tr>\n",
       "    <tr>\n",
       "      <th>37853</th>\n",
       "      <td>\"\" czy raczej zjeb ze stawu to była jedna z na...</td>\n",
       "      <td>1</td>\n",
       "    </tr>\n",
       "    <tr>\n",
       "      <th>37854</th>\n",
       "      <td>kurwy Michał  kończył nocną wartę w serwerow...</td>\n",
       "      <td>1</td>\n",
       "    </tr>\n",
       "    <tr>\n",
       "      <th>37855</th>\n",
       "      <td>Przecież murzynów nie da się szanować ani tole...</td>\n",
       "      <td>1</td>\n",
       "    </tr>\n",
       "  </tbody>\n",
       "</table>\n",
       "<p>37856 rows × 2 columns</p>\n",
       "</div>"
      ],
      "text/plain": [
       "                                                 Comment  Is_toxic\n",
       "0      Dla mnie faworytem do tytułu będzie Cracovia. ...         0\n",
       "1             Brawo ty Daria kibic ma być na dobre i złe         0\n",
       "2      Super, polski premier składa kwiaty na grobach...         0\n",
       "3                            Musi. Innej drogi nie mamy.         0\n",
       "4        Odrzut natychmiastowy, kwaśna mina, mam problem         0\n",
       "...                                                  ...       ...\n",
       "37851  Polaczki jebane XD na wszystko narzekać byle n...         1\n",
       "37852  jakaś muzyka normicka dudni ehhh w sumie i tak...         1\n",
       "37853  \"\" czy raczej zjeb ze stawu to była jedna z na...         1\n",
       "37854    kurwy Michał  kończył nocną wartę w serwerow...         1\n",
       "37855  Przecież murzynów nie da się szanować ani tole...         1\n",
       "\n",
       "[37856 rows x 2 columns]"
      ]
     },
     "execution_count": 45,
     "metadata": {},
     "output_type": "execute_result"
    }
   ],
   "source": [
    "df_conc = pd.concat([df_poleval, df_hugface, df_git], ignore_index = True)\n",
    "df_conc"
   ]
  },
  {
   "cell_type": "code",
   "execution_count": 47,
   "id": "fc163d08",
   "metadata": {},
   "outputs": [],
   "source": [
    "# saving the dataframe\n",
    "output_file = r'C:\\Users\\Chill\\Desktop\\INZYNIERKA\\dane\\found_internet\\CONCATENATED_DATA.xlsx'\n",
    "df_conc.to_excel(output_file, index=False, header=True,encoding=\"utf-8\")"
   ]
  },
  {
   "cell_type": "code",
   "execution_count": 48,
   "id": "2a119f2c",
   "metadata": {},
   "outputs": [],
   "source": [
    "file_path_conc = r'C:\\Users\\Chill\\Desktop\\INZYNIERKA\\dane\\found_internet\\CONCATENATED_DATA.xlsx'\n",
    "df_conc = pd.read_excel(file_path_conc)"
   ]
  },
  {
   "cell_type": "code",
   "execution_count": 49,
   "id": "e655ec98",
   "metadata": {},
   "outputs": [
    {
     "data": {
      "text/html": [
       "<div>\n",
       "<style scoped>\n",
       "    .dataframe tbody tr th:only-of-type {\n",
       "        vertical-align: middle;\n",
       "    }\n",
       "\n",
       "    .dataframe tbody tr th {\n",
       "        vertical-align: top;\n",
       "    }\n",
       "\n",
       "    .dataframe thead th {\n",
       "        text-align: right;\n",
       "    }\n",
       "</style>\n",
       "<table border=\"1\" class=\"dataframe\">\n",
       "  <thead>\n",
       "    <tr style=\"text-align: right;\">\n",
       "      <th></th>\n",
       "      <th>Comment</th>\n",
       "      <th>Is_toxic</th>\n",
       "    </tr>\n",
       "  </thead>\n",
       "  <tbody>\n",
       "    <tr>\n",
       "      <th>0</th>\n",
       "      <td>Dla mnie faworytem do tytułu będzie Cracovia. ...</td>\n",
       "      <td>0</td>\n",
       "    </tr>\n",
       "    <tr>\n",
       "      <th>1</th>\n",
       "      <td>Brawo ty Daria kibic ma być na dobre i złe</td>\n",
       "      <td>0</td>\n",
       "    </tr>\n",
       "    <tr>\n",
       "      <th>2</th>\n",
       "      <td>Super, polski premier składa kwiaty na grobach...</td>\n",
       "      <td>0</td>\n",
       "    </tr>\n",
       "    <tr>\n",
       "      <th>3</th>\n",
       "      <td>Musi. Innej drogi nie mamy.</td>\n",
       "      <td>0</td>\n",
       "    </tr>\n",
       "    <tr>\n",
       "      <th>4</th>\n",
       "      <td>Odrzut natychmiastowy, kwaśna mina, mam problem</td>\n",
       "      <td>0</td>\n",
       "    </tr>\n",
       "    <tr>\n",
       "      <th>...</th>\n",
       "      <td>...</td>\n",
       "      <td>...</td>\n",
       "    </tr>\n",
       "    <tr>\n",
       "      <th>37851</th>\n",
       "      <td>Polaczki jebane XD na wszystko narzekać byle n...</td>\n",
       "      <td>1</td>\n",
       "    </tr>\n",
       "    <tr>\n",
       "      <th>37852</th>\n",
       "      <td>jakaś muzyka normicka dudni ehhh w sumie i tak...</td>\n",
       "      <td>1</td>\n",
       "    </tr>\n",
       "    <tr>\n",
       "      <th>37853</th>\n",
       "      <td>\"\" czy raczej zjeb ze stawu to była jedna z na...</td>\n",
       "      <td>1</td>\n",
       "    </tr>\n",
       "    <tr>\n",
       "      <th>37854</th>\n",
       "      <td>kurwy Michał  kończył nocną wartę w serwerow...</td>\n",
       "      <td>1</td>\n",
       "    </tr>\n",
       "    <tr>\n",
       "      <th>37855</th>\n",
       "      <td>Przecież murzynów nie da się szanować ani tole...</td>\n",
       "      <td>1</td>\n",
       "    </tr>\n",
       "  </tbody>\n",
       "</table>\n",
       "<p>37856 rows × 2 columns</p>\n",
       "</div>"
      ],
      "text/plain": [
       "                                                 Comment  Is_toxic\n",
       "0      Dla mnie faworytem do tytułu będzie Cracovia. ...         0\n",
       "1             Brawo ty Daria kibic ma być na dobre i złe         0\n",
       "2      Super, polski premier składa kwiaty na grobach...         0\n",
       "3                            Musi. Innej drogi nie mamy.         0\n",
       "4        Odrzut natychmiastowy, kwaśna mina, mam problem         0\n",
       "...                                                  ...       ...\n",
       "37851  Polaczki jebane XD na wszystko narzekać byle n...         1\n",
       "37852  jakaś muzyka normicka dudni ehhh w sumie i tak...         1\n",
       "37853  \"\" czy raczej zjeb ze stawu to była jedna z na...         1\n",
       "37854    kurwy Michał  kończył nocną wartę w serwerow...         1\n",
       "37855  Przecież murzynów nie da się szanować ani tole...         1\n",
       "\n",
       "[37856 rows x 2 columns]"
      ]
     },
     "execution_count": 49,
     "metadata": {},
     "output_type": "execute_result"
    }
   ],
   "source": [
    "df_conc"
   ]
  },
  {
   "cell_type": "code",
   "execution_count": null,
   "id": "01885c1e",
   "metadata": {},
   "outputs": [],
   "source": []
  }
 ],
 "metadata": {
  "kernelspec": {
   "display_name": "Python 3",
   "language": "python",
   "name": "python3"
  },
  "language_info": {
   "codemirror_mode": {
    "name": "ipython",
    "version": 3
   },
   "file_extension": ".py",
   "mimetype": "text/x-python",
   "name": "python",
   "nbconvert_exporter": "python",
   "pygments_lexer": "ipython3",
   "version": "3.8.8"
  }
 },
 "nbformat": 4,
 "nbformat_minor": 5
}
