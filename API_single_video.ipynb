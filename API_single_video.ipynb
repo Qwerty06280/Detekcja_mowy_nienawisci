{
 "cells": [
  {
   "cell_type": "markdown",
   "id": "f014274f",
   "metadata": {},
   "source": [
    "## 0. Import libraries"
   ]
  },
  {
   "cell_type": "code",
   "execution_count": 1,
   "id": "e0cd3a30",
   "metadata": {},
   "outputs": [],
   "source": [
    "import os\n",
    "from googleapiclient.discovery import build\n",
    "from typing import List\n",
    "#pip install google-api-python-client"
   ]
  },
  {
   "cell_type": "markdown",
   "id": "04f4d0aa",
   "metadata": {},
   "source": [
    "## Insert youtube video ID <br>\n",
    "**How to insert youtube video id?**<br>\n",
    "https://www.youtube.com/watch?v= **dQw4w9WgXcQ**<br>\n",
    "The bolded text functions as a youtube video ID."
   ]
  },
  {
   "cell_type": "code",
   "execution_count": 2,
   "id": "d4fd9040",
   "metadata": {},
   "outputs": [],
   "source": [
    "# Enter video id\n",
    "video_id = \"hyRhzXRAF_I\""
   ]
  },
  {
   "cell_type": "markdown",
   "id": "d854b7ab",
   "metadata": {},
   "source": [
    "**Function to extract video_id from a youtube link**"
   ]
  },
  {
   "cell_type": "code",
   "execution_count": 16,
   "id": "88fc037e",
   "metadata": {},
   "outputs": [],
   "source": [
    "from urllib.parse import urlparse, parse_qs\n",
    "\n",
    "# source:\n",
    "# https://stackoverflow.com/questions/45579306/get-youtube-video-url-or-youtube-video-id-from-a-string-using-regex\n",
    "def get_id(url):\n",
    "    u_pars = urlparse(url)\n",
    "    quer_v = parse_qs(u_pars.query).get('v')\n",
    "    if quer_v:\n",
    "        return quer_v[0].strip()\n",
    "    pth = u_pars.path.split('/')\n",
    "    if pth:\n",
    "        return pth[-1].strip()"
   ]
  },
  {
   "cell_type": "code",
   "execution_count": 17,
   "id": "50d4a390",
   "metadata": {},
   "outputs": [
    {
     "data": {
      "text/plain": [
       "'dQw4w9WgXcQ'"
      ]
     },
     "execution_count": 17,
     "metadata": {},
     "output_type": "execute_result"
    }
   ],
   "source": [
    "video_id = get_id('https://www.youtube.com/watch?v= dQw4w9WgXcQ')\n",
    "video_id"
   ]
  },
  {
   "cell_type": "markdown",
   "id": "fff464e9",
   "metadata": {},
   "source": [
    "## Get API key and connect to Youtube API"
   ]
  },
  {
   "cell_type": "code",
   "execution_count": 18,
   "id": "6668fdc0",
   "metadata": {},
   "outputs": [],
   "source": [
    "yt_api_key = os.environ.get('YT_API_KEY')\n",
    "#print(yt_api_key)\n",
    "yt_connection = build('youtube', 'v3', developerKey = yt_api_key)"
   ]
  },
  {
   "cell_type": "code",
   "execution_count": 19,
   "id": "431bc05e",
   "metadata": {},
   "outputs": [],
   "source": [
    "# Enter video id\n",
    "video_id = \"hyRhzXRAF_I\""
   ]
  },
  {
   "cell_type": "markdown",
   "id": "83375938",
   "metadata": {},
   "source": [
    "### - Get the title of a video -"
   ]
  },
  {
   "cell_type": "code",
   "execution_count": 20,
   "id": "b9138e00",
   "metadata": {},
   "outputs": [
    {
     "data": {
      "text/plain": [
       "'CLUB2020 NA OPEN’ERZE!'"
      ]
     },
     "execution_count": 20,
     "metadata": {},
     "output_type": "execute_result"
    }
   ],
   "source": [
    "# response to get the title of the video\n",
    "response_title = yt_connection.videos().list(\n",
    "     part = 'snippet',\n",
    "     id = video_id\n",
    ").execute()\n",
    "# get the video title\n",
    "video_title = response_title['items'][0]['snippet']['title']\n",
    "video_title"
   ]
  },
  {
   "cell_type": "code",
   "execution_count": null,
   "id": "3c25b457",
   "metadata": {},
   "outputs": [],
   "source": []
  }
 ],
 "metadata": {
  "kernelspec": {
   "display_name": "Python 3",
   "language": "python",
   "name": "python3"
  },
  "language_info": {
   "codemirror_mode": {
    "name": "ipython",
    "version": 3
   },
   "file_extension": ".py",
   "mimetype": "text/x-python",
   "name": "python",
   "nbconvert_exporter": "python",
   "pygments_lexer": "ipython3",
   "version": "3.8.8"
  }
 },
 "nbformat": 4,
 "nbformat_minor": 5
}
