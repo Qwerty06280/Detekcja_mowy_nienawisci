{
 "cells": [
  {
   "cell_type": "markdown",
   "id": "f014274f",
   "metadata": {},
   "source": [
    "## 0. Import libraries"
   ]
  },
  {
   "cell_type": "code",
   "execution_count": 35,
   "id": "e0cd3a30",
   "metadata": {},
   "outputs": [],
   "source": [
    "import os\n",
    "from googleapiclient.discovery import build\n",
    "from typing import List\n",
    "#pip install google-api-python-client"
   ]
  },
  {
   "cell_type": "markdown",
   "id": "04f4d0aa",
   "metadata": {},
   "source": [
    "## Insert youtube video ID <br>\n",
    "**How to insert youtube video id?**<br>\n",
    "https://www.youtube.com/watch?v= **dQw4w9WgXcQ**<br>\n",
    "The bolded text functions as a youtube video ID."
   ]
  },
  {
   "cell_type": "code",
   "execution_count": null,
   "id": "d4fd9040",
   "metadata": {},
   "outputs": [],
   "source": [
    "# Enter video id\n",
    "video_id = \"hyRhzXRAF_I\""
   ]
  },
  {
   "cell_type": "markdown",
   "id": "fff464e9",
   "metadata": {},
   "source": [
    "## Get API key and connect to Youtube API"
   ]
  },
  {
   "cell_type": "code",
   "execution_count": 7,
   "id": "6668fdc0",
   "metadata": {},
   "outputs": [],
   "source": [
    "yt_api_key = os.environ.get('YT_API_KEY')\n",
    "#print(yt_api_key)\n",
    "yt_connection = build('youtube', 'v3', developerKey = yt_api_key)"
   ]
  },
  {
   "cell_type": "code",
   "execution_count": null,
   "id": "431bc05e",
   "metadata": {},
   "outputs": [],
   "source": [
    "# Enter video id\n",
    "video_id = \"hyRhzXRAF_I\""
   ]
  },
  {
   "cell_type": "markdown",
   "id": "83375938",
   "metadata": {},
   "source": [
    "### - Get the title of a video -"
   ]
  },
  {
   "cell_type": "code",
   "execution_count": null,
   "id": "b9138e00",
   "metadata": {},
   "outputs": [],
   "source": [
    "# response to get the title of the video\n",
    "response_title = yt_connection.videos().list(\n",
    "     part = 'snippet',\n",
    "     id = video_id\n",
    ").execute()\n",
    "# get the video title\n",
    "video_title = response_title['items'][0]['snippet']['title']\n",
    "video_title"
   ]
  }
 ],
 "metadata": {
  "kernelspec": {
   "display_name": "Python 3",
   "language": "python",
   "name": "python3"
  },
  "language_info": {
   "codemirror_mode": {
    "name": "ipython",
    "version": 3
   },
   "file_extension": ".py",
   "mimetype": "text/x-python",
   "name": "python",
   "nbconvert_exporter": "python",
   "pygments_lexer": "ipython3",
   "version": "3.8.8"
  }
 },
 "nbformat": 4,
 "nbformat_minor": 5
}
