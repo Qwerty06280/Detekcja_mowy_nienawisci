{
 "cells": [
  {
   "cell_type": "markdown",
   "id": "a218139a",
   "metadata": {},
   "source": [
    "## Import libraries"
   ]
  },
  {
   "cell_type": "code",
   "execution_count": 65,
   "id": "46306702",
   "metadata": {},
   "outputs": [],
   "source": [
    "import numpy as np\n",
    "import pandas as pd\n",
    "import matplotlib.pyplot as plt\n",
    "# regex - cleaning\n",
    "import re\n",
    "# lematyzacja\n",
    "import spacy\n",
    "from sklearn.model_selection import train_test_split, cross_val_score\n",
    "from sklearn.metrics import classification_report, accuracy_score, confusion_matrix, ConfusionMatrixDisplay\n",
    "# Bag of Words\n",
    "from sklearn.feature_extraction.text import CountVectorizer\n",
    "# TF-IDF\n",
    "from sklearn.feature_extraction.text import TfidfVectorizer \n",
    "# Logistic Regression\n",
    "from sklearn.linear_model import LogisticRegression\n",
    "# SVM\n",
    "from sklearn.svm import SVC"
   ]
  },
  {
   "cell_type": "markdown",
   "id": "32e06177",
   "metadata": {},
   "source": [
    "# Read data"
   ]
  },
  {
   "cell_type": "markdown",
   "id": "5087c8a6",
   "metadata": {},
   "source": [
    "#### Data for training and testing"
   ]
  },
  {
   "cell_type": "code",
   "execution_count": 66,
   "id": "4f668152",
   "metadata": {},
   "outputs": [],
   "source": [
    "file_path_conc = r'C:\\Users\\Chill\\Desktop\\INZYNIERKA\\dane\\found_internet\\CONCATENATED_DATA.xlsx'\n",
    "df_original = pd.read_excel(file_path_conc)"
   ]
  },
  {
   "cell_type": "code",
   "execution_count": 67,
   "id": "be4a2827",
   "metadata": {},
   "outputs": [
    {
     "data": {
      "text/html": [
       "<div>\n",
       "<style scoped>\n",
       "    .dataframe tbody tr th:only-of-type {\n",
       "        vertical-align: middle;\n",
       "    }\n",
       "\n",
       "    .dataframe tbody tr th {\n",
       "        vertical-align: top;\n",
       "    }\n",
       "\n",
       "    .dataframe thead th {\n",
       "        text-align: right;\n",
       "    }\n",
       "</style>\n",
       "<table border=\"1\" class=\"dataframe\">\n",
       "  <thead>\n",
       "    <tr style=\"text-align: right;\">\n",
       "      <th></th>\n",
       "      <th>Comment</th>\n",
       "      <th>Is_toxic</th>\n",
       "      <th>source</th>\n",
       "    </tr>\n",
       "  </thead>\n",
       "  <tbody>\n",
       "    <tr>\n",
       "      <th>0</th>\n",
       "      <td>Dla mnie faworytem do tytułu będzie Cracovia. ...</td>\n",
       "      <td>0</td>\n",
       "      <td>dataset_poleval</td>\n",
       "    </tr>\n",
       "    <tr>\n",
       "      <th>1</th>\n",
       "      <td>Brawo ty Daria kibic ma być na dobre i złe</td>\n",
       "      <td>0</td>\n",
       "      <td>dataset_poleval</td>\n",
       "    </tr>\n",
       "    <tr>\n",
       "      <th>2</th>\n",
       "      <td>Super, polski premier składa kwiaty na grobach...</td>\n",
       "      <td>0</td>\n",
       "      <td>dataset_poleval</td>\n",
       "    </tr>\n",
       "    <tr>\n",
       "      <th>3</th>\n",
       "      <td>Musi. Innej drogi nie mamy.</td>\n",
       "      <td>0</td>\n",
       "      <td>dataset_poleval</td>\n",
       "    </tr>\n",
       "    <tr>\n",
       "      <th>4</th>\n",
       "      <td>Odrzut natychmiastowy, kwaśna mina, mam problem</td>\n",
       "      <td>0</td>\n",
       "      <td>dataset_poleval</td>\n",
       "    </tr>\n",
       "  </tbody>\n",
       "</table>\n",
       "</div>"
      ],
      "text/plain": [
       "                                             Comment  Is_toxic  \\\n",
       "0  Dla mnie faworytem do tytułu będzie Cracovia. ...         0   \n",
       "1         Brawo ty Daria kibic ma być na dobre i złe         0   \n",
       "2  Super, polski premier składa kwiaty na grobach...         0   \n",
       "3                        Musi. Innej drogi nie mamy.         0   \n",
       "4    Odrzut natychmiastowy, kwaśna mina, mam problem         0   \n",
       "\n",
       "            source  \n",
       "0  dataset_poleval  \n",
       "1  dataset_poleval  \n",
       "2  dataset_poleval  \n",
       "3  dataset_poleval  \n",
       "4  dataset_poleval  "
      ]
     },
     "execution_count": 67,
     "metadata": {},
     "output_type": "execute_result"
    }
   ],
   "source": [
    "df_original.head()"
   ]
  },
  {
   "cell_type": "markdown",
   "id": "4c6de58e",
   "metadata": {},
   "source": [
    "#### Data to predict"
   ]
  },
  {
   "cell_type": "code",
   "execution_count": 68,
   "id": "9039f864",
   "metadata": {},
   "outputs": [],
   "source": [
    "# Load the CSV file with the correct encoding (UTF-8)\n",
    "file_path_yt = r'C:\\Users\\Chill\\Desktop\\INZYNIERKA\\dane\\extracted_comments\\comms_test.xlsx'\n",
    "# comments from 4 videos:\n",
    "# https://www.youtube.com/watch?v=t4O1LLk6qlY\n",
    "# https://www.youtube.com/watch?v=r3qhl12iHKc\n",
    "# https://www.youtube.com/watch?v=iLTLbe13hLg\n",
    "# https://www.youtube.com/watch?v=v7CQkivQNQI\n",
    "\n",
    "df_predict = pd.read_excel(file_path_yt)"
   ]
  },
  {
   "cell_type": "code",
   "execution_count": 69,
   "id": "e86338c8",
   "metadata": {
    "scrolled": true
   },
   "outputs": [
    {
     "data": {
      "text/html": [
       "<div>\n",
       "<style scoped>\n",
       "    .dataframe tbody tr th:only-of-type {\n",
       "        vertical-align: middle;\n",
       "    }\n",
       "\n",
       "    .dataframe tbody tr th {\n",
       "        vertical-align: top;\n",
       "    }\n",
       "\n",
       "    .dataframe thead th {\n",
       "        text-align: right;\n",
       "    }\n",
       "</style>\n",
       "<table border=\"1\" class=\"dataframe\">\n",
       "  <thead>\n",
       "    <tr style=\"text-align: right;\">\n",
       "      <th></th>\n",
       "      <th>Comments</th>\n",
       "    </tr>\n",
       "  </thead>\n",
       "  <tbody>\n",
       "    <tr>\n",
       "      <th>0</th>\n",
       "      <td>JKM jest zwolennikiem otwartej migracji ludzi ...</td>\n",
       "    </tr>\n",
       "    <tr>\n",
       "      <th>1</th>\n",
       "      <td>Korwin jest najlepszy</td>\n",
       "    </tr>\n",
       "    <tr>\n",
       "      <th>2</th>\n",
       "      <td>ten występ się dobrze starzeje jak popatrzymy ...</td>\n",
       "    </tr>\n",
       "    <tr>\n",
       "      <th>3</th>\n",
       "      <td>Wracam po protestach we Francji.</td>\n",
       "    </tr>\n",
       "    <tr>\n",
       "      <th>4</th>\n",
       "      <td>Po 7 latach sie sprawdziło, gosc mysli lata do...</td>\n",
       "    </tr>\n",
       "  </tbody>\n",
       "</table>\n",
       "</div>"
      ],
      "text/plain": [
       "                                            Comments\n",
       "0  JKM jest zwolennikiem otwartej migracji ludzi ...\n",
       "1                              Korwin jest najlepszy\n",
       "2  ten występ się dobrze starzeje jak popatrzymy ...\n",
       "3                   Wracam po protestach we Francji.\n",
       "4  Po 7 latach sie sprawdziło, gosc mysli lata do..."
      ]
     },
     "execution_count": 69,
     "metadata": {},
     "output_type": "execute_result"
    }
   ],
   "source": [
    "df_predict.head()"
   ]
  },
  {
   "cell_type": "markdown",
   "id": "9c45eef4",
   "metadata": {},
   "source": [
    "## Preprocessing"
   ]
  },
  {
   "cell_type": "code",
   "execution_count": 70,
   "id": "72e1dc88",
   "metadata": {},
   "outputs": [],
   "source": [
    "df = df_original"
   ]
  },
  {
   "cell_type": "code",
   "execution_count": 71,
   "id": "09f57dd2",
   "metadata": {},
   "outputs": [
    {
     "data": {
      "text/plain": [
       "array(['dataset_poleval', 'dataset_zwroty', 'dataset_wykop'], dtype=object)"
      ]
     },
     "execution_count": 71,
     "metadata": {},
     "output_type": "execute_result"
    }
   ],
   "source": [
    "df_original['source'].unique()"
   ]
  },
  {
   "cell_type": "code",
   "execution_count": 72,
   "id": "9974f0d9",
   "metadata": {
    "scrolled": true
   },
   "outputs": [
    {
     "data": {
      "text/html": [
       "<div>\n",
       "<style scoped>\n",
       "    .dataframe tbody tr th:only-of-type {\n",
       "        vertical-align: middle;\n",
       "    }\n",
       "\n",
       "    .dataframe tbody tr th {\n",
       "        vertical-align: top;\n",
       "    }\n",
       "\n",
       "    .dataframe thead th {\n",
       "        text-align: right;\n",
       "    }\n",
       "</style>\n",
       "<table border=\"1\" class=\"dataframe\">\n",
       "  <thead>\n",
       "    <tr style=\"text-align: right;\">\n",
       "      <th></th>\n",
       "      <th>Comment</th>\n",
       "      <th>Is_toxic</th>\n",
       "      <th>source</th>\n",
       "    </tr>\n",
       "  </thead>\n",
       "  <tbody>\n",
       "    <tr>\n",
       "      <th>0</th>\n",
       "      <td>Dla mnie faworytem do tytułu będzie Cracovia. ...</td>\n",
       "      <td>0</td>\n",
       "      <td>dataset_poleval</td>\n",
       "    </tr>\n",
       "    <tr>\n",
       "      <th>1</th>\n",
       "      <td>Brawo ty Daria kibic ma być na dobre i złe</td>\n",
       "      <td>0</td>\n",
       "      <td>dataset_poleval</td>\n",
       "    </tr>\n",
       "    <tr>\n",
       "      <th>2</th>\n",
       "      <td>Super, polski premier składa kwiaty na grobach...</td>\n",
       "      <td>0</td>\n",
       "      <td>dataset_poleval</td>\n",
       "    </tr>\n",
       "    <tr>\n",
       "      <th>3</th>\n",
       "      <td>Musi. Innej drogi nie mamy.</td>\n",
       "      <td>0</td>\n",
       "      <td>dataset_poleval</td>\n",
       "    </tr>\n",
       "    <tr>\n",
       "      <th>4</th>\n",
       "      <td>Odrzut natychmiastowy, kwaśna mina, mam problem</td>\n",
       "      <td>0</td>\n",
       "      <td>dataset_poleval</td>\n",
       "    </tr>\n",
       "  </tbody>\n",
       "</table>\n",
       "</div>"
      ],
      "text/plain": [
       "                                             Comment  Is_toxic  \\\n",
       "0  Dla mnie faworytem do tytułu będzie Cracovia. ...         0   \n",
       "1         Brawo ty Daria kibic ma być na dobre i złe         0   \n",
       "2  Super, polski premier składa kwiaty na grobach...         0   \n",
       "3                        Musi. Innej drogi nie mamy.         0   \n",
       "4    Odrzut natychmiastowy, kwaśna mina, mam problem         0   \n",
       "\n",
       "            source  \n",
       "0  dataset_poleval  \n",
       "1  dataset_poleval  \n",
       "2  dataset_poleval  \n",
       "3  dataset_poleval  \n",
       "4  dataset_poleval  "
      ]
     },
     "execution_count": 72,
     "metadata": {},
     "output_type": "execute_result"
    }
   ],
   "source": [
    "# Wybieram na razie tylko jeden dataset, najmniej skomplikowany\n",
    "#df = df[df['source'] == 'dataset_poleval']\n",
    "df.head()"
   ]
  },
  {
   "cell_type": "markdown",
   "id": "598878a5",
   "metadata": {},
   "source": [
    "##### Cleaning"
   ]
  },
  {
   "cell_type": "code",
   "execution_count": 73,
   "id": "f8a5fba0",
   "metadata": {
    "scrolled": true
   },
   "outputs": [
    {
     "data": {
      "text/html": [
       "<div>\n",
       "<style scoped>\n",
       "    .dataframe tbody tr th:only-of-type {\n",
       "        vertical-align: middle;\n",
       "    }\n",
       "\n",
       "    .dataframe tbody tr th {\n",
       "        vertical-align: top;\n",
       "    }\n",
       "\n",
       "    .dataframe thead th {\n",
       "        text-align: right;\n",
       "    }\n",
       "</style>\n",
       "<table border=\"1\" class=\"dataframe\">\n",
       "  <thead>\n",
       "    <tr style=\"text-align: right;\">\n",
       "      <th></th>\n",
       "      <th>Comment</th>\n",
       "      <th>Is_toxic</th>\n",
       "      <th>source</th>\n",
       "      <th>Clean_comment</th>\n",
       "    </tr>\n",
       "  </thead>\n",
       "  <tbody>\n",
       "    <tr>\n",
       "      <th>0</th>\n",
       "      <td>Dla mnie faworytem do tytułu będzie Cracovia. ...</td>\n",
       "      <td>0</td>\n",
       "      <td>dataset_poleval</td>\n",
       "      <td>dla mnie faworytem do tytułu będzie cracovia z...</td>\n",
       "    </tr>\n",
       "    <tr>\n",
       "      <th>1</th>\n",
       "      <td>Brawo ty Daria kibic ma być na dobre i złe</td>\n",
       "      <td>0</td>\n",
       "      <td>dataset_poleval</td>\n",
       "      <td>brawo ty daria kibic ma być na dobre i złe</td>\n",
       "    </tr>\n",
       "    <tr>\n",
       "      <th>2</th>\n",
       "      <td>Super, polski premier składa kwiaty na grobach...</td>\n",
       "      <td>0</td>\n",
       "      <td>dataset_poleval</td>\n",
       "      <td>super polski premier składa kwiaty na grobach ...</td>\n",
       "    </tr>\n",
       "    <tr>\n",
       "      <th>3</th>\n",
       "      <td>Musi. Innej drogi nie mamy.</td>\n",
       "      <td>0</td>\n",
       "      <td>dataset_poleval</td>\n",
       "      <td>musi innej drogi nie mamy</td>\n",
       "    </tr>\n",
       "    <tr>\n",
       "      <th>4</th>\n",
       "      <td>Odrzut natychmiastowy, kwaśna mina, mam problem</td>\n",
       "      <td>0</td>\n",
       "      <td>dataset_poleval</td>\n",
       "      <td>odrzut natychmiastowy kwaśna mina mam problem</td>\n",
       "    </tr>\n",
       "  </tbody>\n",
       "</table>\n",
       "</div>"
      ],
      "text/plain": [
       "                                             Comment  Is_toxic  \\\n",
       "0  Dla mnie faworytem do tytułu będzie Cracovia. ...         0   \n",
       "1         Brawo ty Daria kibic ma być na dobre i złe         0   \n",
       "2  Super, polski premier składa kwiaty na grobach...         0   \n",
       "3                        Musi. Innej drogi nie mamy.         0   \n",
       "4    Odrzut natychmiastowy, kwaśna mina, mam problem         0   \n",
       "\n",
       "            source                                      Clean_comment  \n",
       "0  dataset_poleval  dla mnie faworytem do tytułu będzie cracovia z...  \n",
       "1  dataset_poleval         brawo ty daria kibic ma być na dobre i złe  \n",
       "2  dataset_poleval  super polski premier składa kwiaty na grobach ...  \n",
       "3  dataset_poleval                          musi innej drogi nie mamy  \n",
       "4  dataset_poleval      odrzut natychmiastowy kwaśna mina mam problem  "
      ]
     },
     "execution_count": 73,
     "metadata": {},
     "output_type": "execute_result"
    }
   ],
   "source": [
    "# re.sub() Replaces one or many matches with a string\n",
    "# \\w characters from a to Z, digits from 0-9, and the underscore _ character\n",
    "# \\s whitespace\n",
    "# replace with empty string (delete) any character that is not: whitespace, a number, a character a-z or underscore\n",
    "df['Clean_comment'] = df['Comment'].str.lower().apply(lambda row: re.sub(r'[^\\w\\s]', '', row))\n",
    "df.head()"
   ]
  },
  {
   "cell_type": "markdown",
   "id": "6defbe0b",
   "metadata": {},
   "source": [
    "###### Lematyzacja"
   ]
  },
  {
   "cell_type": "code",
   "execution_count": 74,
   "id": "b7bc8975",
   "metadata": {},
   "outputs": [],
   "source": [
    "nlp = spacy.load('pl_core_news_sm')  # more precise - pl_core_news_lg / less precise & quick pl_core_news_sm"
   ]
  },
  {
   "cell_type": "code",
   "execution_count": 75,
   "id": "ea4371ce",
   "metadata": {},
   "outputs": [],
   "source": [
    "def lemmatize_text(text):\n",
    "    doc = nlp(text)\n",
    "    return ' '.join([token.lemma_ for token in doc])\n",
    "\n",
    "df['Final_comment'] = df['Clean_comment'].apply(lemmatize_text)"
   ]
  },
  {
   "cell_type": "code",
   "execution_count": 76,
   "id": "f327607f",
   "metadata": {
    "scrolled": true
   },
   "outputs": [
    {
     "data": {
      "text/html": [
       "<div>\n",
       "<style scoped>\n",
       "    .dataframe tbody tr th:only-of-type {\n",
       "        vertical-align: middle;\n",
       "    }\n",
       "\n",
       "    .dataframe tbody tr th {\n",
       "        vertical-align: top;\n",
       "    }\n",
       "\n",
       "    .dataframe thead th {\n",
       "        text-align: right;\n",
       "    }\n",
       "</style>\n",
       "<table border=\"1\" class=\"dataframe\">\n",
       "  <thead>\n",
       "    <tr style=\"text-align: right;\">\n",
       "      <th></th>\n",
       "      <th>Comment</th>\n",
       "      <th>Is_toxic</th>\n",
       "      <th>source</th>\n",
       "      <th>Clean_comment</th>\n",
       "      <th>Final_comment</th>\n",
       "    </tr>\n",
       "  </thead>\n",
       "  <tbody>\n",
       "    <tr>\n",
       "      <th>0</th>\n",
       "      <td>Dla mnie faworytem do tytułu będzie Cracovia. ...</td>\n",
       "      <td>0</td>\n",
       "      <td>dataset_poleval</td>\n",
       "      <td>dla mnie faworytem do tytułu będzie cracovia z...</td>\n",
       "      <td>dla ja faworyt do tytuł być cracovia zobaczyć ...</td>\n",
       "    </tr>\n",
       "    <tr>\n",
       "      <th>1</th>\n",
       "      <td>Brawo ty Daria kibic ma być na dobre i złe</td>\n",
       "      <td>0</td>\n",
       "      <td>dataset_poleval</td>\n",
       "      <td>brawo ty daria kibic ma być na dobre i złe</td>\n",
       "      <td>brawo ty Daria kibic mieć być na dobry i zły</td>\n",
       "    </tr>\n",
       "    <tr>\n",
       "      <th>2</th>\n",
       "      <td>Super, polski premier składa kwiaty na grobach...</td>\n",
       "      <td>0</td>\n",
       "      <td>dataset_poleval</td>\n",
       "      <td>super polski premier składa kwiaty na grobach ...</td>\n",
       "      <td>super polski premier składać kwiat na groba ko...</td>\n",
       "    </tr>\n",
       "    <tr>\n",
       "      <th>3</th>\n",
       "      <td>Musi. Innej drogi nie mamy.</td>\n",
       "      <td>0</td>\n",
       "      <td>dataset_poleval</td>\n",
       "      <td>musi innej drogi nie mamy</td>\n",
       "      <td>musieć inny droga nie mieć</td>\n",
       "    </tr>\n",
       "    <tr>\n",
       "      <th>4</th>\n",
       "      <td>Odrzut natychmiastowy, kwaśna mina, mam problem</td>\n",
       "      <td>0</td>\n",
       "      <td>dataset_poleval</td>\n",
       "      <td>odrzut natychmiastowy kwaśna mina mam problem</td>\n",
       "      <td>odrzut natychmiastowy kwaśna mina mieć problem</td>\n",
       "    </tr>\n",
       "  </tbody>\n",
       "</table>\n",
       "</div>"
      ],
      "text/plain": [
       "                                             Comment  Is_toxic  \\\n",
       "0  Dla mnie faworytem do tytułu będzie Cracovia. ...         0   \n",
       "1         Brawo ty Daria kibic ma być na dobre i złe         0   \n",
       "2  Super, polski premier składa kwiaty na grobach...         0   \n",
       "3                        Musi. Innej drogi nie mamy.         0   \n",
       "4    Odrzut natychmiastowy, kwaśna mina, mam problem         0   \n",
       "\n",
       "            source                                      Clean_comment  \\\n",
       "0  dataset_poleval  dla mnie faworytem do tytułu będzie cracovia z...   \n",
       "1  dataset_poleval         brawo ty daria kibic ma być na dobre i złe   \n",
       "2  dataset_poleval  super polski premier składa kwiaty na grobach ...   \n",
       "3  dataset_poleval                          musi innej drogi nie mamy   \n",
       "4  dataset_poleval      odrzut natychmiastowy kwaśna mina mam problem   \n",
       "\n",
       "                                       Final_comment  \n",
       "0  dla ja faworyt do tytuł być cracovia zobaczyć ...  \n",
       "1       brawo ty Daria kibic mieć być na dobry i zły  \n",
       "2  super polski premier składać kwiat na groba ko...  \n",
       "3                         musieć inny droga nie mieć  \n",
       "4     odrzut natychmiastowy kwaśna mina mieć problem  "
      ]
     },
     "execution_count": 76,
     "metadata": {},
     "output_type": "execute_result"
    }
   ],
   "source": [
    "df.head(5)"
   ]
  },
  {
   "cell_type": "markdown",
   "id": "135f109f",
   "metadata": {},
   "source": [
    "##### Stop words - Polish"
   ]
  },
  {
   "cell_type": "code",
   "execution_count": 77,
   "id": "1174defb",
   "metadata": {},
   "outputs": [],
   "source": [
    "with open(r'C:\\Users\\Chill\\Desktop\\INZYNIERKA\\dane\\polish_stopwords.txt', 'r', encoding='utf-8') as file:\n",
    "    polish_stop_words = [row.strip() for row in file]"
   ]
  },
  {
   "cell_type": "markdown",
   "id": "8883c7cc",
   "metadata": {},
   "source": [
    "##### Tokenization & Vectorization"
   ]
  },
  {
   "cell_type": "markdown",
   "id": "b14ac4b8",
   "metadata": {},
   "source": [
    "### Function - Vectorizer"
   ]
  },
  {
   "cell_type": "code",
   "execution_count": 78,
   "id": "2c781757",
   "metadata": {},
   "outputs": [],
   "source": [
    "def Vectorize(method = 'Bag of Words', stop_words = None):\n",
    "    if method == 'Bag of Words':\n",
    "        vectorizer = CountVectorizer(lowercase=True, stop_words=polish_stop_words) # TODO parametry\n",
    "    elif method =='TF-IDF':\n",
    "        vectorizer = TfidfVectorizer(lowercase=True, stop_words=polish_stop_words) # TODO parametry\n",
    "    else:\n",
    "        raise ValueError(\"Method not found\")\n",
    "    return vectorizer"
   ]
  },
  {
   "cell_type": "markdown",
   "id": "7c55f1f2",
   "metadata": {},
   "source": [
    "### Function - make_predictions"
   ]
  },
  {
   "cell_type": "code",
   "execution_count": 79,
   "id": "3ea5baf9",
   "metadata": {},
   "outputs": [],
   "source": [
    "def make_predictions(data, comments_col = 'Final_comment', target_col = 'Is_toxic', vectoraizer_name = 'Bag of Words', \n",
    "                     model_name = 'Logistic Regression', stop_words = None, test_size = 0.2, n_splits=5):\n",
    "    \n",
    "    vectorizer = Vectorize(method = vectoraizer_name, stop_words = stop_words)\n",
    "    X = vectorizer.fit_transform(data[comments_col])\n",
    "    # Split data to training and testing set\n",
    "    X_train, X_test, y_train, y_test = train_test_split(X, data[target_col], test_size=test_size, random_state=42)\n",
    "    \n",
    "    # MODEL\n",
    "    # Logistic regression\n",
    "    if model_name == 'Logistic Regression':\n",
    "        model = LogisticRegression()\n",
    "    # SVM\n",
    "    elif model_name == 'SVM':\n",
    "        model = SVC()\n",
    "    else:\n",
    "        raise ValueError('Wrong model_name')\n",
    "    \n",
    "    # cross fold validation\n",
    "    cv_scores = cross_val_score(model, X_train, y_train, cv=n_splits)    \n",
    "    \n",
    "    # TRAIN MODEL\n",
    "    model.fit(X_train, y_train)\n",
    "    # PREDICT\n",
    "    predictions = model.predict(X_test)\n",
    "    \n",
    "    return y_test, predictions, cv_scores"
   ]
  },
  {
   "cell_type": "markdown",
   "id": "0f29b452",
   "metadata": {},
   "source": [
    "### Function - Visualize results"
   ]
  },
  {
   "cell_type": "code",
   "execution_count": 80,
   "id": "259bf511",
   "metadata": {},
   "outputs": [],
   "source": [
    "def visualize_results(y_test,predictions, cv_scores, model_name: str, vectorizer_name: str):\n",
    "    cm = confusion_matrix(y_test, predictions)\n",
    "    cm_display = ConfusionMatrixDisplay(confusion_matrix = cm)\n",
    "    print(f\"MODEL - {model_name.upper()}\")\n",
    "    print(f\"VECTORIZER - {vectorizer_name.upper()}\")\n",
    "    print(\"Dokładność: {}%\".format(np.round(accuracy_score(y_test, predictions)*100,2)))\n",
    "    print(f\"Średnia dokładność z walidacji krzyżowej: {cv_scores.mean():.2f} (+/- {cv_scores.std() * 2:.2f})\")\n",
    "    print(\"Raport klasyfikacji:\\n\", classification_report(y_test, predictions))\n",
    "    cm_display.plot(cmap=plt.cm.Greens)\n",
    "    plt.show()\n",
    "    print(\"\\n--------------------------------------------------------\\n\")"
   ]
  },
  {
   "cell_type": "code",
   "execution_count": 81,
   "id": "44292564",
   "metadata": {},
   "outputs": [
    {
     "name": "stderr",
     "output_type": "stream",
     "text": [
      "C:\\ProgramData\\Anaconda3\\lib\\site-packages\\sklearn\\linear_model\\_logistic.py:444: ConvergenceWarning: lbfgs failed to converge (status=1):\n",
      "STOP: TOTAL NO. of ITERATIONS REACHED LIMIT.\n",
      "\n",
      "Increase the number of iterations (max_iter) or scale the data as shown in:\n",
      "    https://scikit-learn.org/stable/modules/preprocessing.html\n",
      "Please also refer to the documentation for alternative solver options:\n",
      "    https://scikit-learn.org/stable/modules/linear_model.html#logistic-regression\n",
      "  n_iter_i = _check_optimize_result(\n",
      "C:\\ProgramData\\Anaconda3\\lib\\site-packages\\sklearn\\linear_model\\_logistic.py:444: ConvergenceWarning: lbfgs failed to converge (status=1):\n",
      "STOP: TOTAL NO. of ITERATIONS REACHED LIMIT.\n",
      "\n",
      "Increase the number of iterations (max_iter) or scale the data as shown in:\n",
      "    https://scikit-learn.org/stable/modules/preprocessing.html\n",
      "Please also refer to the documentation for alternative solver options:\n",
      "    https://scikit-learn.org/stable/modules/linear_model.html#logistic-regression\n",
      "  n_iter_i = _check_optimize_result(\n",
      "C:\\ProgramData\\Anaconda3\\lib\\site-packages\\sklearn\\linear_model\\_logistic.py:444: ConvergenceWarning: lbfgs failed to converge (status=1):\n",
      "STOP: TOTAL NO. of ITERATIONS REACHED LIMIT.\n",
      "\n",
      "Increase the number of iterations (max_iter) or scale the data as shown in:\n",
      "    https://scikit-learn.org/stable/modules/preprocessing.html\n",
      "Please also refer to the documentation for alternative solver options:\n",
      "    https://scikit-learn.org/stable/modules/linear_model.html#logistic-regression\n",
      "  n_iter_i = _check_optimize_result(\n",
      "C:\\ProgramData\\Anaconda3\\lib\\site-packages\\sklearn\\linear_model\\_logistic.py:444: ConvergenceWarning: lbfgs failed to converge (status=1):\n",
      "STOP: TOTAL NO. of ITERATIONS REACHED LIMIT.\n",
      "\n",
      "Increase the number of iterations (max_iter) or scale the data as shown in:\n",
      "    https://scikit-learn.org/stable/modules/preprocessing.html\n",
      "Please also refer to the documentation for alternative solver options:\n",
      "    https://scikit-learn.org/stable/modules/linear_model.html#logistic-regression\n",
      "  n_iter_i = _check_optimize_result(\n",
      "C:\\ProgramData\\Anaconda3\\lib\\site-packages\\sklearn\\linear_model\\_logistic.py:444: ConvergenceWarning: lbfgs failed to converge (status=1):\n",
      "STOP: TOTAL NO. of ITERATIONS REACHED LIMIT.\n",
      "\n",
      "Increase the number of iterations (max_iter) or scale the data as shown in:\n",
      "    https://scikit-learn.org/stable/modules/preprocessing.html\n",
      "Please also refer to the documentation for alternative solver options:\n",
      "    https://scikit-learn.org/stable/modules/linear_model.html#logistic-regression\n",
      "  n_iter_i = _check_optimize_result(\n",
      "C:\\ProgramData\\Anaconda3\\lib\\site-packages\\sklearn\\linear_model\\_logistic.py:444: ConvergenceWarning: lbfgs failed to converge (status=1):\n",
      "STOP: TOTAL NO. of ITERATIONS REACHED LIMIT.\n",
      "\n",
      "Increase the number of iterations (max_iter) or scale the data as shown in:\n",
      "    https://scikit-learn.org/stable/modules/preprocessing.html\n",
      "Please also refer to the documentation for alternative solver options:\n",
      "    https://scikit-learn.org/stable/modules/linear_model.html#logistic-regression\n",
      "  n_iter_i = _check_optimize_result(\n"
     ]
    }
   ],
   "source": [
    "# BoW\n",
    "logReg_pred = make_predictions(data = df,\n",
    "                            comments_col = 'Final_comment',\n",
    "                            target_col  = 'Is_toxic',\n",
    "                            vectoraizer_name = 'Bag of Words',\n",
    "                            model_name = 'Logistic Regression',\n",
    "                            stop_words = polish_stop_words,\n",
    "                            test_size = 0.2)\n",
    "\n",
    "svm_pred = make_predictions(data = df,\n",
    "                            comments_col = 'Final_comment',\n",
    "                            target_col  = 'Is_toxic',\n",
    "                            vectoraizer_name = 'Bag of Words',\n",
    "                            model_name = 'SVM',\n",
    "                            stop_words = polish_stop_words,\n",
    "                            test_size = 0.2)\n",
    "\n",
    "# TF-IDF\n",
    "logReg_pred_idf = make_predictions(data = df,\n",
    "                            comments_col = 'Final_comment',\n",
    "                            target_col  = 'Is_toxic',\n",
    "                            vectoraizer_name = 'TF-IDF',\n",
    "                            model_name = 'Logistic Regression',\n",
    "                            stop_words = polish_stop_words,\n",
    "                            test_size = 0.2)\n",
    "\n",
    "svm_pred_idf = make_predictions(data = df,\n",
    "                            comments_col = 'Final_comment',\n",
    "                            target_col  = 'Is_toxic',\n",
    "                            vectoraizer_name = 'TF-IDF',\n",
    "                            model_name = 'SVM',\n",
    "                            stop_words = polish_stop_words,\n",
    "                            test_size = 0.2)\n"
   ]
  },
  {
   "cell_type": "code",
   "execution_count": 82,
   "id": "445fd474",
   "metadata": {
    "scrolled": false
   },
   "outputs": [
    {
     "name": "stdout",
     "output_type": "stream",
     "text": [
      "MODEL - LOGISITIC REGRESSION\n",
      "VECTORIZER - BAG OF WORDS\n",
      "Dokładność: 86.48%\n",
      "Średnia dokładność z walidacji krzyżowej: 0.86 (+/- 0.01)\n",
      "Raport klasyfikacji:\n",
      "               precision    recall  f1-score   support\n",
      "\n",
      "           0       0.86      0.93      0.89      4475\n",
      "           1       0.88      0.78      0.82      3097\n",
      "\n",
      "    accuracy                           0.86      7572\n",
      "   macro avg       0.87      0.85      0.86      7572\n",
      "weighted avg       0.87      0.86      0.86      7572\n",
      "\n"
     ]
    },
    {
     "data": {
      "image/png": "[encoded data removed]",
      "text/plain": [
       "<Figure size 432x288 with 2 Axes>"
      ]
     },
     "metadata": {
      "needs_background": "light"
     },
     "output_type": "display_data"
    },
    {
     "name": "stdout",
     "output_type": "stream",
     "text": [
      "\n",
      "--------------------------------------------------------\n",
      "\n",
      "MODEL - SVM\n",
      "VECTORIZER - BAG OF WORDS\n",
      "Dokładność: 83.37%\n",
      "Średnia dokładność z walidacji krzyżowej: 0.82 (+/- 0.01)\n",
      "Raport klasyfikacji:\n",
      "               precision    recall  f1-score   support\n",
      "\n",
      "           0       0.81      0.94      0.87      4475\n",
      "           1       0.89      0.67      0.77      3097\n",
      "\n",
      "    accuracy                           0.83      7572\n",
      "   macro avg       0.85      0.81      0.82      7572\n",
      "weighted avg       0.84      0.83      0.83      7572\n",
      "\n"
     ]
    },
    {
     "data": {
      "image/png": "[encoded data removed]",
      "text/plain": [
       "<Figure size 432x288 with 2 Axes>"
      ]
     },
     "metadata": {
      "needs_background": "light"
     },
     "output_type": "display_data"
    },
    {
     "name": "stdout",
     "output_type": "stream",
     "text": [
      "\n",
      "--------------------------------------------------------\n",
      "\n",
      "MODEL - LOGISITIC REGRESSION\n",
      "VECTORIZER - TF-IDF\n",
      "Dokładność: 84.81%\n",
      "Średnia dokładność z walidacji krzyżowej: 0.84 (+/- 0.01)\n",
      "Raport klasyfikacji:\n",
      "               precision    recall  f1-score   support\n",
      "\n",
      "           0       0.83      0.94      0.88      4475\n",
      "           1       0.90      0.71      0.79      3097\n",
      "\n",
      "    accuracy                           0.85      7572\n",
      "   macro avg       0.86      0.83      0.84      7572\n",
      "weighted avg       0.85      0.85      0.84      7572\n",
      "\n"
     ]
    },
    {
     "data": {
      "image/png": "[encoded data removed]",
      "text/plain": [
       "<Figure size 432x288 with 2 Axes>"
      ]
     },
     "metadata": {
      "needs_background": "light"
     },
     "output_type": "display_data"
    },
    {
     "name": "stdout",
     "output_type": "stream",
     "text": [
      "\n",
      "--------------------------------------------------------\n",
      "\n",
      "MODEL - SVM\n",
      "VECTORIZER - TF-IDF\n",
      "Dokładność: 86.29%\n",
      "Średnia dokładność z walidacji krzyżowej: 0.85 (+/- 0.01)\n",
      "Raport klasyfikacji:\n",
      "               precision    recall  f1-score   support\n",
      "\n",
      "           0       0.84      0.96      0.89      4475\n",
      "           1       0.92      0.73      0.81      3097\n",
      "\n",
      "    accuracy                           0.86      7572\n",
      "   macro avg       0.88      0.84      0.85      7572\n",
      "weighted avg       0.87      0.86      0.86      7572\n",
      "\n"
     ]
    },
    {
     "data": {
      "image/png": "[encoded data removed]",
      "text/plain": [
       "<Figure size 432x288 with 2 Axes>"
      ]
     },
     "metadata": {
      "needs_background": "light"
     },
     "output_type": "display_data"
    },
    {
     "name": "stdout",
     "output_type": "stream",
     "text": [
      "\n",
      "--------------------------------------------------------\n",
      "\n"
     ]
    }
   ],
   "source": [
    "visualize_results(y_test = logReg_pred[0],\n",
    "                 predictions = logReg_pred[1],\n",
    "                 cv_scores = logReg_pred[2],\n",
    "                 model_name = 'Logisitic Regression',\n",
    "                 vectorizer_name = 'Bag of Words')\n",
    "\n",
    "visualize_results(y_test = svm_pred[0],\n",
    "                 predictions = svm_pred[1],\n",
    "                 cv_scores = svm_pred[2],\n",
    "                 model_name = 'SVM',\n",
    "                 vectorizer_name = 'Bag of Words')\n",
    "\n",
    "visualize_results(y_test = logReg_pred_idf[0],\n",
    "                 predictions = logReg_pred_idf[1],\n",
    "                 cv_scores = logReg_pred_idf[2],\n",
    "                 model_name = 'Logisitic Regression',\n",
    "                 vectorizer_name = 'TF-IDF')\n",
    "\n",
    "visualize_results(y_test = svm_pred_idf[0],\n",
    "                 predictions = svm_pred_idf[1],\n",
    "                 cv_scores = svm_pred_idf[2],\n",
    "                 model_name = 'SVM',\n",
    "                 vectorizer_name = 'TF-IDF')"
   ]
  },
  {
   "cell_type": "code",
   "execution_count": 83,
   "id": "9cf62f3f",
   "metadata": {},
   "outputs": [],
   "source": [
    "df_added_pred = df.loc[list(logReg_pred[0].index)]"
   ]
  },
  {
   "cell_type": "code",
   "execution_count": 84,
   "id": "311288ed",
   "metadata": {},
   "outputs": [],
   "source": [
    "df_added_pred['prediction']=logReg_pred[1]"
   ]
  },
  {
   "cell_type": "code",
   "execution_count": 85,
   "id": "1bd7041e",
   "metadata": {},
   "outputs": [
    {
     "data": {
      "text/html": [
       "<div>\n",
       "<style scoped>\n",
       "    .dataframe tbody tr th:only-of-type {\n",
       "        vertical-align: middle;\n",
       "    }\n",
       "\n",
       "    .dataframe tbody tr th {\n",
       "        vertical-align: top;\n",
       "    }\n",
       "\n",
       "    .dataframe thead th {\n",
       "        text-align: right;\n",
       "    }\n",
       "</style>\n",
       "<table border=\"1\" class=\"dataframe\">\n",
       "  <thead>\n",
       "    <tr style=\"text-align: right;\">\n",
       "      <th></th>\n",
       "      <th>Comment</th>\n",
       "      <th>Is_toxic</th>\n",
       "      <th>source</th>\n",
       "      <th>Clean_comment</th>\n",
       "      <th>Final_comment</th>\n",
       "      <th>prediction</th>\n",
       "    </tr>\n",
       "  </thead>\n",
       "  <tbody>\n",
       "    <tr>\n",
       "      <th>7947</th>\n",
       "      <td>Nie ucztowoć przy jednym stole z władzą, ty ni...</td>\n",
       "      <td>1</td>\n",
       "      <td>dataset_poleval</td>\n",
       "      <td>nie ucztowoć przy jednym stole z władzą ty nie...</td>\n",
       "      <td>nie ucztowoć przy jeden stół z władza ty nie d...</td>\n",
       "      <td>0</td>\n",
       "    </tr>\n",
       "    <tr>\n",
       "      <th>15509</th>\n",
       "      <td>popełnił najgorszą zbrodnię w tym kraju: skry...</td>\n",
       "      <td>0</td>\n",
       "      <td>dataset_wykop</td>\n",
       "      <td>popełnił najgorszą zbrodnię w tym kraju skryt...</td>\n",
       "      <td>popełnić najgorszą zbrodnia w ten kraj skryt...</td>\n",
       "      <td>1</td>\n",
       "    </tr>\n",
       "    <tr>\n",
       "      <th>14625</th>\n",
       "      <td>\\n\\no właśnie, zapomniałem. To irytowało mnie ...</td>\n",
       "      <td>0</td>\n",
       "      <td>dataset_wykop</td>\n",
       "      <td>\\n\\no właśnie zapomniałem to irytowało mnie je...</td>\n",
       "      <td>\\n\\n o właśnie zapomnieć być to irytoweć ja je...</td>\n",
       "      <td>1</td>\n",
       "    </tr>\n",
       "    <tr>\n",
       "      <th>6456</th>\n",
       "      <td>Śwaietowanie, radość i okrzyki \\\"raz sierpiem ...</td>\n",
       "      <td>0</td>\n",
       "      <td>dataset_poleval</td>\n",
       "      <td>śwaietowanie radość i okrzyki raz sierpiem raz...</td>\n",
       "      <td>śwaietowanąć radość i okrzyk raz sierpiem raz ...</td>\n",
       "      <td>1</td>\n",
       "    </tr>\n",
       "    <tr>\n",
       "      <th>28774</th>\n",
       "      <td>To niezła moda żeby siedzieć na serwisie z por...</td>\n",
       "      <td>1</td>\n",
       "      <td>dataset_wykop</td>\n",
       "      <td>to niezła moda żeby siedzieć na serwisie z por...</td>\n",
       "      <td>to niezła moda żeby siedzieć na serwis z porno...</td>\n",
       "      <td>0</td>\n",
       "    </tr>\n",
       "    <tr>\n",
       "      <th>...</th>\n",
       "      <td>...</td>\n",
       "      <td>...</td>\n",
       "      <td>...</td>\n",
       "      <td>...</td>\n",
       "      <td>...</td>\n",
       "      <td>...</td>\n",
       "    </tr>\n",
       "    <tr>\n",
       "      <th>33920</th>\n",
       "      <td>Bo nie ma podstawowych środków ochrony osobis...</td>\n",
       "      <td>1</td>\n",
       "      <td>dataset_wykop</td>\n",
       "      <td>bo nie ma podstawowych środków ochrony osobis...</td>\n",
       "      <td>bo nie mieć podstawowy środek ochrona osobis...</td>\n",
       "      <td>0</td>\n",
       "    </tr>\n",
       "    <tr>\n",
       "      <th>12865</th>\n",
       "      <td>Widok kamer monitoringu w tym miejscu bardzo m...</td>\n",
       "      <td>0</td>\n",
       "      <td>dataset_zwroty</td>\n",
       "      <td>widok kamer monitoringu w tym miejscu bardzo m...</td>\n",
       "      <td>widok kamera monitoring w ten miejsce bardzo j...</td>\n",
       "      <td>1</td>\n",
       "    </tr>\n",
       "    <tr>\n",
       "      <th>28196</th>\n",
       "      <td>Macie w tej chwili odblokować  - a sukinsyny  ...</td>\n",
       "      <td>1</td>\n",
       "      <td>dataset_wykop</td>\n",
       "      <td>macie w tej chwili odblokować   a sukinsyny  p...</td>\n",
       "      <td>mieć w ten chwila odblokować    a sukinsyny   ...</td>\n",
       "      <td>0</td>\n",
       "    </tr>\n",
       "    <tr>\n",
       "      <th>31487</th>\n",
       "      <td>Wszyscy, którzy brali udział w akcji ratowania...</td>\n",
       "      <td>1</td>\n",
       "      <td>dataset_wykop</td>\n",
       "      <td>wszyscy którzy brali udział w akcji ratowania ...</td>\n",
       "      <td>wszystek który brać udział w akcja ratować zat...</td>\n",
       "      <td>0</td>\n",
       "    </tr>\n",
       "    <tr>\n",
       "      <th>36023</th>\n",
       "      <td>Problem polega na tym, że takie anonimowe typk...</td>\n",
       "      <td>1</td>\n",
       "      <td>dataset_wykop</td>\n",
       "      <td>problem polega na tym że takie anonimowe typki...</td>\n",
       "      <td>problem polegać na to że taki anonimowy typka ...</td>\n",
       "      <td>0</td>\n",
       "    </tr>\n",
       "  </tbody>\n",
       "</table>\n",
       "<p>1024 rows × 6 columns</p>\n",
       "</div>"
      ],
      "text/plain": [
       "                                                 Comment  Is_toxic  \\\n",
       "7947   Nie ucztowoć przy jednym stole z władzą, ty ni...         1   \n",
       "15509   popełnił najgorszą zbrodnię w tym kraju: skry...         0   \n",
       "14625  \\n\\no właśnie, zapomniałem. To irytowało mnie ...         0   \n",
       "6456   Śwaietowanie, radość i okrzyki \\\"raz sierpiem ...         0   \n",
       "28774  To niezła moda żeby siedzieć na serwisie z por...         1   \n",
       "...                                                  ...       ...   \n",
       "33920   Bo nie ma podstawowych środków ochrony osobis...         1   \n",
       "12865  Widok kamer monitoringu w tym miejscu bardzo m...         0   \n",
       "28196  Macie w tej chwili odblokować  - a sukinsyny  ...         1   \n",
       "31487  Wszyscy, którzy brali udział w akcji ratowania...         1   \n",
       "36023  Problem polega na tym, że takie anonimowe typk...         1   \n",
       "\n",
       "                source                                      Clean_comment  \\\n",
       "7947   dataset_poleval  nie ucztowoć przy jednym stole z władzą ty nie...   \n",
       "15509    dataset_wykop   popełnił najgorszą zbrodnię w tym kraju skryt...   \n",
       "14625    dataset_wykop  \\n\\no właśnie zapomniałem to irytowało mnie je...   \n",
       "6456   dataset_poleval  śwaietowanie radość i okrzyki raz sierpiem raz...   \n",
       "28774    dataset_wykop  to niezła moda żeby siedzieć na serwisie z por...   \n",
       "...                ...                                                ...   \n",
       "33920    dataset_wykop   bo nie ma podstawowych środków ochrony osobis...   \n",
       "12865   dataset_zwroty  widok kamer monitoringu w tym miejscu bardzo m...   \n",
       "28196    dataset_wykop  macie w tej chwili odblokować   a sukinsyny  p...   \n",
       "31487    dataset_wykop  wszyscy którzy brali udział w akcji ratowania ...   \n",
       "36023    dataset_wykop  problem polega na tym że takie anonimowe typki...   \n",
       "\n",
       "                                           Final_comment  prediction  \n",
       "7947   nie ucztowoć przy jeden stół z władza ty nie d...           0  \n",
       "15509    popełnić najgorszą zbrodnia w ten kraj skryt...           1  \n",
       "14625  \\n\\n o właśnie zapomnieć być to irytoweć ja je...           1  \n",
       "6456   śwaietowanąć radość i okrzyk raz sierpiem raz ...           1  \n",
       "28774  to niezła moda żeby siedzieć na serwis z porno...           0  \n",
       "...                                                  ...         ...  \n",
       "33920    bo nie mieć podstawowy środek ochrona osobis...           0  \n",
       "12865  widok kamera monitoring w ten miejsce bardzo j...           1  \n",
       "28196  mieć w ten chwila odblokować    a sukinsyny   ...           0  \n",
       "31487  wszystek który brać udział w akcja ratować zat...           0  \n",
       "36023  problem polegać na to że taki anonimowy typka ...           0  \n",
       "\n",
       "[1024 rows x 6 columns]"
      ]
     },
     "execution_count": 85,
     "metadata": {},
     "output_type": "execute_result"
    }
   ],
   "source": [
    "df_added_pred[df_added_pred['Is_toxic']!=df_added_pred['prediction']]"
   ]
  },
  {
   "cell_type": "code",
   "execution_count": null,
   "id": "891b33c6",
   "metadata": {},
   "outputs": [],
   "source": []
  },
  {
   "cell_type": "code",
   "execution_count": null,
   "id": "1b59168e",
   "metadata": {},
   "outputs": [],
   "source": []
  },
  {
   "cell_type": "code",
   "execution_count": null,
   "id": "6b6e82b6",
   "metadata": {},
   "outputs": [],
   "source": []
  },
  {
   "cell_type": "code",
   "execution_count": null,
   "id": "58df7669",
   "metadata": {},
   "outputs": [],
   "source": []
  }
 ],
 "metadata": {
  "kernelspec": {
   "display_name": "Python 3",
   "language": "python",
   "name": "python3"
  },
  "language_info": {
   "codemirror_mode": {
    "name": "ipython",
    "version": 3
   },
   "file_extension": ".py",
   "mimetype": "text/x-python",
   "name": "python",
   "nbconvert_exporter": "python",
   "pygments_lexer": "ipython3",
   "version": "3.8.8"
  }
 },
 "nbformat": 4,
 "nbformat_minor": 5
}
