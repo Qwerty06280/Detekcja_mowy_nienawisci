{
 "cells": [
  {
   "cell_type": "markdown",
   "id": "9169d17a",
   "metadata": {},
   "source": [
    "# The whole process:"
   ]
  },
  {
   "cell_type": "code",
   "execution_count": 53,
   "id": "dbece695",
   "metadata": {},
   "outputs": [],
   "source": [
    "#import libraries\n",
    "\n",
    "#pip install google-api-python-client\n",
    "import os\n",
    "import pandas as pd\n",
    "from googleapiclient.discovery import build\n",
    "from typing import List\n",
    "from urllib.parse import urlparse, parse_qs"
   ]
  },
  {
   "cell_type": "code",
   "execution_count": 54,
   "id": "ba1dcfe6",
   "metadata": {},
   "outputs": [],
   "source": [
    "# ask the user to paste a link to any youtube video\n",
    "youtube_link = 'https://www.youtube.com/watch?v=v7CQkivQNQI'"
   ]
  },
  {
   "cell_type": "code",
   "execution_count": 55,
   "id": "b76d2e26",
   "metadata": {},
   "outputs": [],
   "source": [
    "# source:\n",
    "# https://stackoverflow.com/questions/45579306/get-youtube-video-url-or-youtube-video-id-from-a-string-using-regex\n",
    "def get_id(url):\n",
    "    # function that extracts youtube video ID from a complete link\n",
    "    u_pars = urlparse(url)\n",
    "    quer_v = parse_qs(u_pars.query).get('v')\n",
    "    if quer_v:\n",
    "        return quer_v[0].strip()\n",
    "    pth = u_pars.path.split('/')\n",
    "    if pth:\n",
    "        return pth[-1].strip()"
   ]
  },
  {
   "cell_type": "code",
   "execution_count": 56,
   "id": "6ea45f53",
   "metadata": {},
   "outputs": [],
   "source": [
    "# extract video_id\n",
    "video_id = get_id(youtube_link)"
   ]
  },
  {
   "cell_type": "code",
   "execution_count": 57,
   "id": "9abc9003",
   "metadata": {},
   "outputs": [],
   "source": [
    "# Get API key and connect to Youtube API\n",
    "yt_api_key = os.environ.get('YT_API_KEY')\n",
    "yt_connection = build('youtube', 'v3', developerKey = yt_api_key)"
   ]
  },
  {
   "cell_type": "code",
   "execution_count": 58,
   "id": "9397d328",
   "metadata": {},
   "outputs": [],
   "source": [
    "# based on:\n",
    "# https://www.geeksforgeeks.org/how-to-extract-youtube-comments-using-youtube-api-python/\n",
    "def video_comments(video_id: str, limit: int = 15000) -> List:\n",
    "    # function that extracts comments from a video\n",
    "    # empty list for storing replies\n",
    "    replies = []\n",
    "    all_replies = []\n",
    "    # creating youtube resource object\n",
    "    yt_connection = build('youtube', 'v3', developerKey = yt_api_key)\n",
    " \n",
    "    # retrieve youtube video results\n",
    "    video_response=yt_connection.commentThreads().list(\n",
    "        part='snippet,replies',\n",
    "        videoId=video_id,\n",
    "        maxResults = 100 # MAX 100\n",
    "        ).execute()\n",
    "    # iterate video response\n",
    "    while video_response:\n",
    "        # extracting required info\n",
    "        # from each result object\n",
    "        for item in video_response['items']:\n",
    "            # Extracting comments\n",
    "            comment = item['snippet']['topLevelComment']['snippet']['textDisplay']\n",
    "            all_replies.append(comment)\n",
    "            # counting number of reply of comment\n",
    "            replycount = item['snippet']['totalReplyCount']\n",
    " \n",
    "            # if reply is there\n",
    "            if replycount>0:\n",
    "               \n",
    "                # iterate through all reply\n",
    "                for reply in item['replies']['comments']:\n",
    "                   \n",
    "                    # Extract reply\n",
    "                    reply = reply['snippet']['textDisplay']\n",
    "                    \n",
    "                    # Store reply is list\n",
    "                    replies.append(reply)\n",
    "                    all_replies.append(reply)\n",
    " \n",
    "            # empty reply list\n",
    "            replies = []\n",
    "        if len(all_replies) > limit:\n",
    "            break\n",
    "         #Again repeat\n",
    "        if 'nextPageToken' in video_response:\n",
    "            video_response = yt_connection.commentThreads().list(\n",
    "                    part = 'snippet,replies',\n",
    "                    videoId = video_id,\n",
    "                    maxResults = 100,\n",
    "                    pageToken=video_response['nextPageToken']\n",
    "                    ).execute()\n",
    "        else:\n",
    "            break\n",
    "    return all_replies"
   ]
  },
  {
   "cell_type": "code",
   "execution_count": 59,
   "id": "4a7e96bb",
   "metadata": {},
   "outputs": [],
   "source": [
    "# Call function\n",
    "result = video_comments(video_id)"
   ]
  },
  {
   "cell_type": "code",
   "execution_count": 60,
   "id": "909f9e6e",
   "metadata": {},
   "outputs": [],
   "source": [
    "# get the title of the video\n",
    "response_title = yt_connection.videos().list(\n",
    "     part = 'snippet',\n",
    "     id = video_id\n",
    ").execute()\n",
    "\n",
    "video_title = response_title['items'][0]['snippet']['title']"
   ]
  },
  {
   "cell_type": "code",
   "execution_count": 61,
   "id": "521f00f0",
   "metadata": {},
   "outputs": [],
   "source": [
    "df_comments = pd.DataFrame({\"Comment\":result})"
   ]
  },
  {
   "cell_type": "code",
   "execution_count": 62,
   "id": "b406c0c0",
   "metadata": {},
   "outputs": [
    {
     "name": "stdout",
     "output_type": "stream",
     "text": [
      "Video title:\n",
      "Janusz Korwin-Mikke: Imigranci to zalew Europy śmieciem ludzkim, który nie chce pracować\n",
      "\n",
      "Number of comments that have been found: \n",
      "1223\n"
     ]
    }
   ],
   "source": [
    "print(\"Video title:\\n{}\\n\\nNumber of comments that have been found: \\n{}\".format(video_title,len(result)))"
   ]
  },
  {
   "cell_type": "code",
   "execution_count": 63,
   "id": "706986a4",
   "metadata": {},
   "outputs": [
    {
     "data": {
      "text/html": [
       "<div>\n",
       "<style scoped>\n",
       "    .dataframe tbody tr th:only-of-type {\n",
       "        vertical-align: middle;\n",
       "    }\n",
       "\n",
       "    .dataframe tbody tr th {\n",
       "        vertical-align: top;\n",
       "    }\n",
       "\n",
       "    .dataframe thead th {\n",
       "        text-align: right;\n",
       "    }\n",
       "</style>\n",
       "<table border=\"1\" class=\"dataframe\">\n",
       "  <thead>\n",
       "    <tr style=\"text-align: right;\">\n",
       "      <th></th>\n",
       "      <th>Comment</th>\n",
       "    </tr>\n",
       "  </thead>\n",
       "  <tbody>\n",
       "    <tr>\n",
       "      <th>1123</th>\n",
       "      <td>zaorane, lewactwo zniszczone :v</td>\n",
       "    </tr>\n",
       "    <tr>\n",
       "      <th>1124</th>\n",
       "      <td>I te miny po przemówieniu :D</td>\n",
       "    </tr>\n",
       "    <tr>\n",
       "      <th>1125</th>\n",
       "      <td>no ciezko sie nie zgodzic..</td>\n",
       "    </tr>\n",
       "    <tr>\n",
       "      <th>1126</th>\n",
       "      <td>Czy może ktoś przetłumaczyć co na końcu ta bab...</td>\n",
       "    </tr>\n",
       "    <tr>\n",
       "      <th>1127</th>\n",
       "      <td>+John Salomon ktos pisal wczesniej ze ta baba ...</td>\n",
       "    </tr>\n",
       "    <tr>\n",
       "      <th>...</th>\n",
       "      <td>...</td>\n",
       "    </tr>\n",
       "    <tr>\n",
       "      <th>1218</th>\n",
       "      <td>+jeje691 Po raz pierwszy od dawna usłyszała pr...</td>\n",
       "    </tr>\n",
       "    <tr>\n",
       "      <th>1219</th>\n",
       "      <td>+jeje691 Szok, mózg się jej uruchomił, walczy ...</td>\n",
       "    </tr>\n",
       "    <tr>\n",
       "      <th>1220</th>\n",
       "      <td>+jeje691 zastanawiam się czy to kobieta, mężcz...</td>\n",
       "    </tr>\n",
       "    <tr>\n",
       "      <th>1221</th>\n",
       "      <td>+jeje691 Dziwisz się? Tylko Pan Korwin ma jaja...</td>\n",
       "    </tr>\n",
       "    <tr>\n",
       "      <th>1222</th>\n",
       "      <td>Zaorane</td>\n",
       "    </tr>\n",
       "  </tbody>\n",
       "</table>\n",
       "<p>100 rows × 1 columns</p>\n",
       "</div>"
      ],
      "text/plain": [
       "                                                Comment\n",
       "1123                    zaorane, lewactwo zniszczone :v\n",
       "1124                       I te miny po przemówieniu :D\n",
       "1125                        no ciezko sie nie zgodzic..\n",
       "1126  Czy może ktoś przetłumaczyć co na końcu ta bab...\n",
       "1127  +John Salomon ktos pisal wczesniej ze ta baba ...\n",
       "...                                                 ...\n",
       "1218  +jeje691 Po raz pierwszy od dawna usłyszała pr...\n",
       "1219  +jeje691 Szok, mózg się jej uruchomił, walczy ...\n",
       "1220  +jeje691 zastanawiam się czy to kobieta, mężcz...\n",
       "1221  +jeje691 Dziwisz się? Tylko Pan Korwin ma jaja...\n",
       "1222                                            Zaorane\n",
       "\n",
       "[100 rows x 1 columns]"
      ]
     },
     "execution_count": 63,
     "metadata": {},
     "output_type": "execute_result"
    }
   ],
   "source": [
    "df_comments.tail(100)"
   ]
  },
  {
   "cell_type": "code",
   "execution_count": 64,
   "id": "c51aeb49",
   "metadata": {},
   "outputs": [
    {
     "name": "stdout",
     "output_type": "stream",
     "text": [
      "Today's date: 10_29\n"
     ]
    }
   ],
   "source": [
    "# #SAVE TO .xlsx FILE\n",
    "\n",
    "# from datetime import date\n",
    "\n",
    "# today = str(date.today())[5:].replace('-','_')\n",
    "# print(\"Today's date:\", today)\n",
    "# # dictionary of lists\n",
    "# comms = {f'Comments- video title:{video_title}, link:{youtube_link}':result} \n",
    "# df_save = pd.DataFrame(comms)\n",
    "# #path = r'C:\\Users\\Chill\\Desktop\\INZYNIERKA\\dane\\extracted_comments\\comms{}.xlsx'.format(today)\n",
    "# path = r'C:\\Users\\Chill\\Desktop\\INZYNIERKA\\dane\\extracted_comments\\imigranci_korwin.xlsx'.format(today)\n",
    "# # saving the dataframe\n",
    "# df_save.to_excel(path, index=False, header=True,encoding=\"utf-8\")"
   ]
  },
  {
   "cell_type": "code",
   "execution_count": null,
   "id": "66634796",
   "metadata": {},
   "outputs": [],
   "source": []
  }
 ],
 "metadata": {
  "kernelspec": {
   "display_name": "Python 3",
   "language": "python",
   "name": "python3"
  },
  "language_info": {
   "codemirror_mode": {
    "name": "ipython",
    "version": 3
   },
   "file_extension": ".py",
   "mimetype": "text/x-python",
   "name": "python",
   "nbconvert_exporter": "python",
   "pygments_lexer": "ipython3",
   "version": "3.8.8"
  }
 },
 "nbformat": 4,
 "nbformat_minor": 5
}
