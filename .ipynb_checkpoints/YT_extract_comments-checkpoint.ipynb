{
 "cells": [
  {
   "cell_type": "markdown",
   "id": "fc0af2e5",
   "metadata": {},
   "source": [
    "# The whole process:"
   ]
  },
  {
   "cell_type": "code",
   "execution_count": 46,
   "id": "e9fa4973",
   "metadata": {},
   "outputs": [],
   "source": [
    "#import libraries\n",
    "\n",
    "#pip install google-api-python-client\n",
    "import os\n",
    "import pandas as pd\n",
    "from googleapiclient.discovery import build\n",
    "from typing import List\n",
    "from urllib.parse import urlparse, parse_qs"
   ]
  },
  {
   "cell_type": "code",
   "execution_count": 47,
   "id": "36e16146",
   "metadata": {},
   "outputs": [],
   "source": [
    "# ask the user to paste a link to any youtube video\n",
    "youtube_link = 'https://www.youtube.com/watch?v=IzxoRIKCpFc'"
   ]
  },
  {
   "cell_type": "code",
   "execution_count": 48,
   "id": "afba2b5f",
   "metadata": {},
   "outputs": [],
   "source": [
    "# source:\n",
    "# https://stackoverflow.com/questions/45579306/get-youtube-video-url-or-youtube-video-id-from-a-string-using-regex\n",
    "def get_id(url):\n",
    "    # function that extracts youtube video ID from a complete link\n",
    "    u_pars = urlparse(url)\n",
    "    quer_v = parse_qs(u_pars.query).get('v')\n",
    "    if quer_v:\n",
    "        return quer_v[0].strip()\n",
    "    pth = u_pars.path.split('/')\n",
    "    if pth:\n",
    "        return pth[-1].strip()"
   ]
  },
  {
   "cell_type": "code",
   "execution_count": 49,
   "id": "55e20890",
   "metadata": {},
   "outputs": [],
   "source": [
    "# extract video_id\n",
    "video_id = get_id(youtube_link)"
   ]
  },
  {
   "cell_type": "code",
   "execution_count": 50,
   "id": "d6a8fbae",
   "metadata": {},
   "outputs": [],
   "source": [
    "# Get API key and connect to Youtube API\n",
    "yt_api_key = os.environ.get('YT_API_KEY')\n",
    "yt_connection = build('youtube', 'v3', developerKey = yt_api_key)"
   ]
  },
  {
   "cell_type": "code",
   "execution_count": 51,
   "id": "6067debd",
   "metadata": {},
   "outputs": [],
   "source": [
    "# based on:\n",
    "# https://www.geeksforgeeks.org/how-to-extract-youtube-comments-using-youtube-api-python/\n",
    "def video_comments(video_id: str, limit: int = 2000) -> List:\n",
    "    # function that extracts comments from a video\n",
    "    # empty list for storing replies\n",
    "    replies = []\n",
    "    all_replies = []\n",
    "    # creating youtube resource object\n",
    "    yt_connection = build('youtube', 'v3', developerKey = yt_api_key)\n",
    " \n",
    "    # retrieve youtube video results\n",
    "    video_response=yt_connection.commentThreads().list(\n",
    "        part='snippet,replies',\n",
    "        videoId=video_id,\n",
    "        maxResults = 100 # MAX 100\n",
    "        ).execute()\n",
    "    # iterate video response\n",
    "    while video_response:\n",
    "        # extracting required info\n",
    "        # from each result object\n",
    "        for item in video_response['items']:\n",
    "            # Extracting comments\n",
    "            comment = item['snippet']['topLevelComment']['snippet']['textDisplay']\n",
    "            all_replies.append(comment)\n",
    "            # counting number of reply of comment\n",
    "            replycount = item['snippet']['totalReplyCount']\n",
    " \n",
    "            # if reply is there\n",
    "            if replycount>0:\n",
    "               \n",
    "                # iterate through all reply\n",
    "                for reply in item['replies']['comments']:\n",
    "                   \n",
    "                    # Extract reply\n",
    "                    reply = reply['snippet']['textDisplay']\n",
    "                    \n",
    "                    # Store reply is list\n",
    "                    replies.append(reply)\n",
    "                    all_replies.append(reply)\n",
    " \n",
    "            # empty reply list\n",
    "            replies = []\n",
    "        if len(all_replies) > limit:\n",
    "            break\n",
    "         #Again repeat\n",
    "        if 'nextPageToken' in video_response:\n",
    "            video_response = yt_connection.commentThreads().list(\n",
    "                    part = 'snippet,replies',\n",
    "                    videoId = video_id,\n",
    "                    maxResults = 100,\n",
    "                    pageToken=video_response['nextPageToken']\n",
    "                    ).execute()\n",
    "        else:\n",
    "            break\n",
    "    return all_replies"
   ]
  },
  {
   "cell_type": "code",
   "execution_count": 52,
   "id": "75403097",
   "metadata": {},
   "outputs": [],
   "source": [
    "# Call function\n",
    "result = video_comments(video_id)"
   ]
  },
  {
   "cell_type": "code",
   "execution_count": 53,
   "id": "9fcd9f34",
   "metadata": {},
   "outputs": [],
   "source": [
    "# get the title of the video\n",
    "response_title = yt_connection.videos().list(\n",
    "     part = 'snippet',\n",
    "     id = video_id\n",
    ").execute()\n",
    "\n",
    "video_title = response_title['items'][0]['snippet']['title']"
   ]
  },
  {
   "cell_type": "code",
   "execution_count": 54,
   "id": "7737b734",
   "metadata": {},
   "outputs": [],
   "source": [
    "df_comments = pd.DataFrame({\"Comment\":result})"
   ]
  },
  {
   "cell_type": "code",
   "execution_count": 55,
   "id": "630e61f3",
   "metadata": {},
   "outputs": [
    {
     "name": "stdout",
     "output_type": "stream",
     "text": [
      "Video title:\n",
      "Kwiat Jabłoni - „Byłominęło”\n",
      "\n",
      "Number of comments that have been found: \n",
      "635\n"
     ]
    }
   ],
   "source": [
    "print(\"Video title:\\n{}\\n\\nNumber of comments that have been found: \\n{}\".format(video_title,len(result)))"
   ]
  },
  {
   "cell_type": "code",
   "execution_count": 56,
   "id": "8bff4a75",
   "metadata": {},
   "outputs": [
    {
     "data": {
      "text/html": [
       "<div>\n",
       "<style scoped>\n",
       "    .dataframe tbody tr th:only-of-type {\n",
       "        vertical-align: middle;\n",
       "    }\n",
       "\n",
       "    .dataframe tbody tr th {\n",
       "        vertical-align: top;\n",
       "    }\n",
       "\n",
       "    .dataframe thead th {\n",
       "        text-align: right;\n",
       "    }\n",
       "</style>\n",
       "<table border=\"1\" class=\"dataframe\">\n",
       "  <thead>\n",
       "    <tr style=\"text-align: right;\">\n",
       "      <th></th>\n",
       "      <th>Comment</th>\n",
       "    </tr>\n",
       "  </thead>\n",
       "  <tbody>\n",
       "    <tr>\n",
       "      <th>535</th>\n",
       "      <td>Cudowna nuta od razu wpada w ucho, coś czuję ż...</td>\n",
       "    </tr>\n",
       "    <tr>\n",
       "      <th>536</th>\n",
       "      <td>Jak zwykle rewelacja 🔥 pozdrawiam 🤗</td>\n",
       "    </tr>\n",
       "    <tr>\n",
       "      <th>537</th>\n",
       "      <td>:-D już uwielbiam, jak dwie poprzednie 💃🕺</td>\n",
       "    </tr>\n",
       "    <tr>\n",
       "      <th>538</th>\n",
       "      <td>Cudo ! Każda kolejna piosenka jest piękniejsza !</td>\n",
       "    </tr>\n",
       "    <tr>\n",
       "      <th>539</th>\n",
       "      <td>Nie wiem czy wiecie, ale macie też ogromną wid...</td>\n",
       "    </tr>\n",
       "    <tr>\n",
       "      <th>...</th>\n",
       "      <td>...</td>\n",
       "    </tr>\n",
       "    <tr>\n",
       "      <th>630</th>\n",
       "      <td>Gdzie masz filozofię? To zwykły pop czy inne d...</td>\n",
       "    </tr>\n",
       "    <tr>\n",
       "      <th>631</th>\n",
       "      <td>Po samym klipie, wiem już, że to będzie cudo&lt;b...</td>\n",
       "    </tr>\n",
       "    <tr>\n",
       "      <th>632</th>\n",
       "      <td>CZEKAMY!!!!❤️❤️❤️🌸🌸🌸</td>\n",
       "    </tr>\n",
       "    <tr>\n",
       "      <th>633</th>\n",
       "      <td>Sprzedaj nam koszulki z podobizną Jacka prosze</td>\n",
       "    </tr>\n",
       "    <tr>\n",
       "      <th>634</th>\n",
       "      <td>Posłuchaj w cyfrze: &lt;a href=\"https://kwiatjabl...</td>\n",
       "    </tr>\n",
       "  </tbody>\n",
       "</table>\n",
       "<p>100 rows × 1 columns</p>\n",
       "</div>"
      ],
      "text/plain": [
       "                                               Comment\n",
       "535  Cudowna nuta od razu wpada w ucho, coś czuję ż...\n",
       "536                Jak zwykle rewelacja 🔥 pozdrawiam 🤗\n",
       "537          :-D już uwielbiam, jak dwie poprzednie 💃🕺\n",
       "538   Cudo ! Każda kolejna piosenka jest piękniejsza !\n",
       "539  Nie wiem czy wiecie, ale macie też ogromną wid...\n",
       "..                                                 ...\n",
       "630  Gdzie masz filozofię? To zwykły pop czy inne d...\n",
       "631  Po samym klipie, wiem już, że to będzie cudo<b...\n",
       "632                               CZEKAMY!!!!❤️❤️❤️🌸🌸🌸\n",
       "633     Sprzedaj nam koszulki z podobizną Jacka prosze\n",
       "634  Posłuchaj w cyfrze: <a href=\"https://kwiatjabl...\n",
       "\n",
       "[100 rows x 1 columns]"
      ]
     },
     "execution_count": 56,
     "metadata": {},
     "output_type": "execute_result"
    }
   ],
   "source": [
    "df_comments.tail(100)"
   ]
  },
  {
   "cell_type": "code",
   "execution_count": 58,
   "id": "08b1fae5",
   "metadata": {},
   "outputs": [
    {
     "name": "stdout",
     "output_type": "stream",
     "text": [
      "Today's date: 10_29\n"
     ]
    }
   ],
   "source": [
    "# SAVE TO .xlsx FILE\n",
    "\n",
    "# from datetime import date\n",
    "\n",
    "# today = str(date.today())[5:].replace('-','_')\n",
    "# print(\"Today's date:\", today)\n",
    "# # dictionary of lists\n",
    "# comms = {f'Comments- video title:{video_title}, link:{youtube_link}':result} \n",
    "# df_save = pd.DataFrame(comms)\n",
    "# path = r'C:\\Users\\Chill\\Desktop\\INZYNIERKA\\dane\\extracted_comments\\comms{}.xlsx'.format(today)\n",
    "# # saving the dataframe\n",
    "# df_save.to_excel(path, index=False, header=True,encoding=\"utf-8\")"
   ]
  },
  {
   "cell_type": "code",
   "execution_count": null,
   "id": "26226eda",
   "metadata": {},
   "outputs": [],
   "source": []
  }
 ],
 "metadata": {
  "kernelspec": {
   "display_name": "Python 3",
   "language": "python",
   "name": "python3"
  },
  "language_info": {
   "codemirror_mode": {
    "name": "ipython",
    "version": 3
   },
   "file_extension": ".py",
   "mimetype": "text/x-python",
   "name": "python",
   "nbconvert_exporter": "python",
   "pygments_lexer": "ipython3",
   "version": "3.8.8"
  }
 },
 "nbformat": 4,
 "nbformat_minor": 5
}
